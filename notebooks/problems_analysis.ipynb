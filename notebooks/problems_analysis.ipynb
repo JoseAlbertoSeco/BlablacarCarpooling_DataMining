{
  "nbformat": 4,
  "nbformat_minor": 0,
  "metadata": {
    "colab": {
      "name": "problems_analysis.ipynb",
      "provenance": [],
      "collapsed_sections": []
    },
    "kernelspec": {
      "name": "python3",
      "display_name": "Python 3"
    },
    "language_info": {
      "name": "python"
    }
  },
  "cells": [
    {
      "cell_type": "code",
      "source": [
        "import pandas as pd\n",
        "import os"
      ],
      "metadata": {
        "id": "KXse09Gr_8Q_"
      },
      "execution_count": null,
      "outputs": []
    },
    {
      "cell_type": "markdown",
      "source": [
        "Primer acercamiento a los datos, realizamos un primer analisis de datos y una primera toma de contacto con los problemas encontrados en ellos "
      ],
      "metadata": {
        "id": "LMQScJnL_-G6"
      }
    },
    {
      "cell_type": "code",
      "source": [
        "from google.colab import drive\n",
        "drive.mount('/content/drive')"
      ],
      "metadata": {
        "colab": {
          "base_uri": "https://localhost:8080/"
        },
        "id": "lE4GoiqA_fmp",
        "outputId": "7887bd0b-4b18-404d-b5ea-2b4a1a5899da"
      },
      "execution_count": null,
      "outputs": [
        {
          "output_type": "stream",
          "name": "stdout",
          "text": [
            "Drive already mounted at /content/drive; to attempt to forcibly remount, call drive.mount(\"/content/drive\", force_remount=True).\n"
          ]
        }
      ]
    },
    {
      "cell_type": "code",
      "source": [
        "df = pd.read_csv('/content/drive/MyDrive/Datos/DATOS_BLABLACAR.txt', sep = \"|\")"
      ],
      "metadata": {
        "id": "-TTfotT3ADat"
      },
      "execution_count": null,
      "outputs": []
    },
    {
      "cell_type": "markdown",
      "source": [
        "Columnas y tipos de columnas"
      ],
      "metadata": {
        "id": "9JqocY-WAN6Z"
      }
    },
    {
      "cell_type": "code",
      "source": [
        "df.dtypes"
      ],
      "metadata": {
        "colab": {
          "base_uri": "https://localhost:8080/"
        },
        "id": "1-lI2_zpAG3e",
        "outputId": "31eae653-e595-4044-a32c-5a6bfd103ada"
      },
      "execution_count": null,
      "outputs": [
        {
          "output_type": "execute_result",
          "data": {
            "text/plain": [
              "DIA                      object\n",
              "PAIS                     object\n",
              "ORIGEN                   object\n",
              "DESTINO                  object\n",
              "IMP_KM                  float64\n",
              "ASIENTOS_OFERTADOS      float64\n",
              "ASIENTOS_CONFIRMADOS      int64\n",
              "VIAJES_OFERTADOS          int64\n",
              "VIAJES_CONFIRMADOS        int64\n",
              "OFERTANTES                int64\n",
              "OFERTANTES_NUEVOS         int64\n",
              "dtype: object"
            ]
          },
          "metadata": {},
          "execution_count": 5
        }
      ]
    },
    {
      "cell_type": "markdown",
      "source": [
        "Descripción general"
      ],
      "metadata": {
        "id": "AiEzuikkARLj"
      }
    },
    {
      "cell_type": "code",
      "source": [
        "df.describe()"
      ],
      "metadata": {
        "colab": {
          "base_uri": "https://localhost:8080/",
          "height": 300
        },
        "id": "1TwmYNJ8AP9j",
        "outputId": "a675055d-93e9-4be0-f8ce-e202e2dbca6c"
      },
      "execution_count": null,
      "outputs": [
        {
          "output_type": "execute_result",
          "data": {
            "text/html": [
              "<div>\n",
              "<style scoped>\n",
              "    .dataframe tbody tr th:only-of-type {\n",
              "        vertical-align: middle;\n",
              "    }\n",
              "\n",
              "    .dataframe tbody tr th {\n",
              "        vertical-align: top;\n",
              "    }\n",
              "\n",
              "    .dataframe thead th {\n",
              "        text-align: right;\n",
              "    }\n",
              "</style>\n",
              "<table border=\"1\" class=\"dataframe\">\n",
              "  <thead>\n",
              "    <tr style=\"text-align: right;\">\n",
              "      <th></th>\n",
              "      <th>IMP_KM</th>\n",
              "      <th>ASIENTOS_OFERTADOS</th>\n",
              "      <th>ASIENTOS_CONFIRMADOS</th>\n",
              "      <th>VIAJES_OFERTADOS</th>\n",
              "      <th>VIAJES_CONFIRMADOS</th>\n",
              "      <th>OFERTANTES</th>\n",
              "      <th>OFERTANTES_NUEVOS</th>\n",
              "    </tr>\n",
              "  </thead>\n",
              "  <tbody>\n",
              "    <tr>\n",
              "      <th>count</th>\n",
              "      <td>1.411561e+06</td>\n",
              "      <td>1.134691e+07</td>\n",
              "      <td>1.134691e+07</td>\n",
              "      <td>1.134691e+07</td>\n",
              "      <td>1.134691e+07</td>\n",
              "      <td>1.134691e+07</td>\n",
              "      <td>1.134691e+07</td>\n",
              "    </tr>\n",
              "    <tr>\n",
              "      <th>mean</th>\n",
              "      <td>5.594201e-02</td>\n",
              "      <td>5.051199e+00</td>\n",
              "      <td>5.376605e-01</td>\n",
              "      <td>2.432242e+00</td>\n",
              "      <td>3.317467e-01</td>\n",
              "      <td>2.278250e+00</td>\n",
              "      <td>2.095980e-01</td>\n",
              "    </tr>\n",
              "    <tr>\n",
              "      <th>std</th>\n",
              "      <td>9.954113e-03</td>\n",
              "      <td>1.187642e+01</td>\n",
              "      <td>4.300127e+00</td>\n",
              "      <td>5.548334e+00</td>\n",
              "      <td>2.137671e+00</td>\n",
              "      <td>5.173927e+00</td>\n",
              "      <td>6.290458e-01</td>\n",
              "    </tr>\n",
              "    <tr>\n",
              "      <th>min</th>\n",
              "      <td>1.258492e-03</td>\n",
              "      <td>-4.000000e+00</td>\n",
              "      <td>0.000000e+00</td>\n",
              "      <td>1.000000e+00</td>\n",
              "      <td>0.000000e+00</td>\n",
              "      <td>1.000000e+00</td>\n",
              "      <td>0.000000e+00</td>\n",
              "    </tr>\n",
              "    <tr>\n",
              "      <th>25%</th>\n",
              "      <td>4.929144e-02</td>\n",
              "      <td>2.000000e+00</td>\n",
              "      <td>0.000000e+00</td>\n",
              "      <td>1.000000e+00</td>\n",
              "      <td>0.000000e+00</td>\n",
              "      <td>1.000000e+00</td>\n",
              "      <td>0.000000e+00</td>\n",
              "    </tr>\n",
              "    <tr>\n",
              "      <th>50%</th>\n",
              "      <td>5.555556e-02</td>\n",
              "      <td>3.000000e+00</td>\n",
              "      <td>0.000000e+00</td>\n",
              "      <td>1.000000e+00</td>\n",
              "      <td>0.000000e+00</td>\n",
              "      <td>1.000000e+00</td>\n",
              "      <td>0.000000e+00</td>\n",
              "    </tr>\n",
              "    <tr>\n",
              "      <th>75%</th>\n",
              "      <td>6.026786e-02</td>\n",
              "      <td>4.000000e+00</td>\n",
              "      <td>0.000000e+00</td>\n",
              "      <td>2.000000e+00</td>\n",
              "      <td>0.000000e+00</td>\n",
              "      <td>2.000000e+00</td>\n",
              "      <td>0.000000e+00</td>\n",
              "    </tr>\n",
              "    <tr>\n",
              "      <th>max</th>\n",
              "      <td>4.117647e-01</td>\n",
              "      <td>1.509000e+03</td>\n",
              "      <td>1.333000e+03</td>\n",
              "      <td>6.970000e+02</td>\n",
              "      <td>5.530000e+02</td>\n",
              "      <td>6.600000e+02</td>\n",
              "      <td>9.000000e+01</td>\n",
              "    </tr>\n",
              "  </tbody>\n",
              "</table>\n",
              "</div>"
            ],
            "text/plain": [
              "             IMP_KM  ASIENTOS_OFERTADOS  ...    OFERTANTES  OFERTANTES_NUEVOS\n",
              "count  1.411561e+06        1.134691e+07  ...  1.134691e+07       1.134691e+07\n",
              "mean   5.594201e-02        5.051199e+00  ...  2.278250e+00       2.095980e-01\n",
              "std    9.954113e-03        1.187642e+01  ...  5.173927e+00       6.290458e-01\n",
              "min    1.258492e-03       -4.000000e+00  ...  1.000000e+00       0.000000e+00\n",
              "25%    4.929144e-02        2.000000e+00  ...  1.000000e+00       0.000000e+00\n",
              "50%    5.555556e-02        3.000000e+00  ...  1.000000e+00       0.000000e+00\n",
              "75%    6.026786e-02        4.000000e+00  ...  2.000000e+00       0.000000e+00\n",
              "max    4.117647e-01        1.509000e+03  ...  6.600000e+02       9.000000e+01\n",
              "\n",
              "[8 rows x 7 columns]"
            ]
          },
          "metadata": {},
          "execution_count": 6
        }
      ]
    },
    {
      "cell_type": "markdown",
      "source": [
        "Valores nulos"
      ],
      "metadata": {
        "id": "iHhsj5p-AUjM"
      }
    },
    {
      "cell_type": "code",
      "source": [
        "df.isnull().values.any()"
      ],
      "metadata": {
        "colab": {
          "base_uri": "https://localhost:8080/"
        },
        "id": "woHrrT2OAWPH",
        "outputId": "2a797e37-87ab-4fae-fa1b-a768c5710c71"
      },
      "execution_count": null,
      "outputs": [
        {
          "output_type": "execute_result",
          "data": {
            "text/plain": [
              "True"
            ]
          },
          "metadata": {},
          "execution_count": 7
        }
      ]
    },
    {
      "cell_type": "markdown",
      "source": [
        "Número total de valores nulos por columna"
      ],
      "metadata": {
        "id": "jumESrHvAYqA"
      }
    },
    {
      "cell_type": "code",
      "source": [
        "df.isnull().sum()"
      ],
      "metadata": {
        "colab": {
          "base_uri": "https://localhost:8080/"
        },
        "id": "qoVBa0K_Aatj",
        "outputId": "2c822c9a-802f-42d5-d1b9-b8b1bb6fa053"
      },
      "execution_count": null,
      "outputs": [
        {
          "output_type": "execute_result",
          "data": {
            "text/plain": [
              "DIA                           0\n",
              "PAIS                          0\n",
              "ORIGEN                        0\n",
              "DESTINO                       0\n",
              "IMP_KM                  9935353\n",
              "ASIENTOS_OFERTADOS            1\n",
              "ASIENTOS_CONFIRMADOS          0\n",
              "VIAJES_OFERTADOS              0\n",
              "VIAJES_CONFIRMADOS            0\n",
              "OFERTANTES                    0\n",
              "OFERTANTES_NUEVOS             0\n",
              "dtype: int64"
            ]
          },
          "metadata": {},
          "execution_count": 8
        }
      ]
    },
    {
      "cell_type": "markdown",
      "source": [
        "Filas y columnas iniciales"
      ],
      "metadata": {
        "id": "pReoUiSrAezf"
      }
    },
    {
      "cell_type": "code",
      "source": [
        "df.shape"
      ],
      "metadata": {
        "colab": {
          "base_uri": "https://localhost:8080/"
        },
        "id": "HCfIvG6XAhsI",
        "outputId": "fc89340d-38c2-4255-d0ce-00a2c037cf7b"
      },
      "execution_count": null,
      "outputs": [
        {
          "output_type": "execute_result",
          "data": {
            "text/plain": [
              "(11346914, 11)"
            ]
          },
          "metadata": {},
          "execution_count": 9
        }
      ]
    },
    {
      "cell_type": "markdown",
      "source": [
        "Una vez comprobados los valores extraeremos el porcentaje IMP_KM de valores nulos:"
      ],
      "metadata": {
        "id": "qxQGB5FGAkQZ"
      }
    },
    {
      "cell_type": "code",
      "source": [
        "df['IMP_KM'].isnull().sum()*100/len(df.index)"
      ],
      "metadata": {
        "colab": {
          "base_uri": "https://localhost:8080/"
        },
        "id": "WQI5lHa_AkFU",
        "outputId": "3877c4ba-95c1-4cfc-9b46-6bae2f48441e"
      },
      "execution_count": null,
      "outputs": [
        {
          "output_type": "execute_result",
          "data": {
            "text/plain": [
              "87.55995683055322"
            ]
          },
          "metadata": {},
          "execution_count": 11
        }
      ]
    },
    {
      "cell_type": "code",
      "execution_count": null,
      "metadata": {
        "id": "2hhYI2ND93qX"
      },
      "outputs": [],
      "source": [
        "def analisis_problemas():\n",
        "    no_seats_oferrs = df[df['ASIENTOS_OFERTADOS'] == 0]\n",
        "    print('Viajes sin asientos ofertados: ', len(no_seats_oferrs.index),\n",
        "        '\\tPorcentaje: ', (len(no_seats_oferrs.index)*100)/len(df.index),'%')\n",
        "    \n",
        "    empty_tavel =  df[df['ASIENTOS_CONFIRMADOS'] == 0]\n",
        "    print('Viajes sin asientos confirmados: ', len(empty_tavel.index),\n",
        "        '\\tPorcentaje: ', (len(empty_tavel.index)*100)/len(df.index),'%')\n",
        "\n",
        "    pt = df[df['PAIS'] != 'es']\n",
        "    print('Viajes que inician o acaban en Portugal: ', len(pt.index),\n",
        "            '\\tPorcentaje: ', (len(pt.index)*100)/len(df.index),'%')"
      ]
    },
    {
      "cell_type": "code",
      "source": [
        "analisis_problemas()"
      ],
      "metadata": {
        "colab": {
          "base_uri": "https://localhost:8080/"
        },
        "id": "q6O__4-bAx-g",
        "outputId": "193af3aa-8e76-462d-9a70-4bbb28b08d36"
      },
      "execution_count": null,
      "outputs": [
        {
          "output_type": "stream",
          "name": "stdout",
          "text": [
            "Viajes sin asientos ofertados:  1057077 \tPorcentaje:  9.315986707927811 %\n",
            "Viajes sin asientos confirmados:  9935352 \tPorcentaje:  87.55994801758435 %\n",
            "Viajes que inician o acaban en Portugal:  491051 \tPorcentaje:  4.327617182962698 %\n"
          ]
        }
      ]
    }
  ]
}