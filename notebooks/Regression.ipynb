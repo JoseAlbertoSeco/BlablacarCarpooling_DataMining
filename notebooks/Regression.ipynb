{
  "nbformat": 4,
  "nbformat_minor": 0,
  "metadata": {
    "colab": {
      "name": "Regression.ipynb",
      "provenance": [],
      "collapsed_sections": [],
      "authorship_tag": "ABX9TyPXsNnrVKjCfqtc40CgEZTC",
      "include_colab_link": true
    },
    "kernelspec": {
      "name": "python3",
      "display_name": "Python 3"
    },
    "language_info": {
      "name": "python"
    }
  },
  "cells": [
    {
      "cell_type": "markdown",
      "metadata": {
        "id": "view-in-github",
        "colab_type": "text"
      },
      "source": [
        "<a href=\"https://colab.research.google.com/github/JoseAlbertoSeco/BlablacarCarpooling_DataMining/blob/Patterns/notebooks/Regression.ipynb\" target=\"_parent\"><img src=\"https://colab.research.google.com/assets/colab-badge.svg\" alt=\"Open In Colab\"/></a>"
      ]
    },
    {
      "cell_type": "code",
      "execution_count": 56,
      "metadata": {
        "id": "XntheoF5qdJI"
      },
      "outputs": [],
      "source": [
        "import pandas as pd\n",
        "import matplotlib.pyplot as plt\n",
        "import numpy as np\n",
        "import seaborn as sns\n",
        "\n",
        "from sklearn.model_selection import train_test_split\n",
        "from sklearn import neighbors\n",
        "from sklearn.model_selection import KFold\n",
        "from sklearn.metrics import mean_absolute_error\n",
        "from sklearn import metrics\n",
        "from sklearn import linear_model\n",
        "from sklearn import tree "
      ]
    },
    {
      "cell_type": "markdown",
      "source": [
        "# Carga de datos"
      ],
      "metadata": {
        "id": "m2TqZWvwtAIi"
      }
    },
    {
      "cell_type": "code",
      "source": [
        "!wget https://github.com/JoseAlbertoSeco/MineriaDatos/raw/main/data/processed/df_CLM.csv\n",
        "!wget https://github.com/JoseAlbertoSeco/MineriaDatos/raw/main/data/processed/df_Andalucia.csv"
      ],
      "metadata": {
        "colab": {
          "base_uri": "https://localhost:8080/"
        },
        "id": "oLWXXdwwrS8T",
        "outputId": "435143b0-d078-47c3-a20d-48795d86b215"
      },
      "execution_count": 25,
      "outputs": [
        {
          "output_type": "stream",
          "name": "stdout",
          "text": [
            "--2021-12-29 11:15:53--  https://github.com/JoseAlbertoSeco/MineriaDatos/raw/main/data/processed/df_CLM.csv\n",
            "Resolving github.com (github.com)... 140.82.114.3\n",
            "Connecting to github.com (github.com)|140.82.114.3|:443... connected.\n",
            "HTTP request sent, awaiting response... 301 Moved Permanently\n",
            "Location: https://github.com/JoseAlbertoSeco/BlablacarCarpooling_DataMining/raw/main/data/processed/df_CLM.csv [following]\n",
            "--2021-12-29 11:15:53--  https://github.com/JoseAlbertoSeco/BlablacarCarpooling_DataMining/raw/main/data/processed/df_CLM.csv\n",
            "Reusing existing connection to github.com:443.\n",
            "HTTP request sent, awaiting response... 302 Found\n",
            "Location: https://raw.githubusercontent.com/JoseAlbertoSeco/BlablacarCarpooling_DataMining/main/data/processed/df_CLM.csv [following]\n",
            "--2021-12-29 11:15:53--  https://raw.githubusercontent.com/JoseAlbertoSeco/BlablacarCarpooling_DataMining/main/data/processed/df_CLM.csv\n",
            "Resolving raw.githubusercontent.com (raw.githubusercontent.com)... 185.199.110.133, 185.199.111.133, 185.199.109.133, ...\n",
            "Connecting to raw.githubusercontent.com (raw.githubusercontent.com)|185.199.110.133|:443... connected.\n",
            "HTTP request sent, awaiting response... 200 OK\n",
            "Length: 340042 (332K) [text/plain]\n",
            "Saving to: ‘df_CLM.csv’\n",
            "\n",
            "df_CLM.csv          100%[===================>] 332.07K  --.-KB/s    in 0.004s  \n",
            "\n",
            "2021-12-29 11:15:53 (84.1 MB/s) - ‘df_CLM.csv’ saved [340042/340042]\n",
            "\n",
            "--2021-12-29 11:15:53--  https://github.com/JoseAlbertoSeco/MineriaDatos/raw/main/data/processed/df_Andalucia.csv\n",
            "Resolving github.com (github.com)... 140.82.114.4\n",
            "Connecting to github.com (github.com)|140.82.114.4|:443... connected.\n",
            "HTTP request sent, awaiting response... 301 Moved Permanently\n",
            "Location: https://github.com/JoseAlbertoSeco/BlablacarCarpooling_DataMining/raw/main/data/processed/df_Andalucia.csv [following]\n",
            "--2021-12-29 11:15:53--  https://github.com/JoseAlbertoSeco/BlablacarCarpooling_DataMining/raw/main/data/processed/df_Andalucia.csv\n",
            "Reusing existing connection to github.com:443.\n",
            "HTTP request sent, awaiting response... 302 Found\n",
            "Location: https://raw.githubusercontent.com/JoseAlbertoSeco/BlablacarCarpooling_DataMining/main/data/processed/df_Andalucia.csv [following]\n",
            "--2021-12-29 11:15:54--  https://raw.githubusercontent.com/JoseAlbertoSeco/BlablacarCarpooling_DataMining/main/data/processed/df_Andalucia.csv\n",
            "Resolving raw.githubusercontent.com (raw.githubusercontent.com)... 185.199.108.133, 185.199.109.133, 185.199.110.133, ...\n",
            "Connecting to raw.githubusercontent.com (raw.githubusercontent.com)|185.199.108.133|:443... connected.\n",
            "HTTP request sent, awaiting response... 200 OK\n",
            "Length: 3126225 (3.0M) [text/plain]\n",
            "Saving to: ‘df_Andalucia.csv’\n",
            "\n",
            "df_Andalucia.csv    100%[===================>]   2.98M  --.-KB/s    in 0.01s   \n",
            "\n",
            "2021-12-29 11:15:54 (242 MB/s) - ‘df_Andalucia.csv’ saved [3126225/3126225]\n",
            "\n"
          ]
        }
      ]
    },
    {
      "cell_type": "markdown",
      "source": [
        "## Carga provincial"
      ],
      "metadata": {
        "id": "bbOtxrMltCkK"
      }
    },
    {
      "cell_type": "code",
      "source": [
        "andalucia = pd.read_csv(\"df_Andalucia.csv\") \n",
        "andalucia = andalucia.drop(andalucia.columns[[0]], axis=1)\n",
        "andalucia.head(3)"
      ],
      "metadata": {
        "colab": {
          "base_uri": "https://localhost:8080/",
          "height": 276
        },
        "id": "B_LGwaGzrnny",
        "outputId": "43c8d0be-f7dd-43ed-ac05-5d4b1808e7f0"
      },
      "execution_count": 26,
      "outputs": [
        {
          "output_type": "execute_result",
          "data": {
            "text/html": [
              "\n",
              "  <div id=\"df-3f1068cc-a9ea-432a-bfe3-c0ffcf2d207e\">\n",
              "    <div class=\"colab-df-container\">\n",
              "      <div>\n",
              "<style scoped>\n",
              "    .dataframe tbody tr th:only-of-type {\n",
              "        vertical-align: middle;\n",
              "    }\n",
              "\n",
              "    .dataframe tbody tr th {\n",
              "        vertical-align: top;\n",
              "    }\n",
              "\n",
              "    .dataframe thead th {\n",
              "        text-align: right;\n",
              "    }\n",
              "</style>\n",
              "<table border=\"1\" class=\"dataframe\">\n",
              "  <thead>\n",
              "    <tr style=\"text-align: right;\">\n",
              "      <th></th>\n",
              "      <th>DIA</th>\n",
              "      <th>AÑO</th>\n",
              "      <th>SEMANA</th>\n",
              "      <th>MES</th>\n",
              "      <th>PAIS</th>\n",
              "      <th>ORIGEN</th>\n",
              "      <th>DESTINO</th>\n",
              "      <th>ASIENTOS_OFERTADOS</th>\n",
              "      <th>ASIENTOS_CONFIRMADOS</th>\n",
              "      <th>VIAJES_OFERTADOS</th>\n",
              "      <th>VIAJES_CONFIRMADOS</th>\n",
              "      <th>OFERTANTES</th>\n",
              "      <th>OFERTANTES_NUEVOS</th>\n",
              "      <th>CA_ORIGEN</th>\n",
              "      <th>CA_DESTINO</th>\n",
              "      <th>PROVINCIA_ORIGEN</th>\n",
              "      <th>PROVINCIA_DESTINO</th>\n",
              "      <th>INTERPROVINCIAL</th>\n",
              "    </tr>\n",
              "  </thead>\n",
              "  <tbody>\n",
              "    <tr>\n",
              "      <th>0</th>\n",
              "      <td>2019-08-28</td>\n",
              "      <td>2019</td>\n",
              "      <td>35</td>\n",
              "      <td>8</td>\n",
              "      <td>es</td>\n",
              "      <td>Sevilla</td>\n",
              "      <td>Granada</td>\n",
              "      <td>62.0</td>\n",
              "      <td>25</td>\n",
              "      <td>25</td>\n",
              "      <td>14</td>\n",
              "      <td>25</td>\n",
              "      <td>0</td>\n",
              "      <td>Andalucía</td>\n",
              "      <td>Andalucía</td>\n",
              "      <td>Sevilla</td>\n",
              "      <td>Granada</td>\n",
              "      <td>No</td>\n",
              "    </tr>\n",
              "    <tr>\n",
              "      <th>1</th>\n",
              "      <td>2019-08-28</td>\n",
              "      <td>2019</td>\n",
              "      <td>35</td>\n",
              "      <td>8</td>\n",
              "      <td>es</td>\n",
              "      <td>Sevilla</td>\n",
              "      <td>Jerez de la Frontera</td>\n",
              "      <td>109.0</td>\n",
              "      <td>15</td>\n",
              "      <td>39</td>\n",
              "      <td>10</td>\n",
              "      <td>35</td>\n",
              "      <td>3</td>\n",
              "      <td>Andalucía</td>\n",
              "      <td>Andalucía</td>\n",
              "      <td>Sevilla</td>\n",
              "      <td>Cádiz</td>\n",
              "      <td>No</td>\n",
              "    </tr>\n",
              "    <tr>\n",
              "      <th>2</th>\n",
              "      <td>2019-08-28</td>\n",
              "      <td>2019</td>\n",
              "      <td>35</td>\n",
              "      <td>8</td>\n",
              "      <td>es</td>\n",
              "      <td>Sevilla</td>\n",
              "      <td>Algeciras</td>\n",
              "      <td>29.0</td>\n",
              "      <td>6</td>\n",
              "      <td>11</td>\n",
              "      <td>4</td>\n",
              "      <td>10</td>\n",
              "      <td>1</td>\n",
              "      <td>Andalucía</td>\n",
              "      <td>Andalucía</td>\n",
              "      <td>Sevilla</td>\n",
              "      <td>Cádiz</td>\n",
              "      <td>No</td>\n",
              "    </tr>\n",
              "  </tbody>\n",
              "</table>\n",
              "</div>\n",
              "      <button class=\"colab-df-convert\" onclick=\"convertToInteractive('df-3f1068cc-a9ea-432a-bfe3-c0ffcf2d207e')\"\n",
              "              title=\"Convert this dataframe to an interactive table.\"\n",
              "              style=\"display:none;\">\n",
              "        \n",
              "  <svg xmlns=\"http://www.w3.org/2000/svg\" height=\"24px\"viewBox=\"0 0 24 24\"\n",
              "       width=\"24px\">\n",
              "    <path d=\"M0 0h24v24H0V0z\" fill=\"none\"/>\n",
              "    <path d=\"M18.56 5.44l.94 2.06.94-2.06 2.06-.94-2.06-.94-.94-2.06-.94 2.06-2.06.94zm-11 1L8.5 8.5l.94-2.06 2.06-.94-2.06-.94L8.5 2.5l-.94 2.06-2.06.94zm10 10l.94 2.06.94-2.06 2.06-.94-2.06-.94-.94-2.06-.94 2.06-2.06.94z\"/><path d=\"M17.41 7.96l-1.37-1.37c-.4-.4-.92-.59-1.43-.59-.52 0-1.04.2-1.43.59L10.3 9.45l-7.72 7.72c-.78.78-.78 2.05 0 2.83L4 21.41c.39.39.9.59 1.41.59.51 0 1.02-.2 1.41-.59l7.78-7.78 2.81-2.81c.8-.78.8-2.07 0-2.86zM5.41 20L4 18.59l7.72-7.72 1.47 1.35L5.41 20z\"/>\n",
              "  </svg>\n",
              "      </button>\n",
              "      \n",
              "  <style>\n",
              "    .colab-df-container {\n",
              "      display:flex;\n",
              "      flex-wrap:wrap;\n",
              "      gap: 12px;\n",
              "    }\n",
              "\n",
              "    .colab-df-convert {\n",
              "      background-color: #E8F0FE;\n",
              "      border: none;\n",
              "      border-radius: 50%;\n",
              "      cursor: pointer;\n",
              "      display: none;\n",
              "      fill: #1967D2;\n",
              "      height: 32px;\n",
              "      padding: 0 0 0 0;\n",
              "      width: 32px;\n",
              "    }\n",
              "\n",
              "    .colab-df-convert:hover {\n",
              "      background-color: #E2EBFA;\n",
              "      box-shadow: 0px 1px 2px rgba(60, 64, 67, 0.3), 0px 1px 3px 1px rgba(60, 64, 67, 0.15);\n",
              "      fill: #174EA6;\n",
              "    }\n",
              "\n",
              "    [theme=dark] .colab-df-convert {\n",
              "      background-color: #3B4455;\n",
              "      fill: #D2E3FC;\n",
              "    }\n",
              "\n",
              "    [theme=dark] .colab-df-convert:hover {\n",
              "      background-color: #434B5C;\n",
              "      box-shadow: 0px 1px 3px 1px rgba(0, 0, 0, 0.15);\n",
              "      filter: drop-shadow(0px 1px 2px rgba(0, 0, 0, 0.3));\n",
              "      fill: #FFFFFF;\n",
              "    }\n",
              "  </style>\n",
              "\n",
              "      <script>\n",
              "        const buttonEl =\n",
              "          document.querySelector('#df-3f1068cc-a9ea-432a-bfe3-c0ffcf2d207e button.colab-df-convert');\n",
              "        buttonEl.style.display =\n",
              "          google.colab.kernel.accessAllowed ? 'block' : 'none';\n",
              "\n",
              "        async function convertToInteractive(key) {\n",
              "          const element = document.querySelector('#df-3f1068cc-a9ea-432a-bfe3-c0ffcf2d207e');\n",
              "          const dataTable =\n",
              "            await google.colab.kernel.invokeFunction('convertToInteractive',\n",
              "                                                     [key], {});\n",
              "          if (!dataTable) return;\n",
              "\n",
              "          const docLinkHtml = 'Like what you see? Visit the ' +\n",
              "            '<a target=\"_blank\" href=https://colab.research.google.com/notebooks/data_table.ipynb>data table notebook</a>'\n",
              "            + ' to learn more about interactive tables.';\n",
              "          element.innerHTML = '';\n",
              "          dataTable['output_type'] = 'display_data';\n",
              "          await google.colab.output.renderOutput(dataTable, element);\n",
              "          const docLink = document.createElement('div');\n",
              "          docLink.innerHTML = docLinkHtml;\n",
              "          element.appendChild(docLink);\n",
              "        }\n",
              "      </script>\n",
              "    </div>\n",
              "  </div>\n",
              "  "
            ],
            "text/plain": [
              "          DIA   AÑO  SEMANA  ...  PROVINCIA_ORIGEN PROVINCIA_DESTINO INTERPROVINCIAL\n",
              "0  2019-08-28  2019      35  ...           Sevilla           Granada              No\n",
              "1  2019-08-28  2019      35  ...           Sevilla             Cádiz              No\n",
              "2  2019-08-28  2019      35  ...           Sevilla             Cádiz              No\n",
              "\n",
              "[3 rows x 18 columns]"
            ]
          },
          "metadata": {},
          "execution_count": 26
        }
      ]
    },
    {
      "cell_type": "code",
      "source": [
        "clm = pd.read_csv(\"df_CLM.csv\") \n",
        "clm = clm.drop(clm.columns[[0]], axis=1)\n",
        "clm.head(3)"
      ],
      "metadata": {
        "colab": {
          "base_uri": "https://localhost:8080/",
          "height": 260
        },
        "id": "SsjiznIbr3db",
        "outputId": "a1e8448e-32de-42de-9847-1151b117c370"
      },
      "execution_count": 27,
      "outputs": [
        {
          "output_type": "execute_result",
          "data": {
            "text/html": [
              "\n",
              "  <div id=\"df-1509adb5-3899-4f0b-8a5a-d5cd1627b67d\">\n",
              "    <div class=\"colab-df-container\">\n",
              "      <div>\n",
              "<style scoped>\n",
              "    .dataframe tbody tr th:only-of-type {\n",
              "        vertical-align: middle;\n",
              "    }\n",
              "\n",
              "    .dataframe tbody tr th {\n",
              "        vertical-align: top;\n",
              "    }\n",
              "\n",
              "    .dataframe thead th {\n",
              "        text-align: right;\n",
              "    }\n",
              "</style>\n",
              "<table border=\"1\" class=\"dataframe\">\n",
              "  <thead>\n",
              "    <tr style=\"text-align: right;\">\n",
              "      <th></th>\n",
              "      <th>DIA</th>\n",
              "      <th>AÑO</th>\n",
              "      <th>SEMANA</th>\n",
              "      <th>MES</th>\n",
              "      <th>PAIS</th>\n",
              "      <th>ORIGEN</th>\n",
              "      <th>DESTINO</th>\n",
              "      <th>ASIENTOS_OFERTADOS</th>\n",
              "      <th>ASIENTOS_CONFIRMADOS</th>\n",
              "      <th>VIAJES_OFERTADOS</th>\n",
              "      <th>VIAJES_CONFIRMADOS</th>\n",
              "      <th>OFERTANTES</th>\n",
              "      <th>OFERTANTES_NUEVOS</th>\n",
              "      <th>CA_ORIGEN</th>\n",
              "      <th>CA_DESTINO</th>\n",
              "      <th>PROVINCIA_ORIGEN</th>\n",
              "      <th>PROVINCIA_DESTINO</th>\n",
              "      <th>INTERPROVINCIAL</th>\n",
              "    </tr>\n",
              "  </thead>\n",
              "  <tbody>\n",
              "    <tr>\n",
              "      <th>0</th>\n",
              "      <td>2019-09-01</td>\n",
              "      <td>2019</td>\n",
              "      <td>35</td>\n",
              "      <td>9</td>\n",
              "      <td>es</td>\n",
              "      <td>Tarancón</td>\n",
              "      <td>Albacete</td>\n",
              "      <td>8.0</td>\n",
              "      <td>1</td>\n",
              "      <td>7</td>\n",
              "      <td>1</td>\n",
              "      <td>7</td>\n",
              "      <td>0</td>\n",
              "      <td>Castilla-La Mancha</td>\n",
              "      <td>Castilla-La Mancha</td>\n",
              "      <td>Cuenca</td>\n",
              "      <td>Albacete</td>\n",
              "      <td>No</td>\n",
              "    </tr>\n",
              "    <tr>\n",
              "      <th>1</th>\n",
              "      <td>2018-05-01</td>\n",
              "      <td>2018</td>\n",
              "      <td>18</td>\n",
              "      <td>5</td>\n",
              "      <td>es</td>\n",
              "      <td>Tarancón</td>\n",
              "      <td>Albacete</td>\n",
              "      <td>10.0</td>\n",
              "      <td>1</td>\n",
              "      <td>6</td>\n",
              "      <td>1</td>\n",
              "      <td>6</td>\n",
              "      <td>0</td>\n",
              "      <td>Castilla-La Mancha</td>\n",
              "      <td>Castilla-La Mancha</td>\n",
              "      <td>Cuenca</td>\n",
              "      <td>Albacete</td>\n",
              "      <td>No</td>\n",
              "    </tr>\n",
              "    <tr>\n",
              "      <th>2</th>\n",
              "      <td>2018-12-06</td>\n",
              "      <td>2018</td>\n",
              "      <td>49</td>\n",
              "      <td>12</td>\n",
              "      <td>es</td>\n",
              "      <td>Tarancón</td>\n",
              "      <td>Albacete</td>\n",
              "      <td>6.0</td>\n",
              "      <td>1</td>\n",
              "      <td>5</td>\n",
              "      <td>1</td>\n",
              "      <td>5</td>\n",
              "      <td>1</td>\n",
              "      <td>Castilla-La Mancha</td>\n",
              "      <td>Castilla-La Mancha</td>\n",
              "      <td>Cuenca</td>\n",
              "      <td>Albacete</td>\n",
              "      <td>No</td>\n",
              "    </tr>\n",
              "  </tbody>\n",
              "</table>\n",
              "</div>\n",
              "      <button class=\"colab-df-convert\" onclick=\"convertToInteractive('df-1509adb5-3899-4f0b-8a5a-d5cd1627b67d')\"\n",
              "              title=\"Convert this dataframe to an interactive table.\"\n",
              "              style=\"display:none;\">\n",
              "        \n",
              "  <svg xmlns=\"http://www.w3.org/2000/svg\" height=\"24px\"viewBox=\"0 0 24 24\"\n",
              "       width=\"24px\">\n",
              "    <path d=\"M0 0h24v24H0V0z\" fill=\"none\"/>\n",
              "    <path d=\"M18.56 5.44l.94 2.06.94-2.06 2.06-.94-2.06-.94-.94-2.06-.94 2.06-2.06.94zm-11 1L8.5 8.5l.94-2.06 2.06-.94-2.06-.94L8.5 2.5l-.94 2.06-2.06.94zm10 10l.94 2.06.94-2.06 2.06-.94-2.06-.94-.94-2.06-.94 2.06-2.06.94z\"/><path d=\"M17.41 7.96l-1.37-1.37c-.4-.4-.92-.59-1.43-.59-.52 0-1.04.2-1.43.59L10.3 9.45l-7.72 7.72c-.78.78-.78 2.05 0 2.83L4 21.41c.39.39.9.59 1.41.59.51 0 1.02-.2 1.41-.59l7.78-7.78 2.81-2.81c.8-.78.8-2.07 0-2.86zM5.41 20L4 18.59l7.72-7.72 1.47 1.35L5.41 20z\"/>\n",
              "  </svg>\n",
              "      </button>\n",
              "      \n",
              "  <style>\n",
              "    .colab-df-container {\n",
              "      display:flex;\n",
              "      flex-wrap:wrap;\n",
              "      gap: 12px;\n",
              "    }\n",
              "\n",
              "    .colab-df-convert {\n",
              "      background-color: #E8F0FE;\n",
              "      border: none;\n",
              "      border-radius: 50%;\n",
              "      cursor: pointer;\n",
              "      display: none;\n",
              "      fill: #1967D2;\n",
              "      height: 32px;\n",
              "      padding: 0 0 0 0;\n",
              "      width: 32px;\n",
              "    }\n",
              "\n",
              "    .colab-df-convert:hover {\n",
              "      background-color: #E2EBFA;\n",
              "      box-shadow: 0px 1px 2px rgba(60, 64, 67, 0.3), 0px 1px 3px 1px rgba(60, 64, 67, 0.15);\n",
              "      fill: #174EA6;\n",
              "    }\n",
              "\n",
              "    [theme=dark] .colab-df-convert {\n",
              "      background-color: #3B4455;\n",
              "      fill: #D2E3FC;\n",
              "    }\n",
              "\n",
              "    [theme=dark] .colab-df-convert:hover {\n",
              "      background-color: #434B5C;\n",
              "      box-shadow: 0px 1px 3px 1px rgba(0, 0, 0, 0.15);\n",
              "      filter: drop-shadow(0px 1px 2px rgba(0, 0, 0, 0.3));\n",
              "      fill: #FFFFFF;\n",
              "    }\n",
              "  </style>\n",
              "\n",
              "      <script>\n",
              "        const buttonEl =\n",
              "          document.querySelector('#df-1509adb5-3899-4f0b-8a5a-d5cd1627b67d button.colab-df-convert');\n",
              "        buttonEl.style.display =\n",
              "          google.colab.kernel.accessAllowed ? 'block' : 'none';\n",
              "\n",
              "        async function convertToInteractive(key) {\n",
              "          const element = document.querySelector('#df-1509adb5-3899-4f0b-8a5a-d5cd1627b67d');\n",
              "          const dataTable =\n",
              "            await google.colab.kernel.invokeFunction('convertToInteractive',\n",
              "                                                     [key], {});\n",
              "          if (!dataTable) return;\n",
              "\n",
              "          const docLinkHtml = 'Like what you see? Visit the ' +\n",
              "            '<a target=\"_blank\" href=https://colab.research.google.com/notebooks/data_table.ipynb>data table notebook</a>'\n",
              "            + ' to learn more about interactive tables.';\n",
              "          element.innerHTML = '';\n",
              "          dataTable['output_type'] = 'display_data';\n",
              "          await google.colab.output.renderOutput(dataTable, element);\n",
              "          const docLink = document.createElement('div');\n",
              "          docLink.innerHTML = docLinkHtml;\n",
              "          element.appendChild(docLink);\n",
              "        }\n",
              "      </script>\n",
              "    </div>\n",
              "  </div>\n",
              "  "
            ],
            "text/plain": [
              "          DIA   AÑO  SEMANA  ...  PROVINCIA_ORIGEN PROVINCIA_DESTINO INTERPROVINCIAL\n",
              "0  2019-09-01  2019      35  ...            Cuenca          Albacete              No\n",
              "1  2018-05-01  2018      18  ...            Cuenca          Albacete              No\n",
              "2  2018-12-06  2018      49  ...            Cuenca          Albacete              No\n",
              "\n",
              "[3 rows x 18 columns]"
            ]
          },
          "metadata": {},
          "execution_count": 27
        }
      ]
    },
    {
      "cell_type": "markdown",
      "source": [
        "# Label Encoding"
      ],
      "metadata": {
        "id": "mWP5uvKuygc3"
      }
    },
    {
      "cell_type": "markdown",
      "source": [
        "Transformamos categorias categóricas en categorias numéricas"
      ],
      "metadata": {
        "id": "UUlHUFZIykCP"
      }
    },
    {
      "cell_type": "markdown",
      "source": [
        "## Encoding Andalucia"
      ],
      "metadata": {
        "id": "grxGBnsvEU_I"
      }
    },
    {
      "cell_type": "code",
      "source": [
        "andalucia.dtypes"
      ],
      "metadata": {
        "colab": {
          "base_uri": "https://localhost:8080/"
        },
        "id": "Yo6t9WM81OKn",
        "outputId": "72615048-26c6-4908-cb5b-2aa4b6f8ba49"
      },
      "execution_count": 28,
      "outputs": [
        {
          "output_type": "execute_result",
          "data": {
            "text/plain": [
              "DIA                      object\n",
              "AÑO                       int64\n",
              "SEMANA                    int64\n",
              "MES                       int64\n",
              "PAIS                     object\n",
              "ORIGEN                   object\n",
              "DESTINO                  object\n",
              "ASIENTOS_OFERTADOS      float64\n",
              "ASIENTOS_CONFIRMADOS      int64\n",
              "VIAJES_OFERTADOS          int64\n",
              "VIAJES_CONFIRMADOS        int64\n",
              "OFERTANTES                int64\n",
              "OFERTANTES_NUEVOS         int64\n",
              "CA_ORIGEN                object\n",
              "CA_DESTINO               object\n",
              "PROVINCIA_ORIGEN         object\n",
              "PROVINCIA_DESTINO        object\n",
              "INTERPROVINCIAL          object\n",
              "dtype: object"
            ]
          },
          "metadata": {},
          "execution_count": 28
        }
      ]
    },
    {
      "cell_type": "code",
      "source": [
        "andalucia_to_encoded = andalucia.copy()"
      ],
      "metadata": {
        "id": "aNPY2qtNGcx0"
      },
      "execution_count": 29,
      "outputs": []
    },
    {
      "cell_type": "code",
      "source": [
        "# 'ORIGEN', 'DESTINO', 'CA_ORIGEN', 'CA_DESTINO', 'PROVINCIA_ORIGEN', 'PROVINCIA_DESTINO', 'INTERPROVINCIAL'\n",
        "andalucia_to_encoded['ORIGEN'] = andalucia['ORIGEN'].astype('category').cat.codes"
      ],
      "metadata": {
        "id": "6l3ByTMoBfOx"
      },
      "execution_count": 30,
      "outputs": []
    },
    {
      "cell_type": "code",
      "source": [
        "andalucia_to_encoded['DESTINO_LE'] = andalucia['DESTINO'].astype('category').cat.codes"
      ],
      "metadata": {
        "id": "jA4Hqd0YBovY"
      },
      "execution_count": 31,
      "outputs": []
    },
    {
      "cell_type": "code",
      "source": [
        "andalucia_to_encoded['CA_ORIGEN_LE'] = andalucia['CA_ORIGEN'].astype('category').cat.codes"
      ],
      "metadata": {
        "id": "GRPAb-byBq74"
      },
      "execution_count": 32,
      "outputs": []
    },
    {
      "cell_type": "code",
      "source": [
        "andalucia_to_encoded['CA_DESTINO_LE'] = andalucia['CA_DESTINO'].astype('category').cat.codes"
      ],
      "metadata": {
        "id": "WSI6aQ9WBs8Q"
      },
      "execution_count": 33,
      "outputs": []
    },
    {
      "cell_type": "code",
      "source": [
        "andalucia_to_encoded['PROVINCIA_ORIGEN_LE'] = andalucia['PROVINCIA_ORIGEN'].astype('category').cat.codes"
      ],
      "metadata": {
        "id": "35Rad1zgBxo5"
      },
      "execution_count": 34,
      "outputs": []
    },
    {
      "cell_type": "code",
      "source": [
        "andalucia_to_encoded['PROVINCIA_DESTINO_LE'] = andalucia['PROVINCIA_DESTINO'].astype('category').cat.codes"
      ],
      "metadata": {
        "id": "yIGYIvvpB1bx"
      },
      "execution_count": 35,
      "outputs": []
    },
    {
      "cell_type": "code",
      "source": [
        "andalucia_to_encoded['INTERPROVINCIAL_LE'] = andalucia['INTERPROVINCIAL'].astype('category').cat.codes"
      ],
      "metadata": {
        "id": "E2GSsTWLB3up"
      },
      "execution_count": 36,
      "outputs": []
    },
    {
      "cell_type": "code",
      "source": [
        "andalucia_to_encoded.tail(5)"
      ],
      "metadata": {
        "colab": {
          "base_uri": "https://localhost:8080/",
          "height": 374
        },
        "id": "nRCL0_Lp9vgj",
        "outputId": "ebca6828-446f-413c-d007-12ae17f1294f"
      },
      "execution_count": 37,
      "outputs": [
        {
          "output_type": "execute_result",
          "data": {
            "text/html": [
              "\n",
              "  <div id=\"df-1a6b268f-4902-4165-9e07-5d979a0d210e\">\n",
              "    <div class=\"colab-df-container\">\n",
              "      <div>\n",
              "<style scoped>\n",
              "    .dataframe tbody tr th:only-of-type {\n",
              "        vertical-align: middle;\n",
              "    }\n",
              "\n",
              "    .dataframe tbody tr th {\n",
              "        vertical-align: top;\n",
              "    }\n",
              "\n",
              "    .dataframe thead th {\n",
              "        text-align: right;\n",
              "    }\n",
              "</style>\n",
              "<table border=\"1\" class=\"dataframe\">\n",
              "  <thead>\n",
              "    <tr style=\"text-align: right;\">\n",
              "      <th></th>\n",
              "      <th>DIA</th>\n",
              "      <th>AÑO</th>\n",
              "      <th>SEMANA</th>\n",
              "      <th>MES</th>\n",
              "      <th>PAIS</th>\n",
              "      <th>ORIGEN</th>\n",
              "      <th>DESTINO</th>\n",
              "      <th>ASIENTOS_OFERTADOS</th>\n",
              "      <th>ASIENTOS_CONFIRMADOS</th>\n",
              "      <th>VIAJES_OFERTADOS</th>\n",
              "      <th>VIAJES_CONFIRMADOS</th>\n",
              "      <th>OFERTANTES</th>\n",
              "      <th>OFERTANTES_NUEVOS</th>\n",
              "      <th>CA_ORIGEN</th>\n",
              "      <th>CA_DESTINO</th>\n",
              "      <th>PROVINCIA_ORIGEN</th>\n",
              "      <th>PROVINCIA_DESTINO</th>\n",
              "      <th>INTERPROVINCIAL</th>\n",
              "      <th>DESTINO_LE</th>\n",
              "      <th>CA_ORIGEN_LE</th>\n",
              "      <th>CA_DESTINO_LE</th>\n",
              "      <th>PROVINCIA_ORIGEN_LE</th>\n",
              "      <th>PROVINCIA_DESTINO_LE</th>\n",
              "      <th>INTERPROVINCIAL_LE</th>\n",
              "    </tr>\n",
              "  </thead>\n",
              "  <tbody>\n",
              "    <tr>\n",
              "      <th>29305</th>\n",
              "      <td>2018-08-28</td>\n",
              "      <td>2018</td>\n",
              "      <td>35</td>\n",
              "      <td>8</td>\n",
              "      <td>es</td>\n",
              "      <td>19</td>\n",
              "      <td>Estepona</td>\n",
              "      <td>45.0</td>\n",
              "      <td>4</td>\n",
              "      <td>22</td>\n",
              "      <td>4</td>\n",
              "      <td>22</td>\n",
              "      <td>1</td>\n",
              "      <td>Andalucía</td>\n",
              "      <td>Andalucía</td>\n",
              "      <td>Málaga</td>\n",
              "      <td>Málaga</td>\n",
              "      <td>Si</td>\n",
              "      <td>135</td>\n",
              "      <td>0</td>\n",
              "      <td>0</td>\n",
              "      <td>6</td>\n",
              "      <td>7</td>\n",
              "      <td>1</td>\n",
              "    </tr>\n",
              "    <tr>\n",
              "      <th>29306</th>\n",
              "      <td>2018-08-28</td>\n",
              "      <td>2018</td>\n",
              "      <td>35</td>\n",
              "      <td>8</td>\n",
              "      <td>es</td>\n",
              "      <td>19</td>\n",
              "      <td>Lucena</td>\n",
              "      <td>15.0</td>\n",
              "      <td>1</td>\n",
              "      <td>6</td>\n",
              "      <td>1</td>\n",
              "      <td>6</td>\n",
              "      <td>0</td>\n",
              "      <td>Andalucía</td>\n",
              "      <td>Andalucía</td>\n",
              "      <td>Málaga</td>\n",
              "      <td>Córdoba</td>\n",
              "      <td>No</td>\n",
              "      <td>212</td>\n",
              "      <td>0</td>\n",
              "      <td>0</td>\n",
              "      <td>6</td>\n",
              "      <td>2</td>\n",
              "      <td>0</td>\n",
              "    </tr>\n",
              "    <tr>\n",
              "      <th>29307</th>\n",
              "      <td>2018-08-28</td>\n",
              "      <td>2018</td>\n",
              "      <td>35</td>\n",
              "      <td>8</td>\n",
              "      <td>es</td>\n",
              "      <td>19</td>\n",
              "      <td>Conil de la Frontera</td>\n",
              "      <td>1.0</td>\n",
              "      <td>1</td>\n",
              "      <td>1</td>\n",
              "      <td>1</td>\n",
              "      <td>1</td>\n",
              "      <td>0</td>\n",
              "      <td>Andalucía</td>\n",
              "      <td>Andalucía</td>\n",
              "      <td>Málaga</td>\n",
              "      <td>Cádiz</td>\n",
              "      <td>No</td>\n",
              "      <td>103</td>\n",
              "      <td>0</td>\n",
              "      <td>0</td>\n",
              "      <td>6</td>\n",
              "      <td>1</td>\n",
              "      <td>0</td>\n",
              "    </tr>\n",
              "    <tr>\n",
              "      <th>29308</th>\n",
              "      <td>2018-08-28</td>\n",
              "      <td>2018</td>\n",
              "      <td>35</td>\n",
              "      <td>8</td>\n",
              "      <td>es</td>\n",
              "      <td>19</td>\n",
              "      <td>La Línea de la Concepción</td>\n",
              "      <td>19.0</td>\n",
              "      <td>1</td>\n",
              "      <td>8</td>\n",
              "      <td>1</td>\n",
              "      <td>8</td>\n",
              "      <td>1</td>\n",
              "      <td>Andalucía</td>\n",
              "      <td>Andalucía</td>\n",
              "      <td>Málaga</td>\n",
              "      <td>Cádiz</td>\n",
              "      <td>No</td>\n",
              "      <td>188</td>\n",
              "      <td>0</td>\n",
              "      <td>0</td>\n",
              "      <td>6</td>\n",
              "      <td>1</td>\n",
              "      <td>0</td>\n",
              "    </tr>\n",
              "    <tr>\n",
              "      <th>29309</th>\n",
              "      <td>2018-08-28</td>\n",
              "      <td>2018</td>\n",
              "      <td>35</td>\n",
              "      <td>8</td>\n",
              "      <td>es</td>\n",
              "      <td>19</td>\n",
              "      <td>Osuna</td>\n",
              "      <td>4.0</td>\n",
              "      <td>1</td>\n",
              "      <td>1</td>\n",
              "      <td>1</td>\n",
              "      <td>1</td>\n",
              "      <td>0</td>\n",
              "      <td>Andalucía</td>\n",
              "      <td>Andalucía</td>\n",
              "      <td>Málaga</td>\n",
              "      <td>Sevilla</td>\n",
              "      <td>No</td>\n",
              "      <td>257</td>\n",
              "      <td>0</td>\n",
              "      <td>0</td>\n",
              "      <td>6</td>\n",
              "      <td>8</td>\n",
              "      <td>0</td>\n",
              "    </tr>\n",
              "  </tbody>\n",
              "</table>\n",
              "</div>\n",
              "      <button class=\"colab-df-convert\" onclick=\"convertToInteractive('df-1a6b268f-4902-4165-9e07-5d979a0d210e')\"\n",
              "              title=\"Convert this dataframe to an interactive table.\"\n",
              "              style=\"display:none;\">\n",
              "        \n",
              "  <svg xmlns=\"http://www.w3.org/2000/svg\" height=\"24px\"viewBox=\"0 0 24 24\"\n",
              "       width=\"24px\">\n",
              "    <path d=\"M0 0h24v24H0V0z\" fill=\"none\"/>\n",
              "    <path d=\"M18.56 5.44l.94 2.06.94-2.06 2.06-.94-2.06-.94-.94-2.06-.94 2.06-2.06.94zm-11 1L8.5 8.5l.94-2.06 2.06-.94-2.06-.94L8.5 2.5l-.94 2.06-2.06.94zm10 10l.94 2.06.94-2.06 2.06-.94-2.06-.94-.94-2.06-.94 2.06-2.06.94z\"/><path d=\"M17.41 7.96l-1.37-1.37c-.4-.4-.92-.59-1.43-.59-.52 0-1.04.2-1.43.59L10.3 9.45l-7.72 7.72c-.78.78-.78 2.05 0 2.83L4 21.41c.39.39.9.59 1.41.59.51 0 1.02-.2 1.41-.59l7.78-7.78 2.81-2.81c.8-.78.8-2.07 0-2.86zM5.41 20L4 18.59l7.72-7.72 1.47 1.35L5.41 20z\"/>\n",
              "  </svg>\n",
              "      </button>\n",
              "      \n",
              "  <style>\n",
              "    .colab-df-container {\n",
              "      display:flex;\n",
              "      flex-wrap:wrap;\n",
              "      gap: 12px;\n",
              "    }\n",
              "\n",
              "    .colab-df-convert {\n",
              "      background-color: #E8F0FE;\n",
              "      border: none;\n",
              "      border-radius: 50%;\n",
              "      cursor: pointer;\n",
              "      display: none;\n",
              "      fill: #1967D2;\n",
              "      height: 32px;\n",
              "      padding: 0 0 0 0;\n",
              "      width: 32px;\n",
              "    }\n",
              "\n",
              "    .colab-df-convert:hover {\n",
              "      background-color: #E2EBFA;\n",
              "      box-shadow: 0px 1px 2px rgba(60, 64, 67, 0.3), 0px 1px 3px 1px rgba(60, 64, 67, 0.15);\n",
              "      fill: #174EA6;\n",
              "    }\n",
              "\n",
              "    [theme=dark] .colab-df-convert {\n",
              "      background-color: #3B4455;\n",
              "      fill: #D2E3FC;\n",
              "    }\n",
              "\n",
              "    [theme=dark] .colab-df-convert:hover {\n",
              "      background-color: #434B5C;\n",
              "      box-shadow: 0px 1px 3px 1px rgba(0, 0, 0, 0.15);\n",
              "      filter: drop-shadow(0px 1px 2px rgba(0, 0, 0, 0.3));\n",
              "      fill: #FFFFFF;\n",
              "    }\n",
              "  </style>\n",
              "\n",
              "      <script>\n",
              "        const buttonEl =\n",
              "          document.querySelector('#df-1a6b268f-4902-4165-9e07-5d979a0d210e button.colab-df-convert');\n",
              "        buttonEl.style.display =\n",
              "          google.colab.kernel.accessAllowed ? 'block' : 'none';\n",
              "\n",
              "        async function convertToInteractive(key) {\n",
              "          const element = document.querySelector('#df-1a6b268f-4902-4165-9e07-5d979a0d210e');\n",
              "          const dataTable =\n",
              "            await google.colab.kernel.invokeFunction('convertToInteractive',\n",
              "                                                     [key], {});\n",
              "          if (!dataTable) return;\n",
              "\n",
              "          const docLinkHtml = 'Like what you see? Visit the ' +\n",
              "            '<a target=\"_blank\" href=https://colab.research.google.com/notebooks/data_table.ipynb>data table notebook</a>'\n",
              "            + ' to learn more about interactive tables.';\n",
              "          element.innerHTML = '';\n",
              "          dataTable['output_type'] = 'display_data';\n",
              "          await google.colab.output.renderOutput(dataTable, element);\n",
              "          const docLink = document.createElement('div');\n",
              "          docLink.innerHTML = docLinkHtml;\n",
              "          element.appendChild(docLink);\n",
              "        }\n",
              "      </script>\n",
              "    </div>\n",
              "  </div>\n",
              "  "
            ],
            "text/plain": [
              "              DIA   AÑO  ...  PROVINCIA_DESTINO_LE  INTERPROVINCIAL_LE\n",
              "29305  2018-08-28  2018  ...                     7                   1\n",
              "29306  2018-08-28  2018  ...                     2                   0\n",
              "29307  2018-08-28  2018  ...                     1                   0\n",
              "29308  2018-08-28  2018  ...                     1                   0\n",
              "29309  2018-08-28  2018  ...                     8                   0\n",
              "\n",
              "[5 rows x 24 columns]"
            ]
          },
          "metadata": {},
          "execution_count": 37
        }
      ]
    },
    {
      "cell_type": "code",
      "source": [
        "andalucia_encoded = andalucia_to_encoded.drop(columns=['ORIGEN', 'DESTINO', 'CA_ORIGEN', 'CA_DESTINO', 'PROVINCIA_ORIGEN', 'PROVINCIA_DESTINO', 'INTERPROVINCIAL', 'PAIS'])\n",
        "andalucia_encoded.head(2)"
      ],
      "metadata": {
        "colab": {
          "base_uri": "https://localhost:8080/",
          "height": 211
        },
        "id": "mOipPB4pC0fJ",
        "outputId": "89f9c8f7-f205-4361-c09a-da434e0a6116"
      },
      "execution_count": 38,
      "outputs": [
        {
          "output_type": "execute_result",
          "data": {
            "text/html": [
              "\n",
              "  <div id=\"df-84c5ed4a-9dcb-429f-8210-892955025495\">\n",
              "    <div class=\"colab-df-container\">\n",
              "      <div>\n",
              "<style scoped>\n",
              "    .dataframe tbody tr th:only-of-type {\n",
              "        vertical-align: middle;\n",
              "    }\n",
              "\n",
              "    .dataframe tbody tr th {\n",
              "        vertical-align: top;\n",
              "    }\n",
              "\n",
              "    .dataframe thead th {\n",
              "        text-align: right;\n",
              "    }\n",
              "</style>\n",
              "<table border=\"1\" class=\"dataframe\">\n",
              "  <thead>\n",
              "    <tr style=\"text-align: right;\">\n",
              "      <th></th>\n",
              "      <th>DIA</th>\n",
              "      <th>AÑO</th>\n",
              "      <th>SEMANA</th>\n",
              "      <th>MES</th>\n",
              "      <th>ASIENTOS_OFERTADOS</th>\n",
              "      <th>ASIENTOS_CONFIRMADOS</th>\n",
              "      <th>VIAJES_OFERTADOS</th>\n",
              "      <th>VIAJES_CONFIRMADOS</th>\n",
              "      <th>OFERTANTES</th>\n",
              "      <th>OFERTANTES_NUEVOS</th>\n",
              "      <th>DESTINO_LE</th>\n",
              "      <th>CA_ORIGEN_LE</th>\n",
              "      <th>CA_DESTINO_LE</th>\n",
              "      <th>PROVINCIA_ORIGEN_LE</th>\n",
              "      <th>PROVINCIA_DESTINO_LE</th>\n",
              "      <th>INTERPROVINCIAL_LE</th>\n",
              "    </tr>\n",
              "  </thead>\n",
              "  <tbody>\n",
              "    <tr>\n",
              "      <th>0</th>\n",
              "      <td>2019-08-28</td>\n",
              "      <td>2019</td>\n",
              "      <td>35</td>\n",
              "      <td>8</td>\n",
              "      <td>62.0</td>\n",
              "      <td>25</td>\n",
              "      <td>25</td>\n",
              "      <td>14</td>\n",
              "      <td>25</td>\n",
              "      <td>0</td>\n",
              "      <td>152</td>\n",
              "      <td>0</td>\n",
              "      <td>0</td>\n",
              "      <td>7</td>\n",
              "      <td>3</td>\n",
              "      <td>0</td>\n",
              "    </tr>\n",
              "    <tr>\n",
              "      <th>1</th>\n",
              "      <td>2019-08-28</td>\n",
              "      <td>2019</td>\n",
              "      <td>35</td>\n",
              "      <td>8</td>\n",
              "      <td>109.0</td>\n",
              "      <td>15</td>\n",
              "      <td>39</td>\n",
              "      <td>10</td>\n",
              "      <td>35</td>\n",
              "      <td>3</td>\n",
              "      <td>176</td>\n",
              "      <td>0</td>\n",
              "      <td>0</td>\n",
              "      <td>7</td>\n",
              "      <td>1</td>\n",
              "      <td>0</td>\n",
              "    </tr>\n",
              "  </tbody>\n",
              "</table>\n",
              "</div>\n",
              "      <button class=\"colab-df-convert\" onclick=\"convertToInteractive('df-84c5ed4a-9dcb-429f-8210-892955025495')\"\n",
              "              title=\"Convert this dataframe to an interactive table.\"\n",
              "              style=\"display:none;\">\n",
              "        \n",
              "  <svg xmlns=\"http://www.w3.org/2000/svg\" height=\"24px\"viewBox=\"0 0 24 24\"\n",
              "       width=\"24px\">\n",
              "    <path d=\"M0 0h24v24H0V0z\" fill=\"none\"/>\n",
              "    <path d=\"M18.56 5.44l.94 2.06.94-2.06 2.06-.94-2.06-.94-.94-2.06-.94 2.06-2.06.94zm-11 1L8.5 8.5l.94-2.06 2.06-.94-2.06-.94L8.5 2.5l-.94 2.06-2.06.94zm10 10l.94 2.06.94-2.06 2.06-.94-2.06-.94-.94-2.06-.94 2.06-2.06.94z\"/><path d=\"M17.41 7.96l-1.37-1.37c-.4-.4-.92-.59-1.43-.59-.52 0-1.04.2-1.43.59L10.3 9.45l-7.72 7.72c-.78.78-.78 2.05 0 2.83L4 21.41c.39.39.9.59 1.41.59.51 0 1.02-.2 1.41-.59l7.78-7.78 2.81-2.81c.8-.78.8-2.07 0-2.86zM5.41 20L4 18.59l7.72-7.72 1.47 1.35L5.41 20z\"/>\n",
              "  </svg>\n",
              "      </button>\n",
              "      \n",
              "  <style>\n",
              "    .colab-df-container {\n",
              "      display:flex;\n",
              "      flex-wrap:wrap;\n",
              "      gap: 12px;\n",
              "    }\n",
              "\n",
              "    .colab-df-convert {\n",
              "      background-color: #E8F0FE;\n",
              "      border: none;\n",
              "      border-radius: 50%;\n",
              "      cursor: pointer;\n",
              "      display: none;\n",
              "      fill: #1967D2;\n",
              "      height: 32px;\n",
              "      padding: 0 0 0 0;\n",
              "      width: 32px;\n",
              "    }\n",
              "\n",
              "    .colab-df-convert:hover {\n",
              "      background-color: #E2EBFA;\n",
              "      box-shadow: 0px 1px 2px rgba(60, 64, 67, 0.3), 0px 1px 3px 1px rgba(60, 64, 67, 0.15);\n",
              "      fill: #174EA6;\n",
              "    }\n",
              "\n",
              "    [theme=dark] .colab-df-convert {\n",
              "      background-color: #3B4455;\n",
              "      fill: #D2E3FC;\n",
              "    }\n",
              "\n",
              "    [theme=dark] .colab-df-convert:hover {\n",
              "      background-color: #434B5C;\n",
              "      box-shadow: 0px 1px 3px 1px rgba(0, 0, 0, 0.15);\n",
              "      filter: drop-shadow(0px 1px 2px rgba(0, 0, 0, 0.3));\n",
              "      fill: #FFFFFF;\n",
              "    }\n",
              "  </style>\n",
              "\n",
              "      <script>\n",
              "        const buttonEl =\n",
              "          document.querySelector('#df-84c5ed4a-9dcb-429f-8210-892955025495 button.colab-df-convert');\n",
              "        buttonEl.style.display =\n",
              "          google.colab.kernel.accessAllowed ? 'block' : 'none';\n",
              "\n",
              "        async function convertToInteractive(key) {\n",
              "          const element = document.querySelector('#df-84c5ed4a-9dcb-429f-8210-892955025495');\n",
              "          const dataTable =\n",
              "            await google.colab.kernel.invokeFunction('convertToInteractive',\n",
              "                                                     [key], {});\n",
              "          if (!dataTable) return;\n",
              "\n",
              "          const docLinkHtml = 'Like what you see? Visit the ' +\n",
              "            '<a target=\"_blank\" href=https://colab.research.google.com/notebooks/data_table.ipynb>data table notebook</a>'\n",
              "            + ' to learn more about interactive tables.';\n",
              "          element.innerHTML = '';\n",
              "          dataTable['output_type'] = 'display_data';\n",
              "          await google.colab.output.renderOutput(dataTable, element);\n",
              "          const docLink = document.createElement('div');\n",
              "          docLink.innerHTML = docLinkHtml;\n",
              "          element.appendChild(docLink);\n",
              "        }\n",
              "      </script>\n",
              "    </div>\n",
              "  </div>\n",
              "  "
            ],
            "text/plain": [
              "          DIA   AÑO  ...  PROVINCIA_DESTINO_LE  INTERPROVINCIAL_LE\n",
              "0  2019-08-28  2019  ...                     3                   0\n",
              "1  2019-08-28  2019  ...                     1                   0\n",
              "\n",
              "[2 rows x 16 columns]"
            ]
          },
          "metadata": {},
          "execution_count": 38
        }
      ]
    },
    {
      "cell_type": "markdown",
      "source": [
        "## Encoding Castilla-La Mancha"
      ],
      "metadata": {
        "id": "9lDjRtLyEYjg"
      }
    },
    {
      "cell_type": "code",
      "source": [
        "clm_to_encode = clm.copy()"
      ],
      "metadata": {
        "id": "vXgD1hI6E5g4"
      },
      "execution_count": 39,
      "outputs": []
    },
    {
      "cell_type": "code",
      "source": [
        "# 'ORIGEN', 'DESTINO', 'CA_ORIGEN', 'CA_DESTINO', 'PROVINCIA_ORIGEN', 'PROVINCIA_DESTINO', 'INTERPROVINCIAL'\n",
        "clm_to_encode['ORIGEN_LE'] = clm['ORIGEN'].astype('category').cat.codes"
      ],
      "metadata": {
        "id": "ZrQm_rAnEfE-"
      },
      "execution_count": 40,
      "outputs": []
    },
    {
      "cell_type": "code",
      "source": [
        "clm_to_encode['DESTINO_LE'] = clm['DESTINO'].astype('category').cat.codes"
      ],
      "metadata": {
        "id": "0Rehuo5WEhWn"
      },
      "execution_count": 41,
      "outputs": []
    },
    {
      "cell_type": "code",
      "source": [
        "clm_to_encode['CA_ORIGEN_LE'] = clm['CA_ORIGEN'].astype('category').cat.codes"
      ],
      "metadata": {
        "id": "WiqL5wqyEi0X"
      },
      "execution_count": 42,
      "outputs": []
    },
    {
      "cell_type": "code",
      "source": [
        "clm_to_encode['CA_DESTINO_LE'] = clm['CA_DESTINO'].astype('category').cat.codes"
      ],
      "metadata": {
        "id": "0cY1P6eZEknQ"
      },
      "execution_count": 43,
      "outputs": []
    },
    {
      "cell_type": "code",
      "source": [
        "clm_to_encode['PROVINCIA_ORIGEN_LE'] = clm['PROVINCIA_ORIGEN'].astype('category').cat.codes"
      ],
      "metadata": {
        "id": "VhtTx6pEEmLA"
      },
      "execution_count": 44,
      "outputs": []
    },
    {
      "cell_type": "code",
      "source": [
        "clm_to_encode['PROVINCIA_DESTINO_LE'] = clm['PROVINCIA_DESTINO'].astype('category').cat.codes"
      ],
      "metadata": {
        "id": "83TZ96hREnrv"
      },
      "execution_count": 45,
      "outputs": []
    },
    {
      "cell_type": "code",
      "source": [
        "clm_to_encode['INTERPROVINCIAL_LE'] = clm['INTERPROVINCIAL'].astype('category').cat.codes"
      ],
      "metadata": {
        "id": "vHTtzG6UEpCo"
      },
      "execution_count": 46,
      "outputs": []
    },
    {
      "cell_type": "code",
      "source": [
        "clm_to_encode.tail(5)"
      ],
      "metadata": {
        "colab": {
          "base_uri": "https://localhost:8080/",
          "height": 356
        },
        "id": "mYIeu3hJEq7f",
        "outputId": "bfd38735-10b0-4879-f7ec-6a6a4a4b0331"
      },
      "execution_count": 47,
      "outputs": [
        {
          "output_type": "execute_result",
          "data": {
            "text/html": [
              "\n",
              "  <div id=\"df-706e0eb9-8129-49d6-94f4-3de277bde0e6\">\n",
              "    <div class=\"colab-df-container\">\n",
              "      <div>\n",
              "<style scoped>\n",
              "    .dataframe tbody tr th:only-of-type {\n",
              "        vertical-align: middle;\n",
              "    }\n",
              "\n",
              "    .dataframe tbody tr th {\n",
              "        vertical-align: top;\n",
              "    }\n",
              "\n",
              "    .dataframe thead th {\n",
              "        text-align: right;\n",
              "    }\n",
              "</style>\n",
              "<table border=\"1\" class=\"dataframe\">\n",
              "  <thead>\n",
              "    <tr style=\"text-align: right;\">\n",
              "      <th></th>\n",
              "      <th>DIA</th>\n",
              "      <th>AÑO</th>\n",
              "      <th>SEMANA</th>\n",
              "      <th>MES</th>\n",
              "      <th>PAIS</th>\n",
              "      <th>ORIGEN</th>\n",
              "      <th>DESTINO</th>\n",
              "      <th>ASIENTOS_OFERTADOS</th>\n",
              "      <th>ASIENTOS_CONFIRMADOS</th>\n",
              "      <th>VIAJES_OFERTADOS</th>\n",
              "      <th>VIAJES_CONFIRMADOS</th>\n",
              "      <th>OFERTANTES</th>\n",
              "      <th>OFERTANTES_NUEVOS</th>\n",
              "      <th>CA_ORIGEN</th>\n",
              "      <th>CA_DESTINO</th>\n",
              "      <th>PROVINCIA_ORIGEN</th>\n",
              "      <th>PROVINCIA_DESTINO</th>\n",
              "      <th>INTERPROVINCIAL</th>\n",
              "      <th>ORIGEN_LE</th>\n",
              "      <th>DESTINO_LE</th>\n",
              "      <th>CA_ORIGEN_LE</th>\n",
              "      <th>CA_DESTINO_LE</th>\n",
              "      <th>PROVINCIA_ORIGEN_LE</th>\n",
              "      <th>PROVINCIA_DESTINO_LE</th>\n",
              "      <th>INTERPROVINCIAL_LE</th>\n",
              "    </tr>\n",
              "  </thead>\n",
              "  <tbody>\n",
              "    <tr>\n",
              "      <th>2681</th>\n",
              "      <td>2018-08-16</td>\n",
              "      <td>2018</td>\n",
              "      <td>33</td>\n",
              "      <td>8</td>\n",
              "      <td>es</td>\n",
              "      <td>Villarrobledo</td>\n",
              "      <td>Cuenca</td>\n",
              "      <td>2.0</td>\n",
              "      <td>1</td>\n",
              "      <td>1</td>\n",
              "      <td>1</td>\n",
              "      <td>1</td>\n",
              "      <td>0</td>\n",
              "      <td>Castilla-La Mancha</td>\n",
              "      <td>Castilla-La Mancha</td>\n",
              "      <td>Albacete</td>\n",
              "      <td>Cuenca</td>\n",
              "      <td>No</td>\n",
              "      <td>19</td>\n",
              "      <td>14</td>\n",
              "      <td>0</td>\n",
              "      <td>0</td>\n",
              "      <td>0</td>\n",
              "      <td>3</td>\n",
              "      <td>0</td>\n",
              "    </tr>\n",
              "    <tr>\n",
              "      <th>2682</th>\n",
              "      <td>2019-05-15</td>\n",
              "      <td>2019</td>\n",
              "      <td>20</td>\n",
              "      <td>5</td>\n",
              "      <td>es</td>\n",
              "      <td>Villarrobledo</td>\n",
              "      <td>Albacete</td>\n",
              "      <td>27.0</td>\n",
              "      <td>1</td>\n",
              "      <td>10</td>\n",
              "      <td>1</td>\n",
              "      <td>9</td>\n",
              "      <td>1</td>\n",
              "      <td>Castilla-La Mancha</td>\n",
              "      <td>Castilla-La Mancha</td>\n",
              "      <td>Albacete</td>\n",
              "      <td>Albacete</td>\n",
              "      <td>Si</td>\n",
              "      <td>19</td>\n",
              "      <td>0</td>\n",
              "      <td>0</td>\n",
              "      <td>0</td>\n",
              "      <td>0</td>\n",
              "      <td>0</td>\n",
              "      <td>1</td>\n",
              "    </tr>\n",
              "    <tr>\n",
              "      <th>2683</th>\n",
              "      <td>2019-08-16</td>\n",
              "      <td>2019</td>\n",
              "      <td>33</td>\n",
              "      <td>8</td>\n",
              "      <td>es</td>\n",
              "      <td>Villarrobledo</td>\n",
              "      <td>Ciudad Real</td>\n",
              "      <td>10.0</td>\n",
              "      <td>1</td>\n",
              "      <td>8</td>\n",
              "      <td>1</td>\n",
              "      <td>7</td>\n",
              "      <td>1</td>\n",
              "      <td>Castilla-La Mancha</td>\n",
              "      <td>Castilla-La Mancha</td>\n",
              "      <td>Albacete</td>\n",
              "      <td>Ciudad Real</td>\n",
              "      <td>No</td>\n",
              "      <td>19</td>\n",
              "      <td>12</td>\n",
              "      <td>0</td>\n",
              "      <td>0</td>\n",
              "      <td>0</td>\n",
              "      <td>1</td>\n",
              "      <td>0</td>\n",
              "    </tr>\n",
              "    <tr>\n",
              "      <th>2684</th>\n",
              "      <td>2019-05-19</td>\n",
              "      <td>2019</td>\n",
              "      <td>20</td>\n",
              "      <td>5</td>\n",
              "      <td>es</td>\n",
              "      <td>Villarrobledo</td>\n",
              "      <td>Albacete</td>\n",
              "      <td>29.0</td>\n",
              "      <td>2</td>\n",
              "      <td>11</td>\n",
              "      <td>1</td>\n",
              "      <td>11</td>\n",
              "      <td>1</td>\n",
              "      <td>Castilla-La Mancha</td>\n",
              "      <td>Castilla-La Mancha</td>\n",
              "      <td>Albacete</td>\n",
              "      <td>Albacete</td>\n",
              "      <td>Si</td>\n",
              "      <td>19</td>\n",
              "      <td>0</td>\n",
              "      <td>0</td>\n",
              "      <td>0</td>\n",
              "      <td>0</td>\n",
              "      <td>0</td>\n",
              "      <td>1</td>\n",
              "    </tr>\n",
              "    <tr>\n",
              "      <th>2685</th>\n",
              "      <td>2019-05-19</td>\n",
              "      <td>2019</td>\n",
              "      <td>20</td>\n",
              "      <td>5</td>\n",
              "      <td>es</td>\n",
              "      <td>Villarrobledo</td>\n",
              "      <td>Ciudad Real</td>\n",
              "      <td>7.0</td>\n",
              "      <td>2</td>\n",
              "      <td>4</td>\n",
              "      <td>1</td>\n",
              "      <td>4</td>\n",
              "      <td>0</td>\n",
              "      <td>Castilla-La Mancha</td>\n",
              "      <td>Castilla-La Mancha</td>\n",
              "      <td>Albacete</td>\n",
              "      <td>Ciudad Real</td>\n",
              "      <td>No</td>\n",
              "      <td>19</td>\n",
              "      <td>12</td>\n",
              "      <td>0</td>\n",
              "      <td>0</td>\n",
              "      <td>0</td>\n",
              "      <td>1</td>\n",
              "      <td>0</td>\n",
              "    </tr>\n",
              "  </tbody>\n",
              "</table>\n",
              "</div>\n",
              "      <button class=\"colab-df-convert\" onclick=\"convertToInteractive('df-706e0eb9-8129-49d6-94f4-3de277bde0e6')\"\n",
              "              title=\"Convert this dataframe to an interactive table.\"\n",
              "              style=\"display:none;\">\n",
              "        \n",
              "  <svg xmlns=\"http://www.w3.org/2000/svg\" height=\"24px\"viewBox=\"0 0 24 24\"\n",
              "       width=\"24px\">\n",
              "    <path d=\"M0 0h24v24H0V0z\" fill=\"none\"/>\n",
              "    <path d=\"M18.56 5.44l.94 2.06.94-2.06 2.06-.94-2.06-.94-.94-2.06-.94 2.06-2.06.94zm-11 1L8.5 8.5l.94-2.06 2.06-.94-2.06-.94L8.5 2.5l-.94 2.06-2.06.94zm10 10l.94 2.06.94-2.06 2.06-.94-2.06-.94-.94-2.06-.94 2.06-2.06.94z\"/><path d=\"M17.41 7.96l-1.37-1.37c-.4-.4-.92-.59-1.43-.59-.52 0-1.04.2-1.43.59L10.3 9.45l-7.72 7.72c-.78.78-.78 2.05 0 2.83L4 21.41c.39.39.9.59 1.41.59.51 0 1.02-.2 1.41-.59l7.78-7.78 2.81-2.81c.8-.78.8-2.07 0-2.86zM5.41 20L4 18.59l7.72-7.72 1.47 1.35L5.41 20z\"/>\n",
              "  </svg>\n",
              "      </button>\n",
              "      \n",
              "  <style>\n",
              "    .colab-df-container {\n",
              "      display:flex;\n",
              "      flex-wrap:wrap;\n",
              "      gap: 12px;\n",
              "    }\n",
              "\n",
              "    .colab-df-convert {\n",
              "      background-color: #E8F0FE;\n",
              "      border: none;\n",
              "      border-radius: 50%;\n",
              "      cursor: pointer;\n",
              "      display: none;\n",
              "      fill: #1967D2;\n",
              "      height: 32px;\n",
              "      padding: 0 0 0 0;\n",
              "      width: 32px;\n",
              "    }\n",
              "\n",
              "    .colab-df-convert:hover {\n",
              "      background-color: #E2EBFA;\n",
              "      box-shadow: 0px 1px 2px rgba(60, 64, 67, 0.3), 0px 1px 3px 1px rgba(60, 64, 67, 0.15);\n",
              "      fill: #174EA6;\n",
              "    }\n",
              "\n",
              "    [theme=dark] .colab-df-convert {\n",
              "      background-color: #3B4455;\n",
              "      fill: #D2E3FC;\n",
              "    }\n",
              "\n",
              "    [theme=dark] .colab-df-convert:hover {\n",
              "      background-color: #434B5C;\n",
              "      box-shadow: 0px 1px 3px 1px rgba(0, 0, 0, 0.15);\n",
              "      filter: drop-shadow(0px 1px 2px rgba(0, 0, 0, 0.3));\n",
              "      fill: #FFFFFF;\n",
              "    }\n",
              "  </style>\n",
              "\n",
              "      <script>\n",
              "        const buttonEl =\n",
              "          document.querySelector('#df-706e0eb9-8129-49d6-94f4-3de277bde0e6 button.colab-df-convert');\n",
              "        buttonEl.style.display =\n",
              "          google.colab.kernel.accessAllowed ? 'block' : 'none';\n",
              "\n",
              "        async function convertToInteractive(key) {\n",
              "          const element = document.querySelector('#df-706e0eb9-8129-49d6-94f4-3de277bde0e6');\n",
              "          const dataTable =\n",
              "            await google.colab.kernel.invokeFunction('convertToInteractive',\n",
              "                                                     [key], {});\n",
              "          if (!dataTable) return;\n",
              "\n",
              "          const docLinkHtml = 'Like what you see? Visit the ' +\n",
              "            '<a target=\"_blank\" href=https://colab.research.google.com/notebooks/data_table.ipynb>data table notebook</a>'\n",
              "            + ' to learn more about interactive tables.';\n",
              "          element.innerHTML = '';\n",
              "          dataTable['output_type'] = 'display_data';\n",
              "          await google.colab.output.renderOutput(dataTable, element);\n",
              "          const docLink = document.createElement('div');\n",
              "          docLink.innerHTML = docLinkHtml;\n",
              "          element.appendChild(docLink);\n",
              "        }\n",
              "      </script>\n",
              "    </div>\n",
              "  </div>\n",
              "  "
            ],
            "text/plain": [
              "             DIA   AÑO  ...  PROVINCIA_DESTINO_LE  INTERPROVINCIAL_LE\n",
              "2681  2018-08-16  2018  ...                     3                   0\n",
              "2682  2019-05-15  2019  ...                     0                   1\n",
              "2683  2019-08-16  2019  ...                     1                   0\n",
              "2684  2019-05-19  2019  ...                     0                   1\n",
              "2685  2019-05-19  2019  ...                     1                   0\n",
              "\n",
              "[5 rows x 25 columns]"
            ]
          },
          "metadata": {},
          "execution_count": 47
        }
      ]
    },
    {
      "cell_type": "code",
      "source": [
        "clm_encoded = clm_to_encode.drop(columns=['ORIGEN', 'DESTINO', 'CA_ORIGEN', 'CA_DESTINO', 'PROVINCIA_ORIGEN', 'PROVINCIA_DESTINO', 'INTERPROVINCIAL', 'PAIS'])\n",
        "clm_encoded.head(2)"
      ],
      "metadata": {
        "colab": {
          "base_uri": "https://localhost:8080/",
          "height": 211
        },
        "id": "MaD9QqwwEtgn",
        "outputId": "4db039d6-5909-497d-c88f-d88ecb114f4c"
      },
      "execution_count": 48,
      "outputs": [
        {
          "output_type": "execute_result",
          "data": {
            "text/html": [
              "\n",
              "  <div id=\"df-1af0421d-bcc6-43c2-b3dc-531598d18a26\">\n",
              "    <div class=\"colab-df-container\">\n",
              "      <div>\n",
              "<style scoped>\n",
              "    .dataframe tbody tr th:only-of-type {\n",
              "        vertical-align: middle;\n",
              "    }\n",
              "\n",
              "    .dataframe tbody tr th {\n",
              "        vertical-align: top;\n",
              "    }\n",
              "\n",
              "    .dataframe thead th {\n",
              "        text-align: right;\n",
              "    }\n",
              "</style>\n",
              "<table border=\"1\" class=\"dataframe\">\n",
              "  <thead>\n",
              "    <tr style=\"text-align: right;\">\n",
              "      <th></th>\n",
              "      <th>DIA</th>\n",
              "      <th>AÑO</th>\n",
              "      <th>SEMANA</th>\n",
              "      <th>MES</th>\n",
              "      <th>ASIENTOS_OFERTADOS</th>\n",
              "      <th>ASIENTOS_CONFIRMADOS</th>\n",
              "      <th>VIAJES_OFERTADOS</th>\n",
              "      <th>VIAJES_CONFIRMADOS</th>\n",
              "      <th>OFERTANTES</th>\n",
              "      <th>OFERTANTES_NUEVOS</th>\n",
              "      <th>ORIGEN_LE</th>\n",
              "      <th>DESTINO_LE</th>\n",
              "      <th>CA_ORIGEN_LE</th>\n",
              "      <th>CA_DESTINO_LE</th>\n",
              "      <th>PROVINCIA_ORIGEN_LE</th>\n",
              "      <th>PROVINCIA_DESTINO_LE</th>\n",
              "      <th>INTERPROVINCIAL_LE</th>\n",
              "    </tr>\n",
              "  </thead>\n",
              "  <tbody>\n",
              "    <tr>\n",
              "      <th>0</th>\n",
              "      <td>2019-09-01</td>\n",
              "      <td>2019</td>\n",
              "      <td>35</td>\n",
              "      <td>9</td>\n",
              "      <td>8.0</td>\n",
              "      <td>1</td>\n",
              "      <td>7</td>\n",
              "      <td>1</td>\n",
              "      <td>7</td>\n",
              "      <td>0</td>\n",
              "      <td>14</td>\n",
              "      <td>0</td>\n",
              "      <td>0</td>\n",
              "      <td>0</td>\n",
              "      <td>2</td>\n",
              "      <td>0</td>\n",
              "      <td>0</td>\n",
              "    </tr>\n",
              "    <tr>\n",
              "      <th>1</th>\n",
              "      <td>2018-05-01</td>\n",
              "      <td>2018</td>\n",
              "      <td>18</td>\n",
              "      <td>5</td>\n",
              "      <td>10.0</td>\n",
              "      <td>1</td>\n",
              "      <td>6</td>\n",
              "      <td>1</td>\n",
              "      <td>6</td>\n",
              "      <td>0</td>\n",
              "      <td>14</td>\n",
              "      <td>0</td>\n",
              "      <td>0</td>\n",
              "      <td>0</td>\n",
              "      <td>2</td>\n",
              "      <td>0</td>\n",
              "      <td>0</td>\n",
              "    </tr>\n",
              "  </tbody>\n",
              "</table>\n",
              "</div>\n",
              "      <button class=\"colab-df-convert\" onclick=\"convertToInteractive('df-1af0421d-bcc6-43c2-b3dc-531598d18a26')\"\n",
              "              title=\"Convert this dataframe to an interactive table.\"\n",
              "              style=\"display:none;\">\n",
              "        \n",
              "  <svg xmlns=\"http://www.w3.org/2000/svg\" height=\"24px\"viewBox=\"0 0 24 24\"\n",
              "       width=\"24px\">\n",
              "    <path d=\"M0 0h24v24H0V0z\" fill=\"none\"/>\n",
              "    <path d=\"M18.56 5.44l.94 2.06.94-2.06 2.06-.94-2.06-.94-.94-2.06-.94 2.06-2.06.94zm-11 1L8.5 8.5l.94-2.06 2.06-.94-2.06-.94L8.5 2.5l-.94 2.06-2.06.94zm10 10l.94 2.06.94-2.06 2.06-.94-2.06-.94-.94-2.06-.94 2.06-2.06.94z\"/><path d=\"M17.41 7.96l-1.37-1.37c-.4-.4-.92-.59-1.43-.59-.52 0-1.04.2-1.43.59L10.3 9.45l-7.72 7.72c-.78.78-.78 2.05 0 2.83L4 21.41c.39.39.9.59 1.41.59.51 0 1.02-.2 1.41-.59l7.78-7.78 2.81-2.81c.8-.78.8-2.07 0-2.86zM5.41 20L4 18.59l7.72-7.72 1.47 1.35L5.41 20z\"/>\n",
              "  </svg>\n",
              "      </button>\n",
              "      \n",
              "  <style>\n",
              "    .colab-df-container {\n",
              "      display:flex;\n",
              "      flex-wrap:wrap;\n",
              "      gap: 12px;\n",
              "    }\n",
              "\n",
              "    .colab-df-convert {\n",
              "      background-color: #E8F0FE;\n",
              "      border: none;\n",
              "      border-radius: 50%;\n",
              "      cursor: pointer;\n",
              "      display: none;\n",
              "      fill: #1967D2;\n",
              "      height: 32px;\n",
              "      padding: 0 0 0 0;\n",
              "      width: 32px;\n",
              "    }\n",
              "\n",
              "    .colab-df-convert:hover {\n",
              "      background-color: #E2EBFA;\n",
              "      box-shadow: 0px 1px 2px rgba(60, 64, 67, 0.3), 0px 1px 3px 1px rgba(60, 64, 67, 0.15);\n",
              "      fill: #174EA6;\n",
              "    }\n",
              "\n",
              "    [theme=dark] .colab-df-convert {\n",
              "      background-color: #3B4455;\n",
              "      fill: #D2E3FC;\n",
              "    }\n",
              "\n",
              "    [theme=dark] .colab-df-convert:hover {\n",
              "      background-color: #434B5C;\n",
              "      box-shadow: 0px 1px 3px 1px rgba(0, 0, 0, 0.15);\n",
              "      filter: drop-shadow(0px 1px 2px rgba(0, 0, 0, 0.3));\n",
              "      fill: #FFFFFF;\n",
              "    }\n",
              "  </style>\n",
              "\n",
              "      <script>\n",
              "        const buttonEl =\n",
              "          document.querySelector('#df-1af0421d-bcc6-43c2-b3dc-531598d18a26 button.colab-df-convert');\n",
              "        buttonEl.style.display =\n",
              "          google.colab.kernel.accessAllowed ? 'block' : 'none';\n",
              "\n",
              "        async function convertToInteractive(key) {\n",
              "          const element = document.querySelector('#df-1af0421d-bcc6-43c2-b3dc-531598d18a26');\n",
              "          const dataTable =\n",
              "            await google.colab.kernel.invokeFunction('convertToInteractive',\n",
              "                                                     [key], {});\n",
              "          if (!dataTable) return;\n",
              "\n",
              "          const docLinkHtml = 'Like what you see? Visit the ' +\n",
              "            '<a target=\"_blank\" href=https://colab.research.google.com/notebooks/data_table.ipynb>data table notebook</a>'\n",
              "            + ' to learn more about interactive tables.';\n",
              "          element.innerHTML = '';\n",
              "          dataTable['output_type'] = 'display_data';\n",
              "          await google.colab.output.renderOutput(dataTable, element);\n",
              "          const docLink = document.createElement('div');\n",
              "          docLink.innerHTML = docLinkHtml;\n",
              "          element.appendChild(docLink);\n",
              "        }\n",
              "      </script>\n",
              "    </div>\n",
              "  </div>\n",
              "  "
            ],
            "text/plain": [
              "          DIA   AÑO  ...  PROVINCIA_DESTINO_LE  INTERPROVINCIAL_LE\n",
              "0  2019-09-01  2019  ...                     0                   0\n",
              "1  2018-05-01  2018  ...                     0                   0\n",
              "\n",
              "[2 rows x 17 columns]"
            ]
          },
          "metadata": {},
          "execution_count": 48
        }
      ]
    },
    {
      "cell_type": "markdown",
      "source": [
        "# Regression"
      ],
      "metadata": {
        "id": "VSXyBtXoEQpn"
      }
    },
    {
      "cell_type": "markdown",
      "source": [
        "El proceso de regresión se realizará con los datos de **clm_encoded** y **andalucia_encoded**."
      ],
      "metadata": {
        "id": "rWcvGFXzHYBt"
      }
    },
    {
      "cell_type": "markdown",
      "source": [
        "## Feature Selection"
      ],
      "metadata": {
        "id": "aLuzg2lzn1cZ"
      }
    },
    {
      "cell_type": "code",
      "source": [
        "import seaborn as sns\n",
        "\n",
        "mtx_corr = andalucia_encoded.corr()\n",
        "# plot the heatmap and annotation on it\n",
        "sns.heatmap(mtx_corr, xticklabels=mtx_corr.columns, yticklabels=mtx_corr.columns, annot=False)"
      ],
      "metadata": {
        "colab": {
          "base_uri": "https://localhost:8080/",
          "height": 407
        },
        "id": "s1CCKdbzsyI4",
        "outputId": "0c722ede-d5da-4ae9-b825-25e190450df2"
      },
      "execution_count": 50,
      "outputs": [
        {
          "output_type": "execute_result",
          "data": {
            "text/plain": [
              "<matplotlib.axes._subplots.AxesSubplot at 0x7fb4589d1610>"
            ]
          },
          "metadata": {},
          "execution_count": 50
        },
        {
          "output_type": "display_data",
          "data": {
            "image/png": "[encoded data removed]",
            "text/plain": [
              "<Figure size 432x288 with 2 Axes>"
            ]
          },
          "metadata": {
            "needs_background": "light"
          }
        }
      ]
    },
    {
      "cell_type": "markdown",
      "source": [
        "OFERTANTES_NUEVOS, ASIENTOS_OFERTADOS, ASIENTOS_CONFIRMADOS, VIAJES_OFERTADOS, OFERTANTES"
      ],
      "metadata": {
        "id": "n75MZHYhtSao"
      }
    },
    {
      "cell_type": "code",
      "source": [
        "features_selected = ['OFERTANTES_NUEVOS', 'ASIENTOS_OFERTADOS', 'ASIENTOS_CONFIRMADOS', 'VIAJES_OFERTADOS', 'OFERTANTES']"
      ],
      "metadata": {
        "id": "DgrGFTacvExX"
      },
      "execution_count": 51,
      "outputs": []
    },
    {
      "cell_type": "code",
      "source": [
        "date_index =andalucia_encoded.sort_values(by='DIA') \n",
        "date_index = date_index.set_index('DIA')\n",
        "\n",
        "train = date_index.loc['2017-11-01':'2018-12-25']\n",
        "test = date_index.loc['2019-01-01':]\n",
        "\n",
        "train.reset_index(drop = True, inplace = True)\n",
        "test.reset_index(drop = True, inplace = True)"
      ],
      "metadata": {
        "id": "L6oEcUiKx9N9"
      },
      "execution_count": 63,
      "outputs": []
    },
    {
      "cell_type": "markdown",
      "source": [
        "## KNN"
      ],
      "metadata": {
        "id": "xONR7iJ2Hz5Z"
      }
    },
    {
      "cell_type": "code",
      "source": [
        "def neigh_classi(cv, iterations, metric = 'minkowski'):\n",
        "  for i, weights in enumerate(['uniform', 'distance']):\n",
        "    total_scores = []\n",
        "    for n_neighbors in range(1,iterations):\n",
        "      fold_accuracy = []\n",
        "      knn = neighbors.KNeighborsRegressor(n_neighbors, weights=weights, metric=metric)\n",
        "      # verificar cada uno de los modelos con validación cruzada.\n",
        "      for train_fold, test_fold in cv.split(train):\n",
        "        # División train test aleatoria\n",
        "        f_train = train.loc[train_fold]\n",
        "        f_test = train.loc[test_fold]\n",
        "        # entrenamiento y ejecución del modelo\n",
        "        knn.fit( X = f_train.drop(['VIAJES_CONFIRMADOS'], axis=1), \n",
        "                               y = f_train['VIAJES_CONFIRMADOS'])\n",
        "        y_pred = knn.predict(X = f_test.drop(['VIAJES_CONFIRMADOS'], axis = 1))\n",
        "        # evaluación del modelo\n",
        "        mae = mean_absolute_error(f_test['VIAJES_CONFIRMADOS'], y_pred)\n",
        "        fold_accuracy.append(mae)\n",
        "      total_scores.append(sum(fold_accuracy)/len(fold_accuracy))\n",
        "   \n",
        "    plt.plot(range(1,len(total_scores)+1), total_scores, \n",
        "             marker='o', label=weights)\n",
        "    print ('Min Value ' +  weights + \" : \" +  str(min(total_scores)) +\" (\" + str(np.argmin(total_scores) + 1) + \")\")\n",
        "    plt.ylabel('MAE')  \n",
        "    \n",
        "    plt.title(metric,\n",
        "            fontdict={'family': 'serif', \n",
        "                    'color' : 'red',\n",
        "                    'weight': 'bold',\n",
        "                    'size': 13})\n",
        "\n",
        "  plt.legend()\n",
        "  plt.show()\n",
        "  return str(np.argmin(total_scores) + 1)"
      ],
      "metadata": {
        "id": "2EUs6J5pyfzM"
      },
      "execution_count": 64,
      "outputs": []
    },
    {
      "cell_type": "code",
      "source": [
        "cv = KFold(n_splits = 5, shuffle = False) # shuffle == false cause we have temporal variable\n",
        "\n",
        "neigh_m = neigh_classi(cv, 40, 'manhattan')"
      ],
      "metadata": {
        "colab": {
          "base_uri": "https://localhost:8080/",
          "height": 317
        },
        "id": "wMwKirczyhGt",
        "outputId": "cf39f38e-4a75-4aa5-a17e-e358f4c7c2f5"
      },
      "execution_count": 65,
      "outputs": [
        {
          "output_type": "stream",
          "name": "stdout",
          "text": [
            "Min Value uniform : 0.8647209757268829 (7)\n",
            "Min Value distance : 0.821551545808281 (7)\n"
          ]
        },
        {
          "output_type": "display_data",
          "data": {
            "image/png": "[encoded data removed]",
            "text/plain": [
              "<Figure size 432x288 with 1 Axes>"
            ]
          },
          "metadata": {
            "needs_background": "light"
          }
        }
      ]
    },
    {
      "cell_type": "markdown",
      "source": [
        "## Predicción"
      ],
      "metadata": {
        "id": "fA0qOmtxHwna"
      }
    },
    {
      "cell_type": "code",
      "source": [
        "# constructor\n",
        "n_neighbors = int(neigh_m)\n",
        "weights = 'uniform'\n",
        "\n",
        "knn = neighbors.KNeighborsRegressor(n_neighbors= n_neighbors, weights=weights, metric = 'manhattan') \n",
        "\n",
        "# fit and predict\n",
        "knn.fit( X = train.drop(['VIAJES_CONFIRMADOS'], axis=1), y = train['VIAJES_CONFIRMADOS'])\n",
        "y_pred = knn.predict(X = test.drop(['VIAJES_CONFIRMADOS'], axis =1))\n",
        "\n",
        "mae = mean_absolute_error(test['VIAJES_CONFIRMADOS'], y_pred)\n",
        "print('MAE', mae)"
      ],
      "metadata": {
        "colab": {
          "base_uri": "https://localhost:8080/"
        },
        "id": "-StbIgEVHpty",
        "outputId": "d5517836-a85a-4c15-ee32-f960e54e8934"
      },
      "execution_count": 66,
      "outputs": [
        {
          "output_type": "stream",
          "name": "stdout",
          "text": [
            "MAE 0.9092975049444698\n"
          ]
        }
      ]
    },
    {
      "cell_type": "code",
      "source": [
        "\n",
        "xx = np.stack(i for i in range(test['VIAJES_CONFIRMADOS'].shape[0]))\n",
        "plt.figure(figsize=(11,11))\n",
        "plt.plot(xx, test['VIAJES_CONFIRMADOS'], c='r', label='data')\n",
        "#plt.plot(xx, y, c='k', label='data')\n",
        "\n",
        "plt.plot(xx, y_pred, c='g', label='prediction')\n",
        "plt.axis('tight')\n",
        "plt.legend()\n",
        "plt.title(\"KNeighborsRegressor (k = %i, weights = '%s')\" % (n_neighbors,\n",
        "                                                                weights))\n",
        "\n",
        "plt.show()"
      ],
      "metadata": {
        "colab": {
          "base_uri": "https://localhost:8080/",
          "height": 718
        },
        "id": "WA7AKEflH9_h",
        "outputId": "f8c40682-6377-423f-f173-c40b0843fc68"
      },
      "execution_count": 67,
      "outputs": [
        {
          "output_type": "stream",
          "name": "stderr",
          "text": [
            "/usr/local/lib/python3.7/dist-packages/IPython/core/interactiveshell.py:2822: FutureWarning: arrays to stack must be passed as a \"sequence\" type such as list or tuple. Support for non-sequence iterables such as generators is deprecated as of NumPy 1.16 and will raise an error in the future.\n",
            "  if self.run_code(code, result):\n"
          ]
        },
        {
          "output_type": "display_data",
          "data": {
            "image/png": "[encoded data removed]",
            "text/plain": [
              "<Figure size 792x792 with 1 Axes>"
            ]
          },
          "metadata": {
            "needs_background": "light"
          }
        }
      ]
    }
  ]
}