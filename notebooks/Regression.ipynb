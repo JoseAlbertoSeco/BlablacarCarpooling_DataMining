{
  "nbformat": 4,
  "nbformat_minor": 0,
  "metadata": {
    "colab": {
      "name": "Regression.ipynb",
      "provenance": [],
      "collapsed_sections": [],
      "toc_visible": true,
      "include_colab_link": true
    },
    "kernelspec": {
      "name": "python3",
      "display_name": "Python 3"
    },
    "language_info": {
      "name": "python"
    }
  },
  "cells": [
    {
      "cell_type": "markdown",
      "metadata": {
        "id": "view-in-github",
        "colab_type": "text"
      },
      "source": [
        "<a href=\"https://colab.research.google.com/github/JoseAlbertoSeco/BlablacarCarpooling_DataMining/blob/Patterns/notebooks/Regression.ipynb\" target=\"_parent\"><img src=\"https://colab.research.google.com/assets/colab-badge.svg\" alt=\"Open In Colab\"/></a>"
      ]
    },
    {
      "cell_type": "markdown",
      "source": [
        "# Linea de trabajo 2:\n",
        "\n",
        "En este notebook se realizará un algoritmo de regresión, con esto se pretende que la empresa tome decisiones. Responderemos a la pregunta: \n",
        "\n",
        "¿Si de momento tengo los datos sobre determinados viajes a una ciudad como pueden ser, la fecha, el orige, destino, el número de persona que ha ofertado, o los asientos que ya están completos, cuantos viajes de todos los disponibles se realizarán al final?\n",
        "\n",
        "Con esto se pretende ayudar a la empresa a la hora de tomar decisiones como podrían ser decisiones publicitarias sobre viajes, poner anuncios sobre un determinado viaje, etc."
      ],
      "metadata": {
        "id": "7hMIGoJ9Zoju"
      }
    },
    {
      "cell_type": "code",
      "execution_count": 1,
      "metadata": {
        "id": "XntheoF5qdJI"
      },
      "outputs": [],
      "source": [
        "import pandas as pd\n",
        "import matplotlib.pyplot as plt\n",
        "import numpy as np\n",
        "import seaborn as sns\n",
        "\n",
        "from sklearn.model_selection import train_test_split\n",
        "from sklearn import neighbors\n",
        "from sklearn.model_selection import KFold\n",
        "from sklearn import metrics\n",
        "from sklearn import linear_model\n",
        "from sklearn import tree \n",
        "\n",
        "from sklearn.model_selection import TimeSeriesSplit\n",
        "from sklearn.tree import DecisionTreeRegressor\n",
        "from sklearn.ensemble import RandomForestRegressor\n",
        "from sklearn.datasets import make_regression"
      ]
    },
    {
      "cell_type": "markdown",
      "source": [
        "# Carga de datos"
      ],
      "metadata": {
        "id": "m2TqZWvwtAIi"
      }
    },
    {
      "cell_type": "code",
      "source": [
        "from google.colab import drive\n",
        "drive.mount('/content/drive')"
      ],
      "metadata": {
        "colab": {
          "base_uri": "https://localhost:8080/"
        },
        "id": "8ZW6Jg1rTk42",
        "outputId": "d3eec7e3-0875-460c-c95d-bd84c1d23fa6"
      },
      "execution_count": 2,
      "outputs": [
        {
          "output_type": "stream",
          "name": "stdout",
          "text": [
            "Drive already mounted at /content/drive; to attempt to forcibly remount, call drive.mount(\"/content/drive\", force_remount=True).\n"
          ]
        }
      ]
    },
    {
      "cell_type": "code",
      "source": [
        "!wget https://github.com/JoseAlbertoSeco/BlablacarCarpooling_DataMining/raw/main/data/processed/ccaa.csv"
      ],
      "metadata": {
        "colab": {
          "base_uri": "https://localhost:8080/"
        },
        "id": "El1ZQa_EUTVB",
        "outputId": "2abd6abe-15a6-45eb-d263-c1f602a30b86"
      },
      "execution_count": 3,
      "outputs": [
        {
          "output_type": "stream",
          "name": "stdout",
          "text": [
            "--2022-01-24 00:36:47--  https://github.com/JoseAlbertoSeco/BlablacarCarpooling_DataMining/raw/main/data/processed/ccaa.csv\n",
            "Resolving github.com (github.com)... 140.82.114.4\n",
            "Connecting to github.com (github.com)|140.82.114.4|:443... connected.\n",
            "HTTP request sent, awaiting response... 302 Found\n",
            "Location: https://raw.githubusercontent.com/JoseAlbertoSeco/BlablacarCarpooling_DataMining/main/data/processed/ccaa.csv [following]\n",
            "--2022-01-24 00:36:47--  https://raw.githubusercontent.com/JoseAlbertoSeco/BlablacarCarpooling_DataMining/main/data/processed/ccaa.csv\n",
            "Resolving raw.githubusercontent.com (raw.githubusercontent.com)... 185.199.108.133, 185.199.109.133, 185.199.110.133, ...\n",
            "Connecting to raw.githubusercontent.com (raw.githubusercontent.com)|185.199.108.133|:443... connected.\n",
            "HTTP request sent, awaiting response... 200 OK\n",
            "Length: 299179 (292K) [text/plain]\n",
            "Saving to: ‘ccaa.csv.1’\n",
            "\n",
            "ccaa.csv.1          100%[===================>] 292.17K  --.-KB/s    in 0.04s   \n",
            "\n",
            "2022-01-24 00:36:47 (7.97 MB/s) - ‘ccaa.csv.1’ saved [299179/299179]\n",
            "\n"
          ]
        }
      ]
    },
    {
      "cell_type": "markdown",
      "source": [
        "## Carga provincial"
      ],
      "metadata": {
        "id": "bbOtxrMltCkK"
      }
    },
    {
      "cell_type": "code",
      "source": [
        "andalucia = pd.read_csv(\"/content/drive/MyDrive/Datos/df_andalucia.csv\") \n",
        "andalucia = andalucia.drop(andalucia.columns[[0]], axis=1)\n",
        "andalucia.head(3)"
      ],
      "metadata": {
        "colab": {
          "base_uri": "https://localhost:8080/",
          "height": 260
        },
        "id": "B_LGwaGzrnny",
        "outputId": "945b4f08-20b4-484b-fc47-f9f12d12347e"
      },
      "execution_count": 4,
      "outputs": [
        {
          "output_type": "execute_result",
          "data": {
            "text/html": [
              "\n",
              "  <div id=\"df-79d73df2-3970-4566-a9cf-7da7a927c824\">\n",
              "    <div class=\"colab-df-container\">\n",
              "      <div>\n",
              "<style scoped>\n",
              "    .dataframe tbody tr th:only-of-type {\n",
              "        vertical-align: middle;\n",
              "    }\n",
              "\n",
              "    .dataframe tbody tr th {\n",
              "        vertical-align: top;\n",
              "    }\n",
              "\n",
              "    .dataframe thead th {\n",
              "        text-align: right;\n",
              "    }\n",
              "</style>\n",
              "<table border=\"1\" class=\"dataframe\">\n",
              "  <thead>\n",
              "    <tr style=\"text-align: right;\">\n",
              "      <th></th>\n",
              "      <th>DIA</th>\n",
              "      <th>AÑO</th>\n",
              "      <th>SEMANA</th>\n",
              "      <th>MES</th>\n",
              "      <th>PAIS</th>\n",
              "      <th>ORIGEN</th>\n",
              "      <th>DESTINO</th>\n",
              "      <th>ASIENTOS_OFERTADOS</th>\n",
              "      <th>ASIENTOS_CONFIRMADOS</th>\n",
              "      <th>VIAJES_OFERTADOS</th>\n",
              "      <th>VIAJES_CONFIRMADOS</th>\n",
              "      <th>OFERTANTES</th>\n",
              "      <th>OFERTANTES_NUEVOS</th>\n",
              "      <th>CA_ORIGEN</th>\n",
              "      <th>CA_DESTINO</th>\n",
              "      <th>PROVINCIA_ORIGEN</th>\n",
              "      <th>PROVINCIA_DESTINO</th>\n",
              "      <th>INTERPROVINCIAL</th>\n",
              "      <th>Festivo</th>\n",
              "    </tr>\n",
              "  </thead>\n",
              "  <tbody>\n",
              "    <tr>\n",
              "      <th>0</th>\n",
              "      <td>2017-11-01</td>\n",
              "      <td>2017</td>\n",
              "      <td>44</td>\n",
              "      <td>11</td>\n",
              "      <td>es</td>\n",
              "      <td>Albox</td>\n",
              "      <td>Granada</td>\n",
              "      <td>1.0</td>\n",
              "      <td>1</td>\n",
              "      <td>1</td>\n",
              "      <td>1</td>\n",
              "      <td>1</td>\n",
              "      <td>0</td>\n",
              "      <td>Andalucía</td>\n",
              "      <td>Andalucía</td>\n",
              "      <td>Almería</td>\n",
              "      <td>Granada</td>\n",
              "      <td>No</td>\n",
              "      <td>Si</td>\n",
              "    </tr>\n",
              "    <tr>\n",
              "      <th>1</th>\n",
              "      <td>2017-11-03</td>\n",
              "      <td>2017</td>\n",
              "      <td>44</td>\n",
              "      <td>11</td>\n",
              "      <td>es</td>\n",
              "      <td>Albox</td>\n",
              "      <td>Granada</td>\n",
              "      <td>12.0</td>\n",
              "      <td>1</td>\n",
              "      <td>4</td>\n",
              "      <td>1</td>\n",
              "      <td>4</td>\n",
              "      <td>0</td>\n",
              "      <td>Andalucía</td>\n",
              "      <td>Andalucía</td>\n",
              "      <td>Almería</td>\n",
              "      <td>Granada</td>\n",
              "      <td>No</td>\n",
              "      <td>No</td>\n",
              "    </tr>\n",
              "    <tr>\n",
              "      <th>2</th>\n",
              "      <td>2017-11-05</td>\n",
              "      <td>2017</td>\n",
              "      <td>44</td>\n",
              "      <td>11</td>\n",
              "      <td>es</td>\n",
              "      <td>Albox</td>\n",
              "      <td>Granada</td>\n",
              "      <td>2.0</td>\n",
              "      <td>1</td>\n",
              "      <td>1</td>\n",
              "      <td>1</td>\n",
              "      <td>1</td>\n",
              "      <td>0</td>\n",
              "      <td>Andalucía</td>\n",
              "      <td>Andalucía</td>\n",
              "      <td>Almería</td>\n",
              "      <td>Granada</td>\n",
              "      <td>No</td>\n",
              "      <td>No</td>\n",
              "    </tr>\n",
              "  </tbody>\n",
              "</table>\n",
              "</div>\n",
              "      <button class=\"colab-df-convert\" onclick=\"convertToInteractive('df-79d73df2-3970-4566-a9cf-7da7a927c824')\"\n",
              "              title=\"Convert this dataframe to an interactive table.\"\n",
              "              style=\"display:none;\">\n",
              "        \n",
              "  <svg xmlns=\"http://www.w3.org/2000/svg\" height=\"24px\"viewBox=\"0 0 24 24\"\n",
              "       width=\"24px\">\n",
              "    <path d=\"M0 0h24v24H0V0z\" fill=\"none\"/>\n",
              "    <path d=\"M18.56 5.44l.94 2.06.94-2.06 2.06-.94-2.06-.94-.94-2.06-.94 2.06-2.06.94zm-11 1L8.5 8.5l.94-2.06 2.06-.94-2.06-.94L8.5 2.5l-.94 2.06-2.06.94zm10 10l.94 2.06.94-2.06 2.06-.94-2.06-.94-.94-2.06-.94 2.06-2.06.94z\"/><path d=\"M17.41 7.96l-1.37-1.37c-.4-.4-.92-.59-1.43-.59-.52 0-1.04.2-1.43.59L10.3 9.45l-7.72 7.72c-.78.78-.78 2.05 0 2.83L4 21.41c.39.39.9.59 1.41.59.51 0 1.02-.2 1.41-.59l7.78-7.78 2.81-2.81c.8-.78.8-2.07 0-2.86zM5.41 20L4 18.59l7.72-7.72 1.47 1.35L5.41 20z\"/>\n",
              "  </svg>\n",
              "      </button>\n",
              "      \n",
              "  <style>\n",
              "    .colab-df-container {\n",
              "      display:flex;\n",
              "      flex-wrap:wrap;\n",
              "      gap: 12px;\n",
              "    }\n",
              "\n",
              "    .colab-df-convert {\n",
              "      background-color: #E8F0FE;\n",
              "      border: none;\n",
              "      border-radius: 50%;\n",
              "      cursor: pointer;\n",
              "      display: none;\n",
              "      fill: #1967D2;\n",
              "      height: 32px;\n",
              "      padding: 0 0 0 0;\n",
              "      width: 32px;\n",
              "    }\n",
              "\n",
              "    .colab-df-convert:hover {\n",
              "      background-color: #E2EBFA;\n",
              "      box-shadow: 0px 1px 2px rgba(60, 64, 67, 0.3), 0px 1px 3px 1px rgba(60, 64, 67, 0.15);\n",
              "      fill: #174EA6;\n",
              "    }\n",
              "\n",
              "    [theme=dark] .colab-df-convert {\n",
              "      background-color: #3B4455;\n",
              "      fill: #D2E3FC;\n",
              "    }\n",
              "\n",
              "    [theme=dark] .colab-df-convert:hover {\n",
              "      background-color: #434B5C;\n",
              "      box-shadow: 0px 1px 3px 1px rgba(0, 0, 0, 0.15);\n",
              "      filter: drop-shadow(0px 1px 2px rgba(0, 0, 0, 0.3));\n",
              "      fill: #FFFFFF;\n",
              "    }\n",
              "  </style>\n",
              "\n",
              "      <script>\n",
              "        const buttonEl =\n",
              "          document.querySelector('#df-79d73df2-3970-4566-a9cf-7da7a927c824 button.colab-df-convert');\n",
              "        buttonEl.style.display =\n",
              "          google.colab.kernel.accessAllowed ? 'block' : 'none';\n",
              "\n",
              "        async function convertToInteractive(key) {\n",
              "          const element = document.querySelector('#df-79d73df2-3970-4566-a9cf-7da7a927c824');\n",
              "          const dataTable =\n",
              "            await google.colab.kernel.invokeFunction('convertToInteractive',\n",
              "                                                     [key], {});\n",
              "          if (!dataTable) return;\n",
              "\n",
              "          const docLinkHtml = 'Like what you see? Visit the ' +\n",
              "            '<a target=\"_blank\" href=https://colab.research.google.com/notebooks/data_table.ipynb>data table notebook</a>'\n",
              "            + ' to learn more about interactive tables.';\n",
              "          element.innerHTML = '';\n",
              "          dataTable['output_type'] = 'display_data';\n",
              "          await google.colab.output.renderOutput(dataTable, element);\n",
              "          const docLink = document.createElement('div');\n",
              "          docLink.innerHTML = docLinkHtml;\n",
              "          element.appendChild(docLink);\n",
              "        }\n",
              "      </script>\n",
              "    </div>\n",
              "  </div>\n",
              "  "
            ],
            "text/plain": [
              "          DIA   AÑO  SEMANA  ...  PROVINCIA_DESTINO INTERPROVINCIAL Festivo\n",
              "0  2017-11-01  2017      44  ...            Granada              No      Si\n",
              "1  2017-11-03  2017      44  ...            Granada              No      No\n",
              "2  2017-11-05  2017      44  ...            Granada              No      No\n",
              "\n",
              "[3 rows x 19 columns]"
            ]
          },
          "metadata": {},
          "execution_count": 4
        }
      ]
    },
    {
      "cell_type": "code",
      "source": [
        "clm = pd.read_csv(\"/content/drive/MyDrive/Datos/df_castilla.csv\") \n",
        "clm = clm.drop(clm.columns[[0]], axis=1)\n",
        "clm.head(3)"
      ],
      "metadata": {
        "colab": {
          "base_uri": "https://localhost:8080/",
          "height": 260
        },
        "id": "SsjiznIbr3db",
        "outputId": "5ee5a624-1000-4e78-e9a9-571dff8de30b"
      },
      "execution_count": 5,
      "outputs": [
        {
          "output_type": "execute_result",
          "data": {
            "text/html": [
              "\n",
              "  <div id=\"df-1952b35f-650e-4d05-92f6-d269bedde5ae\">\n",
              "    <div class=\"colab-df-container\">\n",
              "      <div>\n",
              "<style scoped>\n",
              "    .dataframe tbody tr th:only-of-type {\n",
              "        vertical-align: middle;\n",
              "    }\n",
              "\n",
              "    .dataframe tbody tr th {\n",
              "        vertical-align: top;\n",
              "    }\n",
              "\n",
              "    .dataframe thead th {\n",
              "        text-align: right;\n",
              "    }\n",
              "</style>\n",
              "<table border=\"1\" class=\"dataframe\">\n",
              "  <thead>\n",
              "    <tr style=\"text-align: right;\">\n",
              "      <th></th>\n",
              "      <th>DIA</th>\n",
              "      <th>AÑO</th>\n",
              "      <th>SEMANA</th>\n",
              "      <th>MES</th>\n",
              "      <th>PAIS</th>\n",
              "      <th>ORIGEN</th>\n",
              "      <th>DESTINO</th>\n",
              "      <th>ASIENTOS_OFERTADOS</th>\n",
              "      <th>ASIENTOS_CONFIRMADOS</th>\n",
              "      <th>VIAJES_OFERTADOS</th>\n",
              "      <th>VIAJES_CONFIRMADOS</th>\n",
              "      <th>OFERTANTES</th>\n",
              "      <th>OFERTANTES_NUEVOS</th>\n",
              "      <th>CA_ORIGEN</th>\n",
              "      <th>CA_DESTINO</th>\n",
              "      <th>PROVINCIA_ORIGEN</th>\n",
              "      <th>PROVINCIA_DESTINO</th>\n",
              "      <th>INTERPROVINCIAL</th>\n",
              "      <th>Festivo</th>\n",
              "    </tr>\n",
              "  </thead>\n",
              "  <tbody>\n",
              "    <tr>\n",
              "      <th>0</th>\n",
              "      <td>2017-11-05</td>\n",
              "      <td>2017</td>\n",
              "      <td>44</td>\n",
              "      <td>11</td>\n",
              "      <td>es</td>\n",
              "      <td>Albacete</td>\n",
              "      <td>Guadalajara</td>\n",
              "      <td>11.0</td>\n",
              "      <td>1</td>\n",
              "      <td>6</td>\n",
              "      <td>1</td>\n",
              "      <td>6</td>\n",
              "      <td>1</td>\n",
              "      <td>Castilla-La Mancha</td>\n",
              "      <td>Castilla-La Mancha</td>\n",
              "      <td>Albacete</td>\n",
              "      <td>Guadalajara</td>\n",
              "      <td>No</td>\n",
              "      <td>No</td>\n",
              "    </tr>\n",
              "    <tr>\n",
              "      <th>1</th>\n",
              "      <td>2017-11-12</td>\n",
              "      <td>2017</td>\n",
              "      <td>45</td>\n",
              "      <td>11</td>\n",
              "      <td>es</td>\n",
              "      <td>Albacete</td>\n",
              "      <td>Guadalajara</td>\n",
              "      <td>11.0</td>\n",
              "      <td>1</td>\n",
              "      <td>6</td>\n",
              "      <td>1</td>\n",
              "      <td>6</td>\n",
              "      <td>1</td>\n",
              "      <td>Castilla-La Mancha</td>\n",
              "      <td>Castilla-La Mancha</td>\n",
              "      <td>Albacete</td>\n",
              "      <td>Guadalajara</td>\n",
              "      <td>No</td>\n",
              "      <td>No</td>\n",
              "    </tr>\n",
              "    <tr>\n",
              "      <th>2</th>\n",
              "      <td>2017-11-19</td>\n",
              "      <td>2017</td>\n",
              "      <td>46</td>\n",
              "      <td>11</td>\n",
              "      <td>es</td>\n",
              "      <td>Albacete</td>\n",
              "      <td>Guadalajara</td>\n",
              "      <td>8.0</td>\n",
              "      <td>1</td>\n",
              "      <td>6</td>\n",
              "      <td>1</td>\n",
              "      <td>6</td>\n",
              "      <td>0</td>\n",
              "      <td>Castilla-La Mancha</td>\n",
              "      <td>Castilla-La Mancha</td>\n",
              "      <td>Albacete</td>\n",
              "      <td>Guadalajara</td>\n",
              "      <td>No</td>\n",
              "      <td>No</td>\n",
              "    </tr>\n",
              "  </tbody>\n",
              "</table>\n",
              "</div>\n",
              "      <button class=\"colab-df-convert\" onclick=\"convertToInteractive('df-1952b35f-650e-4d05-92f6-d269bedde5ae')\"\n",
              "              title=\"Convert this dataframe to an interactive table.\"\n",
              "              style=\"display:none;\">\n",
              "        \n",
              "  <svg xmlns=\"http://www.w3.org/2000/svg\" height=\"24px\"viewBox=\"0 0 24 24\"\n",
              "       width=\"24px\">\n",
              "    <path d=\"M0 0h24v24H0V0z\" fill=\"none\"/>\n",
              "    <path d=\"M18.56 5.44l.94 2.06.94-2.06 2.06-.94-2.06-.94-.94-2.06-.94 2.06-2.06.94zm-11 1L8.5 8.5l.94-2.06 2.06-.94-2.06-.94L8.5 2.5l-.94 2.06-2.06.94zm10 10l.94 2.06.94-2.06 2.06-.94-2.06-.94-.94-2.06-.94 2.06-2.06.94z\"/><path d=\"M17.41 7.96l-1.37-1.37c-.4-.4-.92-.59-1.43-.59-.52 0-1.04.2-1.43.59L10.3 9.45l-7.72 7.72c-.78.78-.78 2.05 0 2.83L4 21.41c.39.39.9.59 1.41.59.51 0 1.02-.2 1.41-.59l7.78-7.78 2.81-2.81c.8-.78.8-2.07 0-2.86zM5.41 20L4 18.59l7.72-7.72 1.47 1.35L5.41 20z\"/>\n",
              "  </svg>\n",
              "      </button>\n",
              "      \n",
              "  <style>\n",
              "    .colab-df-container {\n",
              "      display:flex;\n",
              "      flex-wrap:wrap;\n",
              "      gap: 12px;\n",
              "    }\n",
              "\n",
              "    .colab-df-convert {\n",
              "      background-color: #E8F0FE;\n",
              "      border: none;\n",
              "      border-radius: 50%;\n",
              "      cursor: pointer;\n",
              "      display: none;\n",
              "      fill: #1967D2;\n",
              "      height: 32px;\n",
              "      padding: 0 0 0 0;\n",
              "      width: 32px;\n",
              "    }\n",
              "\n",
              "    .colab-df-convert:hover {\n",
              "      background-color: #E2EBFA;\n",
              "      box-shadow: 0px 1px 2px rgba(60, 64, 67, 0.3), 0px 1px 3px 1px rgba(60, 64, 67, 0.15);\n",
              "      fill: #174EA6;\n",
              "    }\n",
              "\n",
              "    [theme=dark] .colab-df-convert {\n",
              "      background-color: #3B4455;\n",
              "      fill: #D2E3FC;\n",
              "    }\n",
              "\n",
              "    [theme=dark] .colab-df-convert:hover {\n",
              "      background-color: #434B5C;\n",
              "      box-shadow: 0px 1px 3px 1px rgba(0, 0, 0, 0.15);\n",
              "      filter: drop-shadow(0px 1px 2px rgba(0, 0, 0, 0.3));\n",
              "      fill: #FFFFFF;\n",
              "    }\n",
              "  </style>\n",
              "\n",
              "      <script>\n",
              "        const buttonEl =\n",
              "          document.querySelector('#df-1952b35f-650e-4d05-92f6-d269bedde5ae button.colab-df-convert');\n",
              "        buttonEl.style.display =\n",
              "          google.colab.kernel.accessAllowed ? 'block' : 'none';\n",
              "\n",
              "        async function convertToInteractive(key) {\n",
              "          const element = document.querySelector('#df-1952b35f-650e-4d05-92f6-d269bedde5ae');\n",
              "          const dataTable =\n",
              "            await google.colab.kernel.invokeFunction('convertToInteractive',\n",
              "                                                     [key], {});\n",
              "          if (!dataTable) return;\n",
              "\n",
              "          const docLinkHtml = 'Like what you see? Visit the ' +\n",
              "            '<a target=\"_blank\" href=https://colab.research.google.com/notebooks/data_table.ipynb>data table notebook</a>'\n",
              "            + ' to learn more about interactive tables.';\n",
              "          element.innerHTML = '';\n",
              "          dataTable['output_type'] = 'display_data';\n",
              "          await google.colab.output.renderOutput(dataTable, element);\n",
              "          const docLink = document.createElement('div');\n",
              "          docLink.innerHTML = docLinkHtml;\n",
              "          element.appendChild(docLink);\n",
              "        }\n",
              "      </script>\n",
              "    </div>\n",
              "  </div>\n",
              "  "
            ],
            "text/plain": [
              "          DIA   AÑO  SEMANA  ...  PROVINCIA_DESTINO INTERPROVINCIAL Festivo\n",
              "0  2017-11-05  2017      44  ...        Guadalajara              No      No\n",
              "1  2017-11-12  2017      45  ...        Guadalajara              No      No\n",
              "2  2017-11-19  2017      46  ...        Guadalajara              No      No\n",
              "\n",
              "[3 rows x 19 columns]"
            ]
          },
          "metadata": {},
          "execution_count": 5
        }
      ]
    },
    {
      "cell_type": "code",
      "source": [
        "ccaa = pd.read_csv(\"ccaa.csv\") \n",
        "ccaa.head(3)"
      ],
      "metadata": {
        "colab": {
          "base_uri": "https://localhost:8080/",
          "height": 143
        },
        "id": "UWRLYX6WUWS5",
        "outputId": "c9a31a94-b11a-4a93-a1b7-9a550527e96f"
      },
      "execution_count": 6,
      "outputs": [
        {
          "output_type": "execute_result",
          "data": {
            "text/html": [
              "\n",
              "  <div id=\"df-44dffcc9-297f-4726-9fc7-69e12afe696e\">\n",
              "    <div class=\"colab-df-container\">\n",
              "      <div>\n",
              "<style scoped>\n",
              "    .dataframe tbody tr th:only-of-type {\n",
              "        vertical-align: middle;\n",
              "    }\n",
              "\n",
              "    .dataframe tbody tr th {\n",
              "        vertical-align: top;\n",
              "    }\n",
              "\n",
              "    .dataframe thead th {\n",
              "        text-align: right;\n",
              "    }\n",
              "</style>\n",
              "<table border=\"1\" class=\"dataframe\">\n",
              "  <thead>\n",
              "    <tr style=\"text-align: right;\">\n",
              "      <th></th>\n",
              "      <th>Municipio</th>\n",
              "      <th>Autonomía</th>\n",
              "      <th>Provincia</th>\n",
              "    </tr>\n",
              "  </thead>\n",
              "  <tbody>\n",
              "    <tr>\n",
              "      <th>0</th>\n",
              "      <td>Alegría-Dulantzi</td>\n",
              "      <td>País Vasco</td>\n",
              "      <td>Araba/Álava</td>\n",
              "    </tr>\n",
              "    <tr>\n",
              "      <th>1</th>\n",
              "      <td>Amurrio</td>\n",
              "      <td>País Vasco</td>\n",
              "      <td>Araba/Álava</td>\n",
              "    </tr>\n",
              "    <tr>\n",
              "      <th>2</th>\n",
              "      <td>Aramaio</td>\n",
              "      <td>País Vasco</td>\n",
              "      <td>Araba/Álava</td>\n",
              "    </tr>\n",
              "  </tbody>\n",
              "</table>\n",
              "</div>\n",
              "      <button class=\"colab-df-convert\" onclick=\"convertToInteractive('df-44dffcc9-297f-4726-9fc7-69e12afe696e')\"\n",
              "              title=\"Convert this dataframe to an interactive table.\"\n",
              "              style=\"display:none;\">\n",
              "        \n",
              "  <svg xmlns=\"http://www.w3.org/2000/svg\" height=\"24px\"viewBox=\"0 0 24 24\"\n",
              "       width=\"24px\">\n",
              "    <path d=\"M0 0h24v24H0V0z\" fill=\"none\"/>\n",
              "    <path d=\"M18.56 5.44l.94 2.06.94-2.06 2.06-.94-2.06-.94-.94-2.06-.94 2.06-2.06.94zm-11 1L8.5 8.5l.94-2.06 2.06-.94-2.06-.94L8.5 2.5l-.94 2.06-2.06.94zm10 10l.94 2.06.94-2.06 2.06-.94-2.06-.94-.94-2.06-.94 2.06-2.06.94z\"/><path d=\"M17.41 7.96l-1.37-1.37c-.4-.4-.92-.59-1.43-.59-.52 0-1.04.2-1.43.59L10.3 9.45l-7.72 7.72c-.78.78-.78 2.05 0 2.83L4 21.41c.39.39.9.59 1.41.59.51 0 1.02-.2 1.41-.59l7.78-7.78 2.81-2.81c.8-.78.8-2.07 0-2.86zM5.41 20L4 18.59l7.72-7.72 1.47 1.35L5.41 20z\"/>\n",
              "  </svg>\n",
              "      </button>\n",
              "      \n",
              "  <style>\n",
              "    .colab-df-container {\n",
              "      display:flex;\n",
              "      flex-wrap:wrap;\n",
              "      gap: 12px;\n",
              "    }\n",
              "\n",
              "    .colab-df-convert {\n",
              "      background-color: #E8F0FE;\n",
              "      border: none;\n",
              "      border-radius: 50%;\n",
              "      cursor: pointer;\n",
              "      display: none;\n",
              "      fill: #1967D2;\n",
              "      height: 32px;\n",
              "      padding: 0 0 0 0;\n",
              "      width: 32px;\n",
              "    }\n",
              "\n",
              "    .colab-df-convert:hover {\n",
              "      background-color: #E2EBFA;\n",
              "      box-shadow: 0px 1px 2px rgba(60, 64, 67, 0.3), 0px 1px 3px 1px rgba(60, 64, 67, 0.15);\n",
              "      fill: #174EA6;\n",
              "    }\n",
              "\n",
              "    [theme=dark] .colab-df-convert {\n",
              "      background-color: #3B4455;\n",
              "      fill: #D2E3FC;\n",
              "    }\n",
              "\n",
              "    [theme=dark] .colab-df-convert:hover {\n",
              "      background-color: #434B5C;\n",
              "      box-shadow: 0px 1px 3px 1px rgba(0, 0, 0, 0.15);\n",
              "      filter: drop-shadow(0px 1px 2px rgba(0, 0, 0, 0.3));\n",
              "      fill: #FFFFFF;\n",
              "    }\n",
              "  </style>\n",
              "\n",
              "      <script>\n",
              "        const buttonEl =\n",
              "          document.querySelector('#df-44dffcc9-297f-4726-9fc7-69e12afe696e button.colab-df-convert');\n",
              "        buttonEl.style.display =\n",
              "          google.colab.kernel.accessAllowed ? 'block' : 'none';\n",
              "\n",
              "        async function convertToInteractive(key) {\n",
              "          const element = document.querySelector('#df-44dffcc9-297f-4726-9fc7-69e12afe696e');\n",
              "          const dataTable =\n",
              "            await google.colab.kernel.invokeFunction('convertToInteractive',\n",
              "                                                     [key], {});\n",
              "          if (!dataTable) return;\n",
              "\n",
              "          const docLinkHtml = 'Like what you see? Visit the ' +\n",
              "            '<a target=\"_blank\" href=https://colab.research.google.com/notebooks/data_table.ipynb>data table notebook</a>'\n",
              "            + ' to learn more about interactive tables.';\n",
              "          element.innerHTML = '';\n",
              "          dataTable['output_type'] = 'display_data';\n",
              "          await google.colab.output.renderOutput(dataTable, element);\n",
              "          const docLink = document.createElement('div');\n",
              "          docLink.innerHTML = docLinkHtml;\n",
              "          element.appendChild(docLink);\n",
              "        }\n",
              "      </script>\n",
              "    </div>\n",
              "  </div>\n",
              "  "
            ],
            "text/plain": [
              "          Municipio   Autonomía    Provincia\n",
              "0  Alegría-Dulantzi  País Vasco  Araba/Álava\n",
              "1           Amurrio  País Vasco  Araba/Álava\n",
              "2           Aramaio  País Vasco  Araba/Álava"
            ]
          },
          "metadata": {},
          "execution_count": 6
        }
      ]
    },
    {
      "cell_type": "markdown",
      "source": [
        "# Label Encoding"
      ],
      "metadata": {
        "id": "mWP5uvKuygc3"
      }
    },
    {
      "cell_type": "markdown",
      "source": [
        "En esta sección transformamos las variables categóricas que utilizaremos para crear el modelo en variables numéricas. \n",
        "\n",
        "Se utilizará LabelEncoding, el cual codifica cada sucesión de letras (palabra) en un número, actua a forma de diccionario.\n",
        "\n",
        "Por ejemplo: {'Sevilla':1, 'Lepe':2}\n",
        "\n",
        "También eliminaremos algunas variables que no nos resultan de utilidad a la hora de crear el modelo."
      ],
      "metadata": {
        "id": "UUlHUFZIykCP"
      }
    },
    {
      "cell_type": "markdown",
      "source": [
        "## Encoding Andalucia"
      ],
      "metadata": {
        "id": "h1eTs0FVG31v"
      }
    },
    {
      "cell_type": "code",
      "source": [
        "andalucia_encoded = andalucia.copy()"
      ],
      "metadata": {
        "id": "7c7MecZMHEJ4"
      },
      "execution_count": 7,
      "outputs": []
    },
    {
      "cell_type": "code",
      "source": [
        "andalucia_encoded['ORIGEN_E'] = andalucia['ORIGEN'].astype('category').cat.codes\n",
        "andalucia_encoded['DESTINO_E'] = andalucia['DESTINO'].astype('category').cat.codes\n",
        "andalucia_encoded['INTERPROVINCIAL_E'] = andalucia['INTERPROVINCIAL'].astype('category').cat.codes\n",
        "andalucia_encoded['FESTIVO'] = andalucia_encoded['Festivo'].astype('category').cat.codes"
      ],
      "metadata": {
        "id": "Vf2t7C7XHJNd"
      },
      "execution_count": 8,
      "outputs": []
    },
    {
      "cell_type": "code",
      "source": [
        "andalucia_encoded.tail(2)"
      ],
      "metadata": {
        "colab": {
          "base_uri": "https://localhost:8080/",
          "height": 227
        },
        "id": "sggMqngUHRiu",
        "outputId": "19b2b5d3-a222-45cc-bfab-3746d3b9b42b"
      },
      "execution_count": 9,
      "outputs": [
        {
          "output_type": "execute_result",
          "data": {
            "text/html": [
              "\n",
              "  <div id=\"df-48e6b2f4-f16b-4c1b-95a6-bde1ca484020\">\n",
              "    <div class=\"colab-df-container\">\n",
              "      <div>\n",
              "<style scoped>\n",
              "    .dataframe tbody tr th:only-of-type {\n",
              "        vertical-align: middle;\n",
              "    }\n",
              "\n",
              "    .dataframe tbody tr th {\n",
              "        vertical-align: top;\n",
              "    }\n",
              "\n",
              "    .dataframe thead th {\n",
              "        text-align: right;\n",
              "    }\n",
              "</style>\n",
              "<table border=\"1\" class=\"dataframe\">\n",
              "  <thead>\n",
              "    <tr style=\"text-align: right;\">\n",
              "      <th></th>\n",
              "      <th>DIA</th>\n",
              "      <th>AÑO</th>\n",
              "      <th>SEMANA</th>\n",
              "      <th>MES</th>\n",
              "      <th>PAIS</th>\n",
              "      <th>ORIGEN</th>\n",
              "      <th>DESTINO</th>\n",
              "      <th>ASIENTOS_OFERTADOS</th>\n",
              "      <th>ASIENTOS_CONFIRMADOS</th>\n",
              "      <th>VIAJES_OFERTADOS</th>\n",
              "      <th>VIAJES_CONFIRMADOS</th>\n",
              "      <th>OFERTANTES</th>\n",
              "      <th>OFERTANTES_NUEVOS</th>\n",
              "      <th>CA_ORIGEN</th>\n",
              "      <th>CA_DESTINO</th>\n",
              "      <th>PROVINCIA_ORIGEN</th>\n",
              "      <th>PROVINCIA_DESTINO</th>\n",
              "      <th>INTERPROVINCIAL</th>\n",
              "      <th>Festivo</th>\n",
              "      <th>ORIGEN_E</th>\n",
              "      <th>DESTINO_E</th>\n",
              "      <th>INTERPROVINCIAL_E</th>\n",
              "      <th>FESTIVO</th>\n",
              "    </tr>\n",
              "  </thead>\n",
              "  <tbody>\n",
              "    <tr>\n",
              "      <th>246053</th>\n",
              "      <td>2018-06-08</td>\n",
              "      <td>2018</td>\n",
              "      <td>23</td>\n",
              "      <td>6</td>\n",
              "      <td>es</td>\n",
              "      <td>Mairena del Aljarafe</td>\n",
              "      <td>Corteconcepción</td>\n",
              "      <td>3.0</td>\n",
              "      <td>2</td>\n",
              "      <td>1</td>\n",
              "      <td>1</td>\n",
              "      <td>1</td>\n",
              "      <td>1</td>\n",
              "      <td>Andalucía</td>\n",
              "      <td>Andalucía</td>\n",
              "      <td>Sevilla</td>\n",
              "      <td>Huelva</td>\n",
              "      <td>No</td>\n",
              "      <td>No</td>\n",
              "      <td>296</td>\n",
              "      <td>142</td>\n",
              "      <td>0</td>\n",
              "      <td>0</td>\n",
              "    </tr>\n",
              "    <tr>\n",
              "      <th>246054</th>\n",
              "      <td>2018-07-06</td>\n",
              "      <td>2018</td>\n",
              "      <td>27</td>\n",
              "      <td>7</td>\n",
              "      <td>es</td>\n",
              "      <td>Tomares</td>\n",
              "      <td>Algámitas</td>\n",
              "      <td>4.0</td>\n",
              "      <td>1</td>\n",
              "      <td>1</td>\n",
              "      <td>1</td>\n",
              "      <td>1</td>\n",
              "      <td>0</td>\n",
              "      <td>Andalucía</td>\n",
              "      <td>Andalucía</td>\n",
              "      <td>Sevilla</td>\n",
              "      <td>Sevilla</td>\n",
              "      <td>Si</td>\n",
              "      <td>No</td>\n",
              "      <td>428</td>\n",
              "      <td>25</td>\n",
              "      <td>1</td>\n",
              "      <td>0</td>\n",
              "    </tr>\n",
              "  </tbody>\n",
              "</table>\n",
              "</div>\n",
              "      <button class=\"colab-df-convert\" onclick=\"convertToInteractive('df-48e6b2f4-f16b-4c1b-95a6-bde1ca484020')\"\n",
              "              title=\"Convert this dataframe to an interactive table.\"\n",
              "              style=\"display:none;\">\n",
              "        \n",
              "  <svg xmlns=\"http://www.w3.org/2000/svg\" height=\"24px\"viewBox=\"0 0 24 24\"\n",
              "       width=\"24px\">\n",
              "    <path d=\"M0 0h24v24H0V0z\" fill=\"none\"/>\n",
              "    <path d=\"M18.56 5.44l.94 2.06.94-2.06 2.06-.94-2.06-.94-.94-2.06-.94 2.06-2.06.94zm-11 1L8.5 8.5l.94-2.06 2.06-.94-2.06-.94L8.5 2.5l-.94 2.06-2.06.94zm10 10l.94 2.06.94-2.06 2.06-.94-2.06-.94-.94-2.06-.94 2.06-2.06.94z\"/><path d=\"M17.41 7.96l-1.37-1.37c-.4-.4-.92-.59-1.43-.59-.52 0-1.04.2-1.43.59L10.3 9.45l-7.72 7.72c-.78.78-.78 2.05 0 2.83L4 21.41c.39.39.9.59 1.41.59.51 0 1.02-.2 1.41-.59l7.78-7.78 2.81-2.81c.8-.78.8-2.07 0-2.86zM5.41 20L4 18.59l7.72-7.72 1.47 1.35L5.41 20z\"/>\n",
              "  </svg>\n",
              "      </button>\n",
              "      \n",
              "  <style>\n",
              "    .colab-df-container {\n",
              "      display:flex;\n",
              "      flex-wrap:wrap;\n",
              "      gap: 12px;\n",
              "    }\n",
              "\n",
              "    .colab-df-convert {\n",
              "      background-color: #E8F0FE;\n",
              "      border: none;\n",
              "      border-radius: 50%;\n",
              "      cursor: pointer;\n",
              "      display: none;\n",
              "      fill: #1967D2;\n",
              "      height: 32px;\n",
              "      padding: 0 0 0 0;\n",
              "      width: 32px;\n",
              "    }\n",
              "\n",
              "    .colab-df-convert:hover {\n",
              "      background-color: #E2EBFA;\n",
              "      box-shadow: 0px 1px 2px rgba(60, 64, 67, 0.3), 0px 1px 3px 1px rgba(60, 64, 67, 0.15);\n",
              "      fill: #174EA6;\n",
              "    }\n",
              "\n",
              "    [theme=dark] .colab-df-convert {\n",
              "      background-color: #3B4455;\n",
              "      fill: #D2E3FC;\n",
              "    }\n",
              "\n",
              "    [theme=dark] .colab-df-convert:hover {\n",
              "      background-color: #434B5C;\n",
              "      box-shadow: 0px 1px 3px 1px rgba(0, 0, 0, 0.15);\n",
              "      filter: drop-shadow(0px 1px 2px rgba(0, 0, 0, 0.3));\n",
              "      fill: #FFFFFF;\n",
              "    }\n",
              "  </style>\n",
              "\n",
              "      <script>\n",
              "        const buttonEl =\n",
              "          document.querySelector('#df-48e6b2f4-f16b-4c1b-95a6-bde1ca484020 button.colab-df-convert');\n",
              "        buttonEl.style.display =\n",
              "          google.colab.kernel.accessAllowed ? 'block' : 'none';\n",
              "\n",
              "        async function convertToInteractive(key) {\n",
              "          const element = document.querySelector('#df-48e6b2f4-f16b-4c1b-95a6-bde1ca484020');\n",
              "          const dataTable =\n",
              "            await google.colab.kernel.invokeFunction('convertToInteractive',\n",
              "                                                     [key], {});\n",
              "          if (!dataTable) return;\n",
              "\n",
              "          const docLinkHtml = 'Like what you see? Visit the ' +\n",
              "            '<a target=\"_blank\" href=https://colab.research.google.com/notebooks/data_table.ipynb>data table notebook</a>'\n",
              "            + ' to learn more about interactive tables.';\n",
              "          element.innerHTML = '';\n",
              "          dataTable['output_type'] = 'display_data';\n",
              "          await google.colab.output.renderOutput(dataTable, element);\n",
              "          const docLink = document.createElement('div');\n",
              "          docLink.innerHTML = docLinkHtml;\n",
              "          element.appendChild(docLink);\n",
              "        }\n",
              "      </script>\n",
              "    </div>\n",
              "  </div>\n",
              "  "
            ],
            "text/plain": [
              "               DIA   AÑO  SEMANA  ...  DESTINO_E INTERPROVINCIAL_E FESTIVO\n",
              "246053  2018-06-08  2018      23  ...        142                 0       0\n",
              "246054  2018-07-06  2018      27  ...         25                 1       0\n",
              "\n",
              "[2 rows x 23 columns]"
            ]
          },
          "metadata": {},
          "execution_count": 9
        }
      ]
    },
    {
      "cell_type": "code",
      "source": [
        "andalucia_encoded = andalucia_encoded.drop(labels=['ORIGEN','Festivo','PAIS','DESTINO', 'CA_ORIGEN', 'CA_DESTINO', 'PROVINCIA_ORIGEN', 'PROVINCIA_DESTINO', 'INTERPROVINCIAL'], axis=1)\n"
      ],
      "metadata": {
        "id": "MLJNRdGLHWyW"
      },
      "execution_count": 10,
      "outputs": []
    },
    {
      "cell_type": "code",
      "source": [
        "andalucia_encoded.head(3)"
      ],
      "metadata": {
        "colab": {
          "base_uri": "https://localhost:8080/",
          "height": 143
        },
        "id": "TCtgtEINHc62",
        "outputId": "0e16fd1f-f096-44dd-f266-6f15e8923d8e"
      },
      "execution_count": 11,
      "outputs": [
        {
          "output_type": "execute_result",
          "data": {
            "text/html": [
              "\n",
              "  <div id=\"df-d8a44f97-d693-4cc2-bf20-5fe39a9402c8\">\n",
              "    <div class=\"colab-df-container\">\n",
              "      <div>\n",
              "<style scoped>\n",
              "    .dataframe tbody tr th:only-of-type {\n",
              "        vertical-align: middle;\n",
              "    }\n",
              "\n",
              "    .dataframe tbody tr th {\n",
              "        vertical-align: top;\n",
              "    }\n",
              "\n",
              "    .dataframe thead th {\n",
              "        text-align: right;\n",
              "    }\n",
              "</style>\n",
              "<table border=\"1\" class=\"dataframe\">\n",
              "  <thead>\n",
              "    <tr style=\"text-align: right;\">\n",
              "      <th></th>\n",
              "      <th>DIA</th>\n",
              "      <th>AÑO</th>\n",
              "      <th>SEMANA</th>\n",
              "      <th>MES</th>\n",
              "      <th>ASIENTOS_OFERTADOS</th>\n",
              "      <th>ASIENTOS_CONFIRMADOS</th>\n",
              "      <th>VIAJES_OFERTADOS</th>\n",
              "      <th>VIAJES_CONFIRMADOS</th>\n",
              "      <th>OFERTANTES</th>\n",
              "      <th>OFERTANTES_NUEVOS</th>\n",
              "      <th>ORIGEN_E</th>\n",
              "      <th>DESTINO_E</th>\n",
              "      <th>INTERPROVINCIAL_E</th>\n",
              "      <th>FESTIVO</th>\n",
              "    </tr>\n",
              "  </thead>\n",
              "  <tbody>\n",
              "    <tr>\n",
              "      <th>0</th>\n",
              "      <td>2017-11-01</td>\n",
              "      <td>2017</td>\n",
              "      <td>44</td>\n",
              "      <td>11</td>\n",
              "      <td>1.0</td>\n",
              "      <td>1</td>\n",
              "      <td>1</td>\n",
              "      <td>1</td>\n",
              "      <td>1</td>\n",
              "      <td>0</td>\n",
              "      <td>6</td>\n",
              "      <td>218</td>\n",
              "      <td>0</td>\n",
              "      <td>1</td>\n",
              "    </tr>\n",
              "    <tr>\n",
              "      <th>1</th>\n",
              "      <td>2017-11-03</td>\n",
              "      <td>2017</td>\n",
              "      <td>44</td>\n",
              "      <td>11</td>\n",
              "      <td>12.0</td>\n",
              "      <td>1</td>\n",
              "      <td>4</td>\n",
              "      <td>1</td>\n",
              "      <td>4</td>\n",
              "      <td>0</td>\n",
              "      <td>6</td>\n",
              "      <td>218</td>\n",
              "      <td>0</td>\n",
              "      <td>0</td>\n",
              "    </tr>\n",
              "    <tr>\n",
              "      <th>2</th>\n",
              "      <td>2017-11-05</td>\n",
              "      <td>2017</td>\n",
              "      <td>44</td>\n",
              "      <td>11</td>\n",
              "      <td>2.0</td>\n",
              "      <td>1</td>\n",
              "      <td>1</td>\n",
              "      <td>1</td>\n",
              "      <td>1</td>\n",
              "      <td>0</td>\n",
              "      <td>6</td>\n",
              "      <td>218</td>\n",
              "      <td>0</td>\n",
              "      <td>0</td>\n",
              "    </tr>\n",
              "  </tbody>\n",
              "</table>\n",
              "</div>\n",
              "      <button class=\"colab-df-convert\" onclick=\"convertToInteractive('df-d8a44f97-d693-4cc2-bf20-5fe39a9402c8')\"\n",
              "              title=\"Convert this dataframe to an interactive table.\"\n",
              "              style=\"display:none;\">\n",
              "        \n",
              "  <svg xmlns=\"http://www.w3.org/2000/svg\" height=\"24px\"viewBox=\"0 0 24 24\"\n",
              "       width=\"24px\">\n",
              "    <path d=\"M0 0h24v24H0V0z\" fill=\"none\"/>\n",
              "    <path d=\"M18.56 5.44l.94 2.06.94-2.06 2.06-.94-2.06-.94-.94-2.06-.94 2.06-2.06.94zm-11 1L8.5 8.5l.94-2.06 2.06-.94-2.06-.94L8.5 2.5l-.94 2.06-2.06.94zm10 10l.94 2.06.94-2.06 2.06-.94-2.06-.94-.94-2.06-.94 2.06-2.06.94z\"/><path d=\"M17.41 7.96l-1.37-1.37c-.4-.4-.92-.59-1.43-.59-.52 0-1.04.2-1.43.59L10.3 9.45l-7.72 7.72c-.78.78-.78 2.05 0 2.83L4 21.41c.39.39.9.59 1.41.59.51 0 1.02-.2 1.41-.59l7.78-7.78 2.81-2.81c.8-.78.8-2.07 0-2.86zM5.41 20L4 18.59l7.72-7.72 1.47 1.35L5.41 20z\"/>\n",
              "  </svg>\n",
              "      </button>\n",
              "      \n",
              "  <style>\n",
              "    .colab-df-container {\n",
              "      display:flex;\n",
              "      flex-wrap:wrap;\n",
              "      gap: 12px;\n",
              "    }\n",
              "\n",
              "    .colab-df-convert {\n",
              "      background-color: #E8F0FE;\n",
              "      border: none;\n",
              "      border-radius: 50%;\n",
              "      cursor: pointer;\n",
              "      display: none;\n",
              "      fill: #1967D2;\n",
              "      height: 32px;\n",
              "      padding: 0 0 0 0;\n",
              "      width: 32px;\n",
              "    }\n",
              "\n",
              "    .colab-df-convert:hover {\n",
              "      background-color: #E2EBFA;\n",
              "      box-shadow: 0px 1px 2px rgba(60, 64, 67, 0.3), 0px 1px 3px 1px rgba(60, 64, 67, 0.15);\n",
              "      fill: #174EA6;\n",
              "    }\n",
              "\n",
              "    [theme=dark] .colab-df-convert {\n",
              "      background-color: #3B4455;\n",
              "      fill: #D2E3FC;\n",
              "    }\n",
              "\n",
              "    [theme=dark] .colab-df-convert:hover {\n",
              "      background-color: #434B5C;\n",
              "      box-shadow: 0px 1px 3px 1px rgba(0, 0, 0, 0.15);\n",
              "      filter: drop-shadow(0px 1px 2px rgba(0, 0, 0, 0.3));\n",
              "      fill: #FFFFFF;\n",
              "    }\n",
              "  </style>\n",
              "\n",
              "      <script>\n",
              "        const buttonEl =\n",
              "          document.querySelector('#df-d8a44f97-d693-4cc2-bf20-5fe39a9402c8 button.colab-df-convert');\n",
              "        buttonEl.style.display =\n",
              "          google.colab.kernel.accessAllowed ? 'block' : 'none';\n",
              "\n",
              "        async function convertToInteractive(key) {\n",
              "          const element = document.querySelector('#df-d8a44f97-d693-4cc2-bf20-5fe39a9402c8');\n",
              "          const dataTable =\n",
              "            await google.colab.kernel.invokeFunction('convertToInteractive',\n",
              "                                                     [key], {});\n",
              "          if (!dataTable) return;\n",
              "\n",
              "          const docLinkHtml = 'Like what you see? Visit the ' +\n",
              "            '<a target=\"_blank\" href=https://colab.research.google.com/notebooks/data_table.ipynb>data table notebook</a>'\n",
              "            + ' to learn more about interactive tables.';\n",
              "          element.innerHTML = '';\n",
              "          dataTable['output_type'] = 'display_data';\n",
              "          await google.colab.output.renderOutput(dataTable, element);\n",
              "          const docLink = document.createElement('div');\n",
              "          docLink.innerHTML = docLinkHtml;\n",
              "          element.appendChild(docLink);\n",
              "        }\n",
              "      </script>\n",
              "    </div>\n",
              "  </div>\n",
              "  "
            ],
            "text/plain": [
              "          DIA   AÑO  SEMANA  ...  DESTINO_E  INTERPROVINCIAL_E  FESTIVO\n",
              "0  2017-11-01  2017      44  ...        218                  0        1\n",
              "1  2017-11-03  2017      44  ...        218                  0        0\n",
              "2  2017-11-05  2017      44  ...        218                  0        0\n",
              "\n",
              "[3 rows x 14 columns]"
            ]
          },
          "metadata": {},
          "execution_count": 11
        }
      ]
    },
    {
      "cell_type": "code",
      "source": [
        "andalucia_encoded = andalucia_encoded.rename(columns={'ORIGEN_E':'ORIGEN','DESTINO_E':'DESTINO','INTERPROVINCIAL_E': 'INTERPROVINCIAL'})"
      ],
      "metadata": {
        "id": "_mtz28f4Hf_e"
      },
      "execution_count": 12,
      "outputs": []
    },
    {
      "cell_type": "code",
      "source": [
        "andalucia_encoded.head(2)"
      ],
      "metadata": {
        "colab": {
          "base_uri": "https://localhost:8080/",
          "height": 112
        },
        "id": "gJIiponwHiN-",
        "outputId": "bdd99d21-c34f-4b48-a7bf-8169f90b8000"
      },
      "execution_count": 13,
      "outputs": [
        {
          "output_type": "execute_result",
          "data": {
            "text/html": [
              "\n",
              "  <div id=\"df-4d568966-1459-4e80-b803-4cbe1d489d53\">\n",
              "    <div class=\"colab-df-container\">\n",
              "      <div>\n",
              "<style scoped>\n",
              "    .dataframe tbody tr th:only-of-type {\n",
              "        vertical-align: middle;\n",
              "    }\n",
              "\n",
              "    .dataframe tbody tr th {\n",
              "        vertical-align: top;\n",
              "    }\n",
              "\n",
              "    .dataframe thead th {\n",
              "        text-align: right;\n",
              "    }\n",
              "</style>\n",
              "<table border=\"1\" class=\"dataframe\">\n",
              "  <thead>\n",
              "    <tr style=\"text-align: right;\">\n",
              "      <th></th>\n",
              "      <th>DIA</th>\n",
              "      <th>AÑO</th>\n",
              "      <th>SEMANA</th>\n",
              "      <th>MES</th>\n",
              "      <th>ASIENTOS_OFERTADOS</th>\n",
              "      <th>ASIENTOS_CONFIRMADOS</th>\n",
              "      <th>VIAJES_OFERTADOS</th>\n",
              "      <th>VIAJES_CONFIRMADOS</th>\n",
              "      <th>OFERTANTES</th>\n",
              "      <th>OFERTANTES_NUEVOS</th>\n",
              "      <th>ORIGEN</th>\n",
              "      <th>DESTINO</th>\n",
              "      <th>INTERPROVINCIAL</th>\n",
              "      <th>FESTIVO</th>\n",
              "    </tr>\n",
              "  </thead>\n",
              "  <tbody>\n",
              "    <tr>\n",
              "      <th>0</th>\n",
              "      <td>2017-11-01</td>\n",
              "      <td>2017</td>\n",
              "      <td>44</td>\n",
              "      <td>11</td>\n",
              "      <td>1.0</td>\n",
              "      <td>1</td>\n",
              "      <td>1</td>\n",
              "      <td>1</td>\n",
              "      <td>1</td>\n",
              "      <td>0</td>\n",
              "      <td>6</td>\n",
              "      <td>218</td>\n",
              "      <td>0</td>\n",
              "      <td>1</td>\n",
              "    </tr>\n",
              "    <tr>\n",
              "      <th>1</th>\n",
              "      <td>2017-11-03</td>\n",
              "      <td>2017</td>\n",
              "      <td>44</td>\n",
              "      <td>11</td>\n",
              "      <td>12.0</td>\n",
              "      <td>1</td>\n",
              "      <td>4</td>\n",
              "      <td>1</td>\n",
              "      <td>4</td>\n",
              "      <td>0</td>\n",
              "      <td>6</td>\n",
              "      <td>218</td>\n",
              "      <td>0</td>\n",
              "      <td>0</td>\n",
              "    </tr>\n",
              "  </tbody>\n",
              "</table>\n",
              "</div>\n",
              "      <button class=\"colab-df-convert\" onclick=\"convertToInteractive('df-4d568966-1459-4e80-b803-4cbe1d489d53')\"\n",
              "              title=\"Convert this dataframe to an interactive table.\"\n",
              "              style=\"display:none;\">\n",
              "        \n",
              "  <svg xmlns=\"http://www.w3.org/2000/svg\" height=\"24px\"viewBox=\"0 0 24 24\"\n",
              "       width=\"24px\">\n",
              "    <path d=\"M0 0h24v24H0V0z\" fill=\"none\"/>\n",
              "    <path d=\"M18.56 5.44l.94 2.06.94-2.06 2.06-.94-2.06-.94-.94-2.06-.94 2.06-2.06.94zm-11 1L8.5 8.5l.94-2.06 2.06-.94-2.06-.94L8.5 2.5l-.94 2.06-2.06.94zm10 10l.94 2.06.94-2.06 2.06-.94-2.06-.94-.94-2.06-.94 2.06-2.06.94z\"/><path d=\"M17.41 7.96l-1.37-1.37c-.4-.4-.92-.59-1.43-.59-.52 0-1.04.2-1.43.59L10.3 9.45l-7.72 7.72c-.78.78-.78 2.05 0 2.83L4 21.41c.39.39.9.59 1.41.59.51 0 1.02-.2 1.41-.59l7.78-7.78 2.81-2.81c.8-.78.8-2.07 0-2.86zM5.41 20L4 18.59l7.72-7.72 1.47 1.35L5.41 20z\"/>\n",
              "  </svg>\n",
              "      </button>\n",
              "      \n",
              "  <style>\n",
              "    .colab-df-container {\n",
              "      display:flex;\n",
              "      flex-wrap:wrap;\n",
              "      gap: 12px;\n",
              "    }\n",
              "\n",
              "    .colab-df-convert {\n",
              "      background-color: #E8F0FE;\n",
              "      border: none;\n",
              "      border-radius: 50%;\n",
              "      cursor: pointer;\n",
              "      display: none;\n",
              "      fill: #1967D2;\n",
              "      height: 32px;\n",
              "      padding: 0 0 0 0;\n",
              "      width: 32px;\n",
              "    }\n",
              "\n",
              "    .colab-df-convert:hover {\n",
              "      background-color: #E2EBFA;\n",
              "      box-shadow: 0px 1px 2px rgba(60, 64, 67, 0.3), 0px 1px 3px 1px rgba(60, 64, 67, 0.15);\n",
              "      fill: #174EA6;\n",
              "    }\n",
              "\n",
              "    [theme=dark] .colab-df-convert {\n",
              "      background-color: #3B4455;\n",
              "      fill: #D2E3FC;\n",
              "    }\n",
              "\n",
              "    [theme=dark] .colab-df-convert:hover {\n",
              "      background-color: #434B5C;\n",
              "      box-shadow: 0px 1px 3px 1px rgba(0, 0, 0, 0.15);\n",
              "      filter: drop-shadow(0px 1px 2px rgba(0, 0, 0, 0.3));\n",
              "      fill: #FFFFFF;\n",
              "    }\n",
              "  </style>\n",
              "\n",
              "      <script>\n",
              "        const buttonEl =\n",
              "          document.querySelector('#df-4d568966-1459-4e80-b803-4cbe1d489d53 button.colab-df-convert');\n",
              "        buttonEl.style.display =\n",
              "          google.colab.kernel.accessAllowed ? 'block' : 'none';\n",
              "\n",
              "        async function convertToInteractive(key) {\n",
              "          const element = document.querySelector('#df-4d568966-1459-4e80-b803-4cbe1d489d53');\n",
              "          const dataTable =\n",
              "            await google.colab.kernel.invokeFunction('convertToInteractive',\n",
              "                                                     [key], {});\n",
              "          if (!dataTable) return;\n",
              "\n",
              "          const docLinkHtml = 'Like what you see? Visit the ' +\n",
              "            '<a target=\"_blank\" href=https://colab.research.google.com/notebooks/data_table.ipynb>data table notebook</a>'\n",
              "            + ' to learn more about interactive tables.';\n",
              "          element.innerHTML = '';\n",
              "          dataTable['output_type'] = 'display_data';\n",
              "          await google.colab.output.renderOutput(dataTable, element);\n",
              "          const docLink = document.createElement('div');\n",
              "          docLink.innerHTML = docLinkHtml;\n",
              "          element.appendChild(docLink);\n",
              "        }\n",
              "      </script>\n",
              "    </div>\n",
              "  </div>\n",
              "  "
            ],
            "text/plain": [
              "          DIA   AÑO  SEMANA  MES  ...  ORIGEN  DESTINO  INTERPROVINCIAL  FESTIVO\n",
              "0  2017-11-01  2017      44   11  ...       6      218                0        1\n",
              "1  2017-11-03  2017      44   11  ...       6      218                0        0\n",
              "\n",
              "[2 rows x 14 columns]"
            ]
          },
          "metadata": {},
          "execution_count": 13
        }
      ]
    },
    {
      "cell_type": "markdown",
      "source": [
        "## Encoding Castilla-La Mancha"
      ],
      "metadata": {
        "id": "9lDjRtLyEYjg"
      }
    },
    {
      "cell_type": "code",
      "source": [
        "clm_encoded = clm.copy()"
      ],
      "metadata": {
        "id": "vXgD1hI6E5g4"
      },
      "execution_count": 14,
      "outputs": []
    },
    {
      "cell_type": "code",
      "source": [
        "clm_encoded['ORIGEN_E'] = clm['ORIGEN'].astype('category').cat.codes\n",
        "clm_encoded['DESTINO_E'] = clm['DESTINO'].astype('category').cat.codes\n",
        "clm_encoded['INTERPROVINCIAL_E'] = clm['INTERPROVINCIAL'].astype('category').cat.codes\n",
        "clm_encoded['FESTIVO'] = clm['Festivo'].astype('category').cat.codes"
      ],
      "metadata": {
        "id": "ZrQm_rAnEfE-"
      },
      "execution_count": 15,
      "outputs": []
    },
    {
      "cell_type": "code",
      "source": [
        "clm_encoded.tail(2)"
      ],
      "metadata": {
        "colab": {
          "base_uri": "https://localhost:8080/",
          "height": 211
        },
        "id": "mYIeu3hJEq7f",
        "outputId": "60a94016-8ff1-4913-d399-992ae589ae5d"
      },
      "execution_count": 16,
      "outputs": [
        {
          "output_type": "execute_result",
          "data": {
            "text/html": [
              "\n",
              "  <div id=\"df-d944b291-b2f7-419a-b207-77aa8f4d2d66\">\n",
              "    <div class=\"colab-df-container\">\n",
              "      <div>\n",
              "<style scoped>\n",
              "    .dataframe tbody tr th:only-of-type {\n",
              "        vertical-align: middle;\n",
              "    }\n",
              "\n",
              "    .dataframe tbody tr th {\n",
              "        vertical-align: top;\n",
              "    }\n",
              "\n",
              "    .dataframe thead th {\n",
              "        text-align: right;\n",
              "    }\n",
              "</style>\n",
              "<table border=\"1\" class=\"dataframe\">\n",
              "  <thead>\n",
              "    <tr style=\"text-align: right;\">\n",
              "      <th></th>\n",
              "      <th>DIA</th>\n",
              "      <th>AÑO</th>\n",
              "      <th>SEMANA</th>\n",
              "      <th>MES</th>\n",
              "      <th>PAIS</th>\n",
              "      <th>ORIGEN</th>\n",
              "      <th>DESTINO</th>\n",
              "      <th>ASIENTOS_OFERTADOS</th>\n",
              "      <th>ASIENTOS_CONFIRMADOS</th>\n",
              "      <th>VIAJES_OFERTADOS</th>\n",
              "      <th>VIAJES_CONFIRMADOS</th>\n",
              "      <th>OFERTANTES</th>\n",
              "      <th>OFERTANTES_NUEVOS</th>\n",
              "      <th>CA_ORIGEN</th>\n",
              "      <th>CA_DESTINO</th>\n",
              "      <th>PROVINCIA_ORIGEN</th>\n",
              "      <th>PROVINCIA_DESTINO</th>\n",
              "      <th>INTERPROVINCIAL</th>\n",
              "      <th>Festivo</th>\n",
              "      <th>ORIGEN_E</th>\n",
              "      <th>DESTINO_E</th>\n",
              "      <th>INTERPROVINCIAL_E</th>\n",
              "      <th>FESTIVO</th>\n",
              "    </tr>\n",
              "  </thead>\n",
              "  <tbody>\n",
              "    <tr>\n",
              "      <th>20860</th>\n",
              "      <td>2018-07-14</td>\n",
              "      <td>2018</td>\n",
              "      <td>28</td>\n",
              "      <td>7</td>\n",
              "      <td>es</td>\n",
              "      <td>Guadalajara</td>\n",
              "      <td>Valdelcubo</td>\n",
              "      <td>3.0</td>\n",
              "      <td>1</td>\n",
              "      <td>1</td>\n",
              "      <td>1</td>\n",
              "      <td>1</td>\n",
              "      <td>0</td>\n",
              "      <td>Castilla-La Mancha</td>\n",
              "      <td>Castilla-La Mancha</td>\n",
              "      <td>Guadalajara</td>\n",
              "      <td>Guadalajara</td>\n",
              "      <td>Si</td>\n",
              "      <td>No</td>\n",
              "      <td>52</td>\n",
              "      <td>139</td>\n",
              "      <td>1</td>\n",
              "      <td>0</td>\n",
              "    </tr>\n",
              "    <tr>\n",
              "      <th>20861</th>\n",
              "      <td>2018-08-10</td>\n",
              "      <td>2018</td>\n",
              "      <td>32</td>\n",
              "      <td>8</td>\n",
              "      <td>es</td>\n",
              "      <td>Guadalajara</td>\n",
              "      <td>Cobeta</td>\n",
              "      <td>5.0</td>\n",
              "      <td>1</td>\n",
              "      <td>2</td>\n",
              "      <td>1</td>\n",
              "      <td>1</td>\n",
              "      <td>0</td>\n",
              "      <td>Castilla-La Mancha</td>\n",
              "      <td>Castilla-La Mancha</td>\n",
              "      <td>Guadalajara</td>\n",
              "      <td>Guadalajara</td>\n",
              "      <td>Si</td>\n",
              "      <td>No</td>\n",
              "      <td>52</td>\n",
              "      <td>44</td>\n",
              "      <td>1</td>\n",
              "      <td>0</td>\n",
              "    </tr>\n",
              "  </tbody>\n",
              "</table>\n",
              "</div>\n",
              "      <button class=\"colab-df-convert\" onclick=\"convertToInteractive('df-d944b291-b2f7-419a-b207-77aa8f4d2d66')\"\n",
              "              title=\"Convert this dataframe to an interactive table.\"\n",
              "              style=\"display:none;\">\n",
              "        \n",
              "  <svg xmlns=\"http://www.w3.org/2000/svg\" height=\"24px\"viewBox=\"0 0 24 24\"\n",
              "       width=\"24px\">\n",
              "    <path d=\"M0 0h24v24H0V0z\" fill=\"none\"/>\n",
              "    <path d=\"M18.56 5.44l.94 2.06.94-2.06 2.06-.94-2.06-.94-.94-2.06-.94 2.06-2.06.94zm-11 1L8.5 8.5l.94-2.06 2.06-.94-2.06-.94L8.5 2.5l-.94 2.06-2.06.94zm10 10l.94 2.06.94-2.06 2.06-.94-2.06-.94-.94-2.06-.94 2.06-2.06.94z\"/><path d=\"M17.41 7.96l-1.37-1.37c-.4-.4-.92-.59-1.43-.59-.52 0-1.04.2-1.43.59L10.3 9.45l-7.72 7.72c-.78.78-.78 2.05 0 2.83L4 21.41c.39.39.9.59 1.41.59.51 0 1.02-.2 1.41-.59l7.78-7.78 2.81-2.81c.8-.78.8-2.07 0-2.86zM5.41 20L4 18.59l7.72-7.72 1.47 1.35L5.41 20z\"/>\n",
              "  </svg>\n",
              "      </button>\n",
              "      \n",
              "  <style>\n",
              "    .colab-df-container {\n",
              "      display:flex;\n",
              "      flex-wrap:wrap;\n",
              "      gap: 12px;\n",
              "    }\n",
              "\n",
              "    .colab-df-convert {\n",
              "      background-color: #E8F0FE;\n",
              "      border: none;\n",
              "      border-radius: 50%;\n",
              "      cursor: pointer;\n",
              "      display: none;\n",
              "      fill: #1967D2;\n",
              "      height: 32px;\n",
              "      padding: 0 0 0 0;\n",
              "      width: 32px;\n",
              "    }\n",
              "\n",
              "    .colab-df-convert:hover {\n",
              "      background-color: #E2EBFA;\n",
              "      box-shadow: 0px 1px 2px rgba(60, 64, 67, 0.3), 0px 1px 3px 1px rgba(60, 64, 67, 0.15);\n",
              "      fill: #174EA6;\n",
              "    }\n",
              "\n",
              "    [theme=dark] .colab-df-convert {\n",
              "      background-color: #3B4455;\n",
              "      fill: #D2E3FC;\n",
              "    }\n",
              "\n",
              "    [theme=dark] .colab-df-convert:hover {\n",
              "      background-color: #434B5C;\n",
              "      box-shadow: 0px 1px 3px 1px rgba(0, 0, 0, 0.15);\n",
              "      filter: drop-shadow(0px 1px 2px rgba(0, 0, 0, 0.3));\n",
              "      fill: #FFFFFF;\n",
              "    }\n",
              "  </style>\n",
              "\n",
              "      <script>\n",
              "        const buttonEl =\n",
              "          document.querySelector('#df-d944b291-b2f7-419a-b207-77aa8f4d2d66 button.colab-df-convert');\n",
              "        buttonEl.style.display =\n",
              "          google.colab.kernel.accessAllowed ? 'block' : 'none';\n",
              "\n",
              "        async function convertToInteractive(key) {\n",
              "          const element = document.querySelector('#df-d944b291-b2f7-419a-b207-77aa8f4d2d66');\n",
              "          const dataTable =\n",
              "            await google.colab.kernel.invokeFunction('convertToInteractive',\n",
              "                                                     [key], {});\n",
              "          if (!dataTable) return;\n",
              "\n",
              "          const docLinkHtml = 'Like what you see? Visit the ' +\n",
              "            '<a target=\"_blank\" href=https://colab.research.google.com/notebooks/data_table.ipynb>data table notebook</a>'\n",
              "            + ' to learn more about interactive tables.';\n",
              "          element.innerHTML = '';\n",
              "          dataTable['output_type'] = 'display_data';\n",
              "          await google.colab.output.renderOutput(dataTable, element);\n",
              "          const docLink = document.createElement('div');\n",
              "          docLink.innerHTML = docLinkHtml;\n",
              "          element.appendChild(docLink);\n",
              "        }\n",
              "      </script>\n",
              "    </div>\n",
              "  </div>\n",
              "  "
            ],
            "text/plain": [
              "              DIA   AÑO  SEMANA  ...  DESTINO_E INTERPROVINCIAL_E FESTIVO\n",
              "20860  2018-07-14  2018      28  ...        139                 1       0\n",
              "20861  2018-08-10  2018      32  ...         44                 1       0\n",
              "\n",
              "[2 rows x 23 columns]"
            ]
          },
          "metadata": {},
          "execution_count": 16
        }
      ]
    },
    {
      "cell_type": "code",
      "source": [
        "clm_encoded = clm_encoded.drop(labels=['ORIGEN', 'DESTINO','PAIS','Festivo', 'CA_ORIGEN', 'CA_DESTINO', 'PROVINCIA_ORIGEN', 'PROVINCIA_DESTINO', 'INTERPROVINCIAL'], axis=1)\n",
        "clm_encoded"
      ],
      "metadata": {
        "colab": {
          "base_uri": "https://localhost:8080/",
          "height": 423
        },
        "id": "ZYxGmLBZxi3K",
        "outputId": "fe069d6f-88d0-4cb4-d2fd-79e19892746b"
      },
      "execution_count": 17,
      "outputs": [
        {
          "output_type": "execute_result",
          "data": {
            "text/html": [
              "\n",
              "  <div id=\"df-106da92a-62e4-4ff6-bd3e-81c238f87812\">\n",
              "    <div class=\"colab-df-container\">\n",
              "      <div>\n",
              "<style scoped>\n",
              "    .dataframe tbody tr th:only-of-type {\n",
              "        vertical-align: middle;\n",
              "    }\n",
              "\n",
              "    .dataframe tbody tr th {\n",
              "        vertical-align: top;\n",
              "    }\n",
              "\n",
              "    .dataframe thead th {\n",
              "        text-align: right;\n",
              "    }\n",
              "</style>\n",
              "<table border=\"1\" class=\"dataframe\">\n",
              "  <thead>\n",
              "    <tr style=\"text-align: right;\">\n",
              "      <th></th>\n",
              "      <th>DIA</th>\n",
              "      <th>AÑO</th>\n",
              "      <th>SEMANA</th>\n",
              "      <th>MES</th>\n",
              "      <th>ASIENTOS_OFERTADOS</th>\n",
              "      <th>ASIENTOS_CONFIRMADOS</th>\n",
              "      <th>VIAJES_OFERTADOS</th>\n",
              "      <th>VIAJES_CONFIRMADOS</th>\n",
              "      <th>OFERTANTES</th>\n",
              "      <th>OFERTANTES_NUEVOS</th>\n",
              "      <th>ORIGEN_E</th>\n",
              "      <th>DESTINO_E</th>\n",
              "      <th>INTERPROVINCIAL_E</th>\n",
              "      <th>FESTIVO</th>\n",
              "    </tr>\n",
              "  </thead>\n",
              "  <tbody>\n",
              "    <tr>\n",
              "      <th>0</th>\n",
              "      <td>2017-11-05</td>\n",
              "      <td>2017</td>\n",
              "      <td>44</td>\n",
              "      <td>11</td>\n",
              "      <td>11.0</td>\n",
              "      <td>1</td>\n",
              "      <td>6</td>\n",
              "      <td>1</td>\n",
              "      <td>6</td>\n",
              "      <td>1</td>\n",
              "      <td>1</td>\n",
              "      <td>62</td>\n",
              "      <td>0</td>\n",
              "      <td>0</td>\n",
              "    </tr>\n",
              "    <tr>\n",
              "      <th>1</th>\n",
              "      <td>2017-11-12</td>\n",
              "      <td>2017</td>\n",
              "      <td>45</td>\n",
              "      <td>11</td>\n",
              "      <td>11.0</td>\n",
              "      <td>1</td>\n",
              "      <td>6</td>\n",
              "      <td>1</td>\n",
              "      <td>6</td>\n",
              "      <td>1</td>\n",
              "      <td>1</td>\n",
              "      <td>62</td>\n",
              "      <td>0</td>\n",
              "      <td>0</td>\n",
              "    </tr>\n",
              "    <tr>\n",
              "      <th>2</th>\n",
              "      <td>2017-11-19</td>\n",
              "      <td>2017</td>\n",
              "      <td>46</td>\n",
              "      <td>11</td>\n",
              "      <td>8.0</td>\n",
              "      <td>1</td>\n",
              "      <td>6</td>\n",
              "      <td>1</td>\n",
              "      <td>6</td>\n",
              "      <td>0</td>\n",
              "      <td>1</td>\n",
              "      <td>62</td>\n",
              "      <td>0</td>\n",
              "      <td>0</td>\n",
              "    </tr>\n",
              "    <tr>\n",
              "      <th>3</th>\n",
              "      <td>2017-12-01</td>\n",
              "      <td>2017</td>\n",
              "      <td>48</td>\n",
              "      <td>12</td>\n",
              "      <td>3.0</td>\n",
              "      <td>3</td>\n",
              "      <td>1</td>\n",
              "      <td>1</td>\n",
              "      <td>1</td>\n",
              "      <td>0</td>\n",
              "      <td>1</td>\n",
              "      <td>62</td>\n",
              "      <td>0</td>\n",
              "      <td>0</td>\n",
              "    </tr>\n",
              "    <tr>\n",
              "      <th>4</th>\n",
              "      <td>2017-12-10</td>\n",
              "      <td>2017</td>\n",
              "      <td>49</td>\n",
              "      <td>12</td>\n",
              "      <td>3.0</td>\n",
              "      <td>1</td>\n",
              "      <td>2</td>\n",
              "      <td>1</td>\n",
              "      <td>2</td>\n",
              "      <td>0</td>\n",
              "      <td>1</td>\n",
              "      <td>62</td>\n",
              "      <td>0</td>\n",
              "      <td>0</td>\n",
              "    </tr>\n",
              "    <tr>\n",
              "      <th>...</th>\n",
              "      <td>...</td>\n",
              "      <td>...</td>\n",
              "      <td>...</td>\n",
              "      <td>...</td>\n",
              "      <td>...</td>\n",
              "      <td>...</td>\n",
              "      <td>...</td>\n",
              "      <td>...</td>\n",
              "      <td>...</td>\n",
              "      <td>...</td>\n",
              "      <td>...</td>\n",
              "      <td>...</td>\n",
              "      <td>...</td>\n",
              "      <td>...</td>\n",
              "    </tr>\n",
              "    <tr>\n",
              "      <th>20857</th>\n",
              "      <td>2018-01-26</td>\n",
              "      <td>2018</td>\n",
              "      <td>4</td>\n",
              "      <td>1</td>\n",
              "      <td>3.0</td>\n",
              "      <td>1</td>\n",
              "      <td>1</td>\n",
              "      <td>1</td>\n",
              "      <td>1</td>\n",
              "      <td>0</td>\n",
              "      <td>117</td>\n",
              "      <td>34</td>\n",
              "      <td>0</td>\n",
              "      <td>0</td>\n",
              "    </tr>\n",
              "    <tr>\n",
              "      <th>20858</th>\n",
              "      <td>2019-10-11</td>\n",
              "      <td>2019</td>\n",
              "      <td>41</td>\n",
              "      <td>10</td>\n",
              "      <td>3.0</td>\n",
              "      <td>1</td>\n",
              "      <td>1</td>\n",
              "      <td>1</td>\n",
              "      <td>1</td>\n",
              "      <td>0</td>\n",
              "      <td>117</td>\n",
              "      <td>76</td>\n",
              "      <td>1</td>\n",
              "      <td>0</td>\n",
              "    </tr>\n",
              "    <tr>\n",
              "      <th>20859</th>\n",
              "      <td>2019-09-06</td>\n",
              "      <td>2019</td>\n",
              "      <td>36</td>\n",
              "      <td>9</td>\n",
              "      <td>3.0</td>\n",
              "      <td>1</td>\n",
              "      <td>1</td>\n",
              "      <td>1</td>\n",
              "      <td>1</td>\n",
              "      <td>0</td>\n",
              "      <td>122</td>\n",
              "      <td>3</td>\n",
              "      <td>0</td>\n",
              "      <td>0</td>\n",
              "    </tr>\n",
              "    <tr>\n",
              "      <th>20860</th>\n",
              "      <td>2018-07-14</td>\n",
              "      <td>2018</td>\n",
              "      <td>28</td>\n",
              "      <td>7</td>\n",
              "      <td>3.0</td>\n",
              "      <td>1</td>\n",
              "      <td>1</td>\n",
              "      <td>1</td>\n",
              "      <td>1</td>\n",
              "      <td>0</td>\n",
              "      <td>52</td>\n",
              "      <td>139</td>\n",
              "      <td>1</td>\n",
              "      <td>0</td>\n",
              "    </tr>\n",
              "    <tr>\n",
              "      <th>20861</th>\n",
              "      <td>2018-08-10</td>\n",
              "      <td>2018</td>\n",
              "      <td>32</td>\n",
              "      <td>8</td>\n",
              "      <td>5.0</td>\n",
              "      <td>1</td>\n",
              "      <td>2</td>\n",
              "      <td>1</td>\n",
              "      <td>1</td>\n",
              "      <td>0</td>\n",
              "      <td>52</td>\n",
              "      <td>44</td>\n",
              "      <td>1</td>\n",
              "      <td>0</td>\n",
              "    </tr>\n",
              "  </tbody>\n",
              "</table>\n",
              "<p>20862 rows × 14 columns</p>\n",
              "</div>\n",
              "      <button class=\"colab-df-convert\" onclick=\"convertToInteractive('df-106da92a-62e4-4ff6-bd3e-81c238f87812')\"\n",
              "              title=\"Convert this dataframe to an interactive table.\"\n",
              "              style=\"display:none;\">\n",
              "        \n",
              "  <svg xmlns=\"http://www.w3.org/2000/svg\" height=\"24px\"viewBox=\"0 0 24 24\"\n",
              "       width=\"24px\">\n",
              "    <path d=\"M0 0h24v24H0V0z\" fill=\"none\"/>\n",
              "    <path d=\"M18.56 5.44l.94 2.06.94-2.06 2.06-.94-2.06-.94-.94-2.06-.94 2.06-2.06.94zm-11 1L8.5 8.5l.94-2.06 2.06-.94-2.06-.94L8.5 2.5l-.94 2.06-2.06.94zm10 10l.94 2.06.94-2.06 2.06-.94-2.06-.94-.94-2.06-.94 2.06-2.06.94z\"/><path d=\"M17.41 7.96l-1.37-1.37c-.4-.4-.92-.59-1.43-.59-.52 0-1.04.2-1.43.59L10.3 9.45l-7.72 7.72c-.78.78-.78 2.05 0 2.83L4 21.41c.39.39.9.59 1.41.59.51 0 1.02-.2 1.41-.59l7.78-7.78 2.81-2.81c.8-.78.8-2.07 0-2.86zM5.41 20L4 18.59l7.72-7.72 1.47 1.35L5.41 20z\"/>\n",
              "  </svg>\n",
              "      </button>\n",
              "      \n",
              "  <style>\n",
              "    .colab-df-container {\n",
              "      display:flex;\n",
              "      flex-wrap:wrap;\n",
              "      gap: 12px;\n",
              "    }\n",
              "\n",
              "    .colab-df-convert {\n",
              "      background-color: #E8F0FE;\n",
              "      border: none;\n",
              "      border-radius: 50%;\n",
              "      cursor: pointer;\n",
              "      display: none;\n",
              "      fill: #1967D2;\n",
              "      height: 32px;\n",
              "      padding: 0 0 0 0;\n",
              "      width: 32px;\n",
              "    }\n",
              "\n",
              "    .colab-df-convert:hover {\n",
              "      background-color: #E2EBFA;\n",
              "      box-shadow: 0px 1px 2px rgba(60, 64, 67, 0.3), 0px 1px 3px 1px rgba(60, 64, 67, 0.15);\n",
              "      fill: #174EA6;\n",
              "    }\n",
              "\n",
              "    [theme=dark] .colab-df-convert {\n",
              "      background-color: #3B4455;\n",
              "      fill: #D2E3FC;\n",
              "    }\n",
              "\n",
              "    [theme=dark] .colab-df-convert:hover {\n",
              "      background-color: #434B5C;\n",
              "      box-shadow: 0px 1px 3px 1px rgba(0, 0, 0, 0.15);\n",
              "      filter: drop-shadow(0px 1px 2px rgba(0, 0, 0, 0.3));\n",
              "      fill: #FFFFFF;\n",
              "    }\n",
              "  </style>\n",
              "\n",
              "      <script>\n",
              "        const buttonEl =\n",
              "          document.querySelector('#df-106da92a-62e4-4ff6-bd3e-81c238f87812 button.colab-df-convert');\n",
              "        buttonEl.style.display =\n",
              "          google.colab.kernel.accessAllowed ? 'block' : 'none';\n",
              "\n",
              "        async function convertToInteractive(key) {\n",
              "          const element = document.querySelector('#df-106da92a-62e4-4ff6-bd3e-81c238f87812');\n",
              "          const dataTable =\n",
              "            await google.colab.kernel.invokeFunction('convertToInteractive',\n",
              "                                                     [key], {});\n",
              "          if (!dataTable) return;\n",
              "\n",
              "          const docLinkHtml = 'Like what you see? Visit the ' +\n",
              "            '<a target=\"_blank\" href=https://colab.research.google.com/notebooks/data_table.ipynb>data table notebook</a>'\n",
              "            + ' to learn more about interactive tables.';\n",
              "          element.innerHTML = '';\n",
              "          dataTable['output_type'] = 'display_data';\n",
              "          await google.colab.output.renderOutput(dataTable, element);\n",
              "          const docLink = document.createElement('div');\n",
              "          docLink.innerHTML = docLinkHtml;\n",
              "          element.appendChild(docLink);\n",
              "        }\n",
              "      </script>\n",
              "    </div>\n",
              "  </div>\n",
              "  "
            ],
            "text/plain": [
              "              DIA   AÑO  SEMANA  ...  DESTINO_E  INTERPROVINCIAL_E  FESTIVO\n",
              "0      2017-11-05  2017      44  ...         62                  0        0\n",
              "1      2017-11-12  2017      45  ...         62                  0        0\n",
              "2      2017-11-19  2017      46  ...         62                  0        0\n",
              "3      2017-12-01  2017      48  ...         62                  0        0\n",
              "4      2017-12-10  2017      49  ...         62                  0        0\n",
              "...           ...   ...     ...  ...        ...                ...      ...\n",
              "20857  2018-01-26  2018       4  ...         34                  0        0\n",
              "20858  2019-10-11  2019      41  ...         76                  1        0\n",
              "20859  2019-09-06  2019      36  ...          3                  0        0\n",
              "20860  2018-07-14  2018      28  ...        139                  1        0\n",
              "20861  2018-08-10  2018      32  ...         44                  1        0\n",
              "\n",
              "[20862 rows x 14 columns]"
            ]
          },
          "metadata": {},
          "execution_count": 17
        }
      ]
    },
    {
      "cell_type": "code",
      "source": [
        "clm_encoded = clm_encoded.rename(columns={'ORIGEN_E':'ORIGEN','DESTINO_E':'DESTINO', 'CA_ORIGEN_E':'CA_ORIGEN', 'CA_DESTINO_E': 'CA_DESTINO','PROVINCIA_ORIGEN_E': 'PROVINCIA_ORIGEN','PROVINCIA_DESTINO_E': 'PROVINCIA_DESTINO','INTERPROVINCIAL_E': 'INTERPROVINCIAL'})\n",
        "clm_encoded.head(2)"
      ],
      "metadata": {
        "colab": {
          "base_uri": "https://localhost:8080/",
          "height": 112
        },
        "id": "O1RooFX6xtHS",
        "outputId": "329c5ff8-3c61-4bf7-9f55-f91f12d6141a"
      },
      "execution_count": 18,
      "outputs": [
        {
          "output_type": "execute_result",
          "data": {
            "text/html": [
              "\n",
              "  <div id=\"df-487d40fd-ae24-4b22-ae5f-fafa34eba278\">\n",
              "    <div class=\"colab-df-container\">\n",
              "      <div>\n",
              "<style scoped>\n",
              "    .dataframe tbody tr th:only-of-type {\n",
              "        vertical-align: middle;\n",
              "    }\n",
              "\n",
              "    .dataframe tbody tr th {\n",
              "        vertical-align: top;\n",
              "    }\n",
              "\n",
              "    .dataframe thead th {\n",
              "        text-align: right;\n",
              "    }\n",
              "</style>\n",
              "<table border=\"1\" class=\"dataframe\">\n",
              "  <thead>\n",
              "    <tr style=\"text-align: right;\">\n",
              "      <th></th>\n",
              "      <th>DIA</th>\n",
              "      <th>AÑO</th>\n",
              "      <th>SEMANA</th>\n",
              "      <th>MES</th>\n",
              "      <th>ASIENTOS_OFERTADOS</th>\n",
              "      <th>ASIENTOS_CONFIRMADOS</th>\n",
              "      <th>VIAJES_OFERTADOS</th>\n",
              "      <th>VIAJES_CONFIRMADOS</th>\n",
              "      <th>OFERTANTES</th>\n",
              "      <th>OFERTANTES_NUEVOS</th>\n",
              "      <th>ORIGEN</th>\n",
              "      <th>DESTINO</th>\n",
              "      <th>INTERPROVINCIAL</th>\n",
              "      <th>FESTIVO</th>\n",
              "    </tr>\n",
              "  </thead>\n",
              "  <tbody>\n",
              "    <tr>\n",
              "      <th>0</th>\n",
              "      <td>2017-11-05</td>\n",
              "      <td>2017</td>\n",
              "      <td>44</td>\n",
              "      <td>11</td>\n",
              "      <td>11.0</td>\n",
              "      <td>1</td>\n",
              "      <td>6</td>\n",
              "      <td>1</td>\n",
              "      <td>6</td>\n",
              "      <td>1</td>\n",
              "      <td>1</td>\n",
              "      <td>62</td>\n",
              "      <td>0</td>\n",
              "      <td>0</td>\n",
              "    </tr>\n",
              "    <tr>\n",
              "      <th>1</th>\n",
              "      <td>2017-11-12</td>\n",
              "      <td>2017</td>\n",
              "      <td>45</td>\n",
              "      <td>11</td>\n",
              "      <td>11.0</td>\n",
              "      <td>1</td>\n",
              "      <td>6</td>\n",
              "      <td>1</td>\n",
              "      <td>6</td>\n",
              "      <td>1</td>\n",
              "      <td>1</td>\n",
              "      <td>62</td>\n",
              "      <td>0</td>\n",
              "      <td>0</td>\n",
              "    </tr>\n",
              "  </tbody>\n",
              "</table>\n",
              "</div>\n",
              "      <button class=\"colab-df-convert\" onclick=\"convertToInteractive('df-487d40fd-ae24-4b22-ae5f-fafa34eba278')\"\n",
              "              title=\"Convert this dataframe to an interactive table.\"\n",
              "              style=\"display:none;\">\n",
              "        \n",
              "  <svg xmlns=\"http://www.w3.org/2000/svg\" height=\"24px\"viewBox=\"0 0 24 24\"\n",
              "       width=\"24px\">\n",
              "    <path d=\"M0 0h24v24H0V0z\" fill=\"none\"/>\n",
              "    <path d=\"M18.56 5.44l.94 2.06.94-2.06 2.06-.94-2.06-.94-.94-2.06-.94 2.06-2.06.94zm-11 1L8.5 8.5l.94-2.06 2.06-.94-2.06-.94L8.5 2.5l-.94 2.06-2.06.94zm10 10l.94 2.06.94-2.06 2.06-.94-2.06-.94-.94-2.06-.94 2.06-2.06.94z\"/><path d=\"M17.41 7.96l-1.37-1.37c-.4-.4-.92-.59-1.43-.59-.52 0-1.04.2-1.43.59L10.3 9.45l-7.72 7.72c-.78.78-.78 2.05 0 2.83L4 21.41c.39.39.9.59 1.41.59.51 0 1.02-.2 1.41-.59l7.78-7.78 2.81-2.81c.8-.78.8-2.07 0-2.86zM5.41 20L4 18.59l7.72-7.72 1.47 1.35L5.41 20z\"/>\n",
              "  </svg>\n",
              "      </button>\n",
              "      \n",
              "  <style>\n",
              "    .colab-df-container {\n",
              "      display:flex;\n",
              "      flex-wrap:wrap;\n",
              "      gap: 12px;\n",
              "    }\n",
              "\n",
              "    .colab-df-convert {\n",
              "      background-color: #E8F0FE;\n",
              "      border: none;\n",
              "      border-radius: 50%;\n",
              "      cursor: pointer;\n",
              "      display: none;\n",
              "      fill: #1967D2;\n",
              "      height: 32px;\n",
              "      padding: 0 0 0 0;\n",
              "      width: 32px;\n",
              "    }\n",
              "\n",
              "    .colab-df-convert:hover {\n",
              "      background-color: #E2EBFA;\n",
              "      box-shadow: 0px 1px 2px rgba(60, 64, 67, 0.3), 0px 1px 3px 1px rgba(60, 64, 67, 0.15);\n",
              "      fill: #174EA6;\n",
              "    }\n",
              "\n",
              "    [theme=dark] .colab-df-convert {\n",
              "      background-color: #3B4455;\n",
              "      fill: #D2E3FC;\n",
              "    }\n",
              "\n",
              "    [theme=dark] .colab-df-convert:hover {\n",
              "      background-color: #434B5C;\n",
              "      box-shadow: 0px 1px 3px 1px rgba(0, 0, 0, 0.15);\n",
              "      filter: drop-shadow(0px 1px 2px rgba(0, 0, 0, 0.3));\n",
              "      fill: #FFFFFF;\n",
              "    }\n",
              "  </style>\n",
              "\n",
              "      <script>\n",
              "        const buttonEl =\n",
              "          document.querySelector('#df-487d40fd-ae24-4b22-ae5f-fafa34eba278 button.colab-df-convert');\n",
              "        buttonEl.style.display =\n",
              "          google.colab.kernel.accessAllowed ? 'block' : 'none';\n",
              "\n",
              "        async function convertToInteractive(key) {\n",
              "          const element = document.querySelector('#df-487d40fd-ae24-4b22-ae5f-fafa34eba278');\n",
              "          const dataTable =\n",
              "            await google.colab.kernel.invokeFunction('convertToInteractive',\n",
              "                                                     [key], {});\n",
              "          if (!dataTable) return;\n",
              "\n",
              "          const docLinkHtml = 'Like what you see? Visit the ' +\n",
              "            '<a target=\"_blank\" href=https://colab.research.google.com/notebooks/data_table.ipynb>data table notebook</a>'\n",
              "            + ' to learn more about interactive tables.';\n",
              "          element.innerHTML = '';\n",
              "          dataTable['output_type'] = 'display_data';\n",
              "          await google.colab.output.renderOutput(dataTable, element);\n",
              "          const docLink = document.createElement('div');\n",
              "          docLink.innerHTML = docLinkHtml;\n",
              "          element.appendChild(docLink);\n",
              "        }\n",
              "      </script>\n",
              "    </div>\n",
              "  </div>\n",
              "  "
            ],
            "text/plain": [
              "          DIA   AÑO  SEMANA  MES  ...  ORIGEN  DESTINO  INTERPROVINCIAL  FESTIVO\n",
              "0  2017-11-05  2017      44   11  ...       1       62                0        0\n",
              "1  2017-11-12  2017      45   11  ...       1       62                0        0\n",
              "\n",
              "[2 rows x 14 columns]"
            ]
          },
          "metadata": {},
          "execution_count": 18
        }
      ]
    },
    {
      "cell_type": "markdown",
      "source": [
        "# Distribución de los datos"
      ],
      "metadata": {
        "id": "hcDLfuSZl-G1"
      }
    },
    {
      "cell_type": "markdown",
      "source": [
        "## Castilla-la Mancha"
      ],
      "metadata": {
        "id": "gL_X3s7eHwdO"
      }
    },
    {
      "cell_type": "code",
      "source": [
        "clm_encoded.groupby('MES')['VIAJES_OFERTADOS'].sum().plot(kind='bar')\n",
        "plt.show()"
      ],
      "metadata": {
        "colab": {
          "base_uri": "https://localhost:8080/",
          "height": 282
        },
        "id": "NVR7XqMWmkdt",
        "outputId": "53b818bb-6971-43d3-e487-5a0fcb7c41ef"
      },
      "execution_count": 19,
      "outputs": [
        {
          "output_type": "display_data",
          "data": {
            "image/png": "[encoded data removed]",
            "text/plain": [
              "<Figure size 432x288 with 1 Axes>"
            ]
          },
          "metadata": {
            "needs_background": "light"
          }
        }
      ]
    },
    {
      "cell_type": "code",
      "source": [
        "clm_encoded.groupby('MES')['VIAJES_CONFIRMADOS'].sum().plot(kind='bar')\n",
        "plt.show()"
      ],
      "metadata": {
        "colab": {
          "base_uri": "https://localhost:8080/",
          "height": 282
        },
        "id": "S7yfBVqZbV45",
        "outputId": "9b48b5ce-834d-41c5-bf2e-2427747db4b0"
      },
      "execution_count": 20,
      "outputs": [
        {
          "output_type": "display_data",
          "data": {
            "image/png": "[encoded data removed]",
            "text/plain": [
              "<Figure size 432x288 with 1 Axes>"
            ]
          },
          "metadata": {
            "needs_background": "light"
          }
        }
      ]
    },
    {
      "cell_type": "markdown",
      "source": [
        "Los datos no se encuentran desbalanceados, por lo que no será necesario utilizar técnicas de balanceo."
      ],
      "metadata": {
        "id": "-gvK9keZbc0_"
      }
    },
    {
      "cell_type": "markdown",
      "source": [
        "## Andalucia"
      ],
      "metadata": {
        "id": "n_7jpcFZji_D"
      }
    },
    {
      "cell_type": "code",
      "source": [
        "andalucia_encoded.groupby('MES')['VIAJES_OFERTADOS'].sum().plot(kind='bar')\n",
        "plt.show()"
      ],
      "metadata": {
        "colab": {
          "base_uri": "https://localhost:8080/",
          "height": 282
        },
        "id": "Ns-K1GmQl7yr",
        "outputId": "dfd3bc37-9cc2-4cdc-cb8a-cde9318d1afa"
      },
      "execution_count": 21,
      "outputs": [
        {
          "output_type": "display_data",
          "data": {
            "image/png": "[encoded data removed]",
            "text/plain": [
              "<Figure size 432x288 with 1 Axes>"
            ]
          },
          "metadata": {
            "needs_background": "light"
          }
        }
      ]
    },
    {
      "cell_type": "code",
      "source": [
        "andalucia_encoded.groupby('MES')['VIAJES_CONFIRMADOS'].sum().plot(kind='bar')\n",
        "plt.show()"
      ],
      "metadata": {
        "colab": {
          "base_uri": "https://localhost:8080/",
          "height": 282
        },
        "id": "s1lZctDRbZva",
        "outputId": "41912eba-d818-4425-f116-34c8d4efaf3a"
      },
      "execution_count": 22,
      "outputs": [
        {
          "output_type": "display_data",
          "data": {
            "image/png": "[encoded data removed]",
            "text/plain": [
              "<Figure size 432x288 with 1 Axes>"
            ]
          },
          "metadata": {
            "needs_background": "light"
          }
        }
      ]
    },
    {
      "cell_type": "markdown",
      "source": [
        "Los datos no se encuentran desbalanceados, por lo que no será necesario utilizar técnicas de balanceo."
      ],
      "metadata": {
        "id": "k7Ul-hXwS6__"
      }
    },
    {
      "cell_type": "markdown",
      "source": [
        "## Visualizacion de variable a inferir y correlación"
      ],
      "metadata": {
        "id": "aLuzg2lzn1cZ"
      }
    },
    {
      "cell_type": "markdown",
      "source": [
        "A continuación se muestran unas matrices de correlación para tener una impresión a simple vista de la influencia de unas características sobre otras."
      ],
      "metadata": {
        "id": "74Ak5lWebubE"
      }
    },
    {
      "cell_type": "code",
      "source": [
        "def graph_correlation(corr_matrix):\n",
        "  fig, ax = plt.subplots(nrows=1, ncols=1, figsize=(13, 13))\n",
        "\n",
        "  sns.heatmap(\n",
        "    corr_matrix,\n",
        "    annot     = True,\n",
        "    cbar      = False,\n",
        "    annot_kws = {\"size\": 8},\n",
        "    vmin      = -1,\n",
        "    vmax      = 1,\n",
        "    center    = 0,\n",
        "    cmap      = sns.diverging_palette(20, 220, n=200),\n",
        "    square    = True,\n",
        "    ax        = ax\n",
        "  )\n",
        "\n",
        "  ax.set_xticklabels(\n",
        "    ax.get_xticklabels(),\n",
        "    rotation = 45,\n",
        "    horizontalalignment = 'right',\n",
        "  )\n",
        "\n",
        "  ax.tick_params(labelsize = 10)\n"
      ],
      "metadata": {
        "id": "jyJTutuIYf1R"
      },
      "execution_count": 23,
      "outputs": []
    },
    {
      "cell_type": "markdown",
      "source": [
        "### Castilla-la Mancha"
      ],
      "metadata": {
        "id": "-f6rsbx5H0Xe"
      }
    },
    {
      "cell_type": "code",
      "source": [
        "def correlation_pearson(df):\n",
        "  corr_matrix = df.corr(method='pearson')\n",
        "  return corr_matrix"
      ],
      "metadata": {
        "id": "c13A598cKIfQ"
      },
      "execution_count": 24,
      "outputs": []
    },
    {
      "cell_type": "code",
      "source": [
        "clm_features_selectec = clm_encoded.copy()\n",
        "clm_features_selectec.tail(2)"
      ],
      "metadata": {
        "colab": {
          "base_uri": "https://localhost:8080/",
          "height": 112
        },
        "id": "FHVpyAHbbFXU",
        "outputId": "8d9eb880-ca9f-40af-cbe1-b26e8fbe87f3"
      },
      "execution_count": 25,
      "outputs": [
        {
          "output_type": "execute_result",
          "data": {
            "text/html": [
              "\n",
              "  <div id=\"df-bcf6022d-1a8f-4f11-a7b1-a62a60600049\">\n",
              "    <div class=\"colab-df-container\">\n",
              "      <div>\n",
              "<style scoped>\n",
              "    .dataframe tbody tr th:only-of-type {\n",
              "        vertical-align: middle;\n",
              "    }\n",
              "\n",
              "    .dataframe tbody tr th {\n",
              "        vertical-align: top;\n",
              "    }\n",
              "\n",
              "    .dataframe thead th {\n",
              "        text-align: right;\n",
              "    }\n",
              "</style>\n",
              "<table border=\"1\" class=\"dataframe\">\n",
              "  <thead>\n",
              "    <tr style=\"text-align: right;\">\n",
              "      <th></th>\n",
              "      <th>DIA</th>\n",
              "      <th>AÑO</th>\n",
              "      <th>SEMANA</th>\n",
              "      <th>MES</th>\n",
              "      <th>ASIENTOS_OFERTADOS</th>\n",
              "      <th>ASIENTOS_CONFIRMADOS</th>\n",
              "      <th>VIAJES_OFERTADOS</th>\n",
              "      <th>VIAJES_CONFIRMADOS</th>\n",
              "      <th>OFERTANTES</th>\n",
              "      <th>OFERTANTES_NUEVOS</th>\n",
              "      <th>ORIGEN</th>\n",
              "      <th>DESTINO</th>\n",
              "      <th>INTERPROVINCIAL</th>\n",
              "      <th>FESTIVO</th>\n",
              "    </tr>\n",
              "  </thead>\n",
              "  <tbody>\n",
              "    <tr>\n",
              "      <th>20860</th>\n",
              "      <td>2018-07-14</td>\n",
              "      <td>2018</td>\n",
              "      <td>28</td>\n",
              "      <td>7</td>\n",
              "      <td>3.0</td>\n",
              "      <td>1</td>\n",
              "      <td>1</td>\n",
              "      <td>1</td>\n",
              "      <td>1</td>\n",
              "      <td>0</td>\n",
              "      <td>52</td>\n",
              "      <td>139</td>\n",
              "      <td>1</td>\n",
              "      <td>0</td>\n",
              "    </tr>\n",
              "    <tr>\n",
              "      <th>20861</th>\n",
              "      <td>2018-08-10</td>\n",
              "      <td>2018</td>\n",
              "      <td>32</td>\n",
              "      <td>8</td>\n",
              "      <td>5.0</td>\n",
              "      <td>1</td>\n",
              "      <td>2</td>\n",
              "      <td>1</td>\n",
              "      <td>1</td>\n",
              "      <td>0</td>\n",
              "      <td>52</td>\n",
              "      <td>44</td>\n",
              "      <td>1</td>\n",
              "      <td>0</td>\n",
              "    </tr>\n",
              "  </tbody>\n",
              "</table>\n",
              "</div>\n",
              "      <button class=\"colab-df-convert\" onclick=\"convertToInteractive('df-bcf6022d-1a8f-4f11-a7b1-a62a60600049')\"\n",
              "              title=\"Convert this dataframe to an interactive table.\"\n",
              "              style=\"display:none;\">\n",
              "        \n",
              "  <svg xmlns=\"http://www.w3.org/2000/svg\" height=\"24px\"viewBox=\"0 0 24 24\"\n",
              "       width=\"24px\">\n",
              "    <path d=\"M0 0h24v24H0V0z\" fill=\"none\"/>\n",
              "    <path d=\"M18.56 5.44l.94 2.06.94-2.06 2.06-.94-2.06-.94-.94-2.06-.94 2.06-2.06.94zm-11 1L8.5 8.5l.94-2.06 2.06-.94-2.06-.94L8.5 2.5l-.94 2.06-2.06.94zm10 10l.94 2.06.94-2.06 2.06-.94-2.06-.94-.94-2.06-.94 2.06-2.06.94z\"/><path d=\"M17.41 7.96l-1.37-1.37c-.4-.4-.92-.59-1.43-.59-.52 0-1.04.2-1.43.59L10.3 9.45l-7.72 7.72c-.78.78-.78 2.05 0 2.83L4 21.41c.39.39.9.59 1.41.59.51 0 1.02-.2 1.41-.59l7.78-7.78 2.81-2.81c.8-.78.8-2.07 0-2.86zM5.41 20L4 18.59l7.72-7.72 1.47 1.35L5.41 20z\"/>\n",
              "  </svg>\n",
              "      </button>\n",
              "      \n",
              "  <style>\n",
              "    .colab-df-container {\n",
              "      display:flex;\n",
              "      flex-wrap:wrap;\n",
              "      gap: 12px;\n",
              "    }\n",
              "\n",
              "    .colab-df-convert {\n",
              "      background-color: #E8F0FE;\n",
              "      border: none;\n",
              "      border-radius: 50%;\n",
              "      cursor: pointer;\n",
              "      display: none;\n",
              "      fill: #1967D2;\n",
              "      height: 32px;\n",
              "      padding: 0 0 0 0;\n",
              "      width: 32px;\n",
              "    }\n",
              "\n",
              "    .colab-df-convert:hover {\n",
              "      background-color: #E2EBFA;\n",
              "      box-shadow: 0px 1px 2px rgba(60, 64, 67, 0.3), 0px 1px 3px 1px rgba(60, 64, 67, 0.15);\n",
              "      fill: #174EA6;\n",
              "    }\n",
              "\n",
              "    [theme=dark] .colab-df-convert {\n",
              "      background-color: #3B4455;\n",
              "      fill: #D2E3FC;\n",
              "    }\n",
              "\n",
              "    [theme=dark] .colab-df-convert:hover {\n",
              "      background-color: #434B5C;\n",
              "      box-shadow: 0px 1px 3px 1px rgba(0, 0, 0, 0.15);\n",
              "      filter: drop-shadow(0px 1px 2px rgba(0, 0, 0, 0.3));\n",
              "      fill: #FFFFFF;\n",
              "    }\n",
              "  </style>\n",
              "\n",
              "      <script>\n",
              "        const buttonEl =\n",
              "          document.querySelector('#df-bcf6022d-1a8f-4f11-a7b1-a62a60600049 button.colab-df-convert');\n",
              "        buttonEl.style.display =\n",
              "          google.colab.kernel.accessAllowed ? 'block' : 'none';\n",
              "\n",
              "        async function convertToInteractive(key) {\n",
              "          const element = document.querySelector('#df-bcf6022d-1a8f-4f11-a7b1-a62a60600049');\n",
              "          const dataTable =\n",
              "            await google.colab.kernel.invokeFunction('convertToInteractive',\n",
              "                                                     [key], {});\n",
              "          if (!dataTable) return;\n",
              "\n",
              "          const docLinkHtml = 'Like what you see? Visit the ' +\n",
              "            '<a target=\"_blank\" href=https://colab.research.google.com/notebooks/data_table.ipynb>data table notebook</a>'\n",
              "            + ' to learn more about interactive tables.';\n",
              "          element.innerHTML = '';\n",
              "          dataTable['output_type'] = 'display_data';\n",
              "          await google.colab.output.renderOutput(dataTable, element);\n",
              "          const docLink = document.createElement('div');\n",
              "          docLink.innerHTML = docLinkHtml;\n",
              "          element.appendChild(docLink);\n",
              "        }\n",
              "      </script>\n",
              "    </div>\n",
              "  </div>\n",
              "  "
            ],
            "text/plain": [
              "              DIA   AÑO  SEMANA  MES  ...  ORIGEN  DESTINO  INTERPROVINCIAL  FESTIVO\n",
              "20860  2018-07-14  2018      28    7  ...      52      139                1        0\n",
              "20861  2018-08-10  2018      32    8  ...      52       44                1        0\n",
              "\n",
              "[2 rows x 14 columns]"
            ]
          },
          "metadata": {},
          "execution_count": 25
        }
      ]
    },
    {
      "cell_type": "code",
      "source": [
        "clm_corr = correlation_pearson(clm_features_selectec)\n",
        "graph_correlation(clm_corr)"
      ],
      "metadata": {
        "colab": {
          "base_uri": "https://localhost:8080/",
          "height": 844
        },
        "id": "s1CCKdbzsyI4",
        "outputId": "a68d79be-41f8-493e-c387-b4337b5d5089"
      },
      "execution_count": 26,
      "outputs": [
        {
          "output_type": "display_data",
          "data": {
            "image/png": "[encoded data removed]",
            "text/plain": [
              "<Figure size 936x936 with 1 Axes>"
            ]
          },
          "metadata": {
            "needs_background": "light"
          }
        }
      ]
    },
    {
      "cell_type": "markdown",
      "source": [
        "### Andalucia"
      ],
      "metadata": {
        "id": "BPUtEeLAH5am"
      }
    },
    {
      "cell_type": "code",
      "source": [
        "andalucia_features_selectec = andalucia_encoded.copy()\n",
        "andalucia_features_selectec.tail(2)"
      ],
      "metadata": {
        "colab": {
          "base_uri": "https://localhost:8080/",
          "height": 112
        },
        "id": "Y52ulUeyH8NV",
        "outputId": "24291993-8a9a-4410-b216-beab80af7938"
      },
      "execution_count": 27,
      "outputs": [
        {
          "output_type": "execute_result",
          "data": {
            "text/html": [
              "\n",
              "  <div id=\"df-8f146ac9-8652-44c9-83b5-de84ba16e97a\">\n",
              "    <div class=\"colab-df-container\">\n",
              "      <div>\n",
              "<style scoped>\n",
              "    .dataframe tbody tr th:only-of-type {\n",
              "        vertical-align: middle;\n",
              "    }\n",
              "\n",
              "    .dataframe tbody tr th {\n",
              "        vertical-align: top;\n",
              "    }\n",
              "\n",
              "    .dataframe thead th {\n",
              "        text-align: right;\n",
              "    }\n",
              "</style>\n",
              "<table border=\"1\" class=\"dataframe\">\n",
              "  <thead>\n",
              "    <tr style=\"text-align: right;\">\n",
              "      <th></th>\n",
              "      <th>DIA</th>\n",
              "      <th>AÑO</th>\n",
              "      <th>SEMANA</th>\n",
              "      <th>MES</th>\n",
              "      <th>ASIENTOS_OFERTADOS</th>\n",
              "      <th>ASIENTOS_CONFIRMADOS</th>\n",
              "      <th>VIAJES_OFERTADOS</th>\n",
              "      <th>VIAJES_CONFIRMADOS</th>\n",
              "      <th>OFERTANTES</th>\n",
              "      <th>OFERTANTES_NUEVOS</th>\n",
              "      <th>ORIGEN</th>\n",
              "      <th>DESTINO</th>\n",
              "      <th>INTERPROVINCIAL</th>\n",
              "      <th>FESTIVO</th>\n",
              "    </tr>\n",
              "  </thead>\n",
              "  <tbody>\n",
              "    <tr>\n",
              "      <th>246053</th>\n",
              "      <td>2018-06-08</td>\n",
              "      <td>2018</td>\n",
              "      <td>23</td>\n",
              "      <td>6</td>\n",
              "      <td>3.0</td>\n",
              "      <td>2</td>\n",
              "      <td>1</td>\n",
              "      <td>1</td>\n",
              "      <td>1</td>\n",
              "      <td>1</td>\n",
              "      <td>296</td>\n",
              "      <td>142</td>\n",
              "      <td>0</td>\n",
              "      <td>0</td>\n",
              "    </tr>\n",
              "    <tr>\n",
              "      <th>246054</th>\n",
              "      <td>2018-07-06</td>\n",
              "      <td>2018</td>\n",
              "      <td>27</td>\n",
              "      <td>7</td>\n",
              "      <td>4.0</td>\n",
              "      <td>1</td>\n",
              "      <td>1</td>\n",
              "      <td>1</td>\n",
              "      <td>1</td>\n",
              "      <td>0</td>\n",
              "      <td>428</td>\n",
              "      <td>25</td>\n",
              "      <td>1</td>\n",
              "      <td>0</td>\n",
              "    </tr>\n",
              "  </tbody>\n",
              "</table>\n",
              "</div>\n",
              "      <button class=\"colab-df-convert\" onclick=\"convertToInteractive('df-8f146ac9-8652-44c9-83b5-de84ba16e97a')\"\n",
              "              title=\"Convert this dataframe to an interactive table.\"\n",
              "              style=\"display:none;\">\n",
              "        \n",
              "  <svg xmlns=\"http://www.w3.org/2000/svg\" height=\"24px\"viewBox=\"0 0 24 24\"\n",
              "       width=\"24px\">\n",
              "    <path d=\"M0 0h24v24H0V0z\" fill=\"none\"/>\n",
              "    <path d=\"M18.56 5.44l.94 2.06.94-2.06 2.06-.94-2.06-.94-.94-2.06-.94 2.06-2.06.94zm-11 1L8.5 8.5l.94-2.06 2.06-.94-2.06-.94L8.5 2.5l-.94 2.06-2.06.94zm10 10l.94 2.06.94-2.06 2.06-.94-2.06-.94-.94-2.06-.94 2.06-2.06.94z\"/><path d=\"M17.41 7.96l-1.37-1.37c-.4-.4-.92-.59-1.43-.59-.52 0-1.04.2-1.43.59L10.3 9.45l-7.72 7.72c-.78.78-.78 2.05 0 2.83L4 21.41c.39.39.9.59 1.41.59.51 0 1.02-.2 1.41-.59l7.78-7.78 2.81-2.81c.8-.78.8-2.07 0-2.86zM5.41 20L4 18.59l7.72-7.72 1.47 1.35L5.41 20z\"/>\n",
              "  </svg>\n",
              "      </button>\n",
              "      \n",
              "  <style>\n",
              "    .colab-df-container {\n",
              "      display:flex;\n",
              "      flex-wrap:wrap;\n",
              "      gap: 12px;\n",
              "    }\n",
              "\n",
              "    .colab-df-convert {\n",
              "      background-color: #E8F0FE;\n",
              "      border: none;\n",
              "      border-radius: 50%;\n",
              "      cursor: pointer;\n",
              "      display: none;\n",
              "      fill: #1967D2;\n",
              "      height: 32px;\n",
              "      padding: 0 0 0 0;\n",
              "      width: 32px;\n",
              "    }\n",
              "\n",
              "    .colab-df-convert:hover {\n",
              "      background-color: #E2EBFA;\n",
              "      box-shadow: 0px 1px 2px rgba(60, 64, 67, 0.3), 0px 1px 3px 1px rgba(60, 64, 67, 0.15);\n",
              "      fill: #174EA6;\n",
              "    }\n",
              "\n",
              "    [theme=dark] .colab-df-convert {\n",
              "      background-color: #3B4455;\n",
              "      fill: #D2E3FC;\n",
              "    }\n",
              "\n",
              "    [theme=dark] .colab-df-convert:hover {\n",
              "      background-color: #434B5C;\n",
              "      box-shadow: 0px 1px 3px 1px rgba(0, 0, 0, 0.15);\n",
              "      filter: drop-shadow(0px 1px 2px rgba(0, 0, 0, 0.3));\n",
              "      fill: #FFFFFF;\n",
              "    }\n",
              "  </style>\n",
              "\n",
              "      <script>\n",
              "        const buttonEl =\n",
              "          document.querySelector('#df-8f146ac9-8652-44c9-83b5-de84ba16e97a button.colab-df-convert');\n",
              "        buttonEl.style.display =\n",
              "          google.colab.kernel.accessAllowed ? 'block' : 'none';\n",
              "\n",
              "        async function convertToInteractive(key) {\n",
              "          const element = document.querySelector('#df-8f146ac9-8652-44c9-83b5-de84ba16e97a');\n",
              "          const dataTable =\n",
              "            await google.colab.kernel.invokeFunction('convertToInteractive',\n",
              "                                                     [key], {});\n",
              "          if (!dataTable) return;\n",
              "\n",
              "          const docLinkHtml = 'Like what you see? Visit the ' +\n",
              "            '<a target=\"_blank\" href=https://colab.research.google.com/notebooks/data_table.ipynb>data table notebook</a>'\n",
              "            + ' to learn more about interactive tables.';\n",
              "          element.innerHTML = '';\n",
              "          dataTable['output_type'] = 'display_data';\n",
              "          await google.colab.output.renderOutput(dataTable, element);\n",
              "          const docLink = document.createElement('div');\n",
              "          docLink.innerHTML = docLinkHtml;\n",
              "          element.appendChild(docLink);\n",
              "        }\n",
              "      </script>\n",
              "    </div>\n",
              "  </div>\n",
              "  "
            ],
            "text/plain": [
              "               DIA   AÑO  SEMANA  ...  DESTINO  INTERPROVINCIAL  FESTIVO\n",
              "246053  2018-06-08  2018      23  ...      142                0        0\n",
              "246054  2018-07-06  2018      27  ...       25                1        0\n",
              "\n",
              "[2 rows x 14 columns]"
            ]
          },
          "metadata": {},
          "execution_count": 27
        }
      ]
    },
    {
      "cell_type": "code",
      "source": [
        "andalucia_corr = correlation_pearson(andalucia_features_selectec)\n",
        "graph_correlation(andalucia_corr)"
      ],
      "metadata": {
        "colab": {
          "base_uri": "https://localhost:8080/",
          "height": 844
        },
        "id": "hO7-dIK_H9bs",
        "outputId": "6b243173-43dc-4396-b166-39be374d6093"
      },
      "execution_count": 28,
      "outputs": [
        {
          "output_type": "display_data",
          "data": {
            "image/png": "[encoded data removed]",
            "text/plain": [
              "<Figure size 936x936 with 1 Axes>"
            ]
          },
          "metadata": {
            "needs_background": "light"
          }
        }
      ]
    },
    {
      "cell_type": "markdown",
      "source": [
        "Como era de esperar las características creadas por nosotros tienen un impacto mucho menor en **VIAJES_CONFIRMADOS** (columna a inferir) que las variables que se encuentran en el dataset de inicio.\n",
        "\n",
        "Por otro lado nos impresiona la gran correlación existente entre la característica interprovincial de Castilla-la Mancha y la de viajes confirmados. Esto puede ser debido a el tamaño de la comunidad o a que sus habitantes necesiten más medios de transporte. Lo único que conocemos con certeza es que no supone ningún problema para blablacar ya que puede seguir ofertando plazas interprovinciales, a priori, con gran interés por los usuarios."
      ],
      "metadata": {
        "id": "me5e9Qjab5oi"
      }
    },
    {
      "cell_type": "markdown",
      "source": [
        "# Modelo de viajes"
      ],
      "metadata": {
        "id": "VSXyBtXoEQpn"
      }
    },
    {
      "cell_type": "markdown",
      "source": [
        "## Random Forest con CV"
      ],
      "metadata": {
        "id": "01nQNL5EtiB3"
      }
    },
    {
      "cell_type": "markdown",
      "source": [
        "Se realizó un modelo base con múltiples cambios pequeños para conseguir pequeñas mejoras en cada modelo. Se decidieron incluir en el modelo las caracteristicas de año, semana, mes, asientos ofertados, viajes ofertados, destino, origen, interprovincial, festivo, asientos ofertados y asientos confirmados, razón de esta última:\n",
        "\n",
        "Ya que conocemos todos los datos de cada ruta diaria, para saber si esta ruta se va a realizar o no, parece necesario saber cuantas plazas se encuentran reservadas por el momento."
      ],
      "metadata": {
        "id": "RXwnmtDsc53x"
      }
    },
    {
      "cell_type": "code",
      "source": [
        "def modelo(df, inferir, iterations):\n",
        "  df =  df.set_index('DIA')\n",
        "  X = df.drop(labels=['VIAJES_CONFIRMADOS','OFERTANTES_NUEVOS'], axis = 1)\n",
        "  y=df[[inferir]]\n",
        "\n",
        "  X_train, X_test, y_train, y_test = train_test_split( X, y, test_size=0.3, random_state=42)\n",
        "  print(\"X_train df\\n\", X_train.head(3))\n",
        "  cv = TimeSeriesSplit(n_splits = 3)\n",
        "  total_scores = []\n",
        "  for i in range(1,iterations):\n",
        "        fold_mae = []\n",
        "        regr = tree.DecisionTreeRegressor(max_depth=i)\n",
        "        for train_fold, test_fold in cv.split(X_train):\n",
        "            fx_train = X_train.iloc[train_fold]\n",
        "            fy_train = y_train.iloc[train_fold]\n",
        "\n",
        "            fx_test = X_train.iloc[test_fold]\n",
        "            fy_test = y_train.iloc[test_fold]\n",
        "\n",
        "            regr.fit(fx_train, fy_train.values.ravel())\n",
        "            y_pred = regr.predict(fx_test)\n",
        "            mae = metrics.mean_absolute_error(fy_test, y_pred)\n",
        "            fold_mae.append(mae)\n",
        "        total_scores.append(sum(fold_mae)/len(fold_mae))\n",
        "        \n",
        "  depth = np.argmin(total_scores) + 1\n",
        "  plt.plot(range(1,len(total_scores)+1), total_scores, \n",
        "            marker='o')\n",
        "  print ('\\nMin Value : ' +  str(min(total_scores)) +\" (\" + str(np.argmin(total_scores) + 1) + \")\")\n",
        "  plt.ylabel('MAE')\n",
        "  plt.show()\n",
        "\n",
        "  regressor = RandomForestRegressor(max_depth = depth, criterion='absolute_error', random_state=2)\n",
        "  regressor.fit(X_train, y_train.values.ravel())\n",
        "\n",
        "  y_pred = regressor.predict(X_test) \n",
        "  \n",
        "  print (\"MAE:\", metrics.mean_absolute_error(y_pred , y_test))\n",
        "  print (\"MAPE:\", metrics.mean_absolute_percentage_error(y_pred , y_test))\n",
        "  print (\"MSE:\", metrics.mean_squared_error(y_pred , y_test))\n",
        "  print (\"R^2:\", metrics.r2_score(y_pred , y_test))\n",
        "\n",
        "  xx = np.stack(i for i in range(len(y_test)))\n",
        "  plt.scatter(xx, y_test, c='r', label='data')\n",
        "  plt.plot(xx, y_pred, c='g', label='prediction')\n",
        "  plt.axis('tight')\n",
        "  plt.title(\"RandomForests Regressor\")\n",
        "\n",
        "  plt.show()\n",
        "\n",
        "  print ('Feature Relevancies')\n",
        "  print(pd.DataFrame({'Attributes': X_train.columns ,\n",
        "              'Decision Tree': regressor.feature_importances_}))\n",
        "\n",
        "  return regressor"
      ],
      "metadata": {
        "id": "bNyHZXKcDzgp"
      },
      "execution_count": 29,
      "outputs": []
    },
    {
      "cell_type": "markdown",
      "source": [
        "### Castilla-la Mancha"
      ],
      "metadata": {
        "id": "at7g0wx9FXYX"
      }
    },
    {
      "cell_type": "code",
      "source": [
        "regressor_clm = modelo(clm_encoded, 'VIAJES_CONFIRMADOS',20)"
      ],
      "metadata": {
        "colab": {
          "base_uri": "https://localhost:8080/",
          "height": 1000
        },
        "id": "hwzIWM_FEh7I",
        "outputId": "d5714239-bb6d-4c18-ffbc-b5c016a9ecec"
      },
      "execution_count": 30,
      "outputs": [
        {
          "output_type": "stream",
          "name": "stdout",
          "text": [
            "X_train df\n",
            "              AÑO  SEMANA  MES  ...  DESTINO  INTERPROVINCIAL  FESTIVO\n",
            "DIA                            ...                                   \n",
            "2019-02-01  2019       5    2  ...        7                1        0\n",
            "2018-05-04  2018      18    5  ...        1                1        1\n",
            "2018-08-04  2018      31    8  ...       42                1        0\n",
            "\n",
            "[3 rows x 11 columns]\n",
            "\n",
            "Min Value : 0.2480258603429576 (6)\n"
          ]
        },
        {
          "output_type": "display_data",
          "data": {
            "image/png": "[encoded data removed]",
            "text/plain": [
              "<Figure size 432x288 with 1 Axes>"
            ]
          },
          "metadata": {
            "needs_background": "light"
          }
        },
        {
          "output_type": "stream",
          "name": "stdout",
          "text": [
            "MAE: 0.22493928742610642\n",
            "MAPE: 0.115896819591292\n",
            "MSE: 0.21382761223837674\n",
            "R^2: 0.8427781340342695\n"
          ]
        },
        {
          "output_type": "stream",
          "name": "stderr",
          "text": [
            "/usr/local/lib/python3.7/dist-packages/IPython/core/interactiveshell.py:2882: FutureWarning: arrays to stack must be passed as a \"sequence\" type such as list or tuple. Support for non-sequence iterables such as generators is deprecated as of NumPy 1.16 and will raise an error in the future.\n",
            "  exec(code_obj, self.user_global_ns, self.user_ns)\n"
          ]
        },
        {
          "output_type": "display_data",
          "data": {
            "image/png": "[encoded data removed]",
            "text/plain": [
              "<Figure size 432x288 with 1 Axes>"
            ]
          },
          "metadata": {
            "needs_background": "light"
          }
        },
        {
          "output_type": "stream",
          "name": "stdout",
          "text": [
            "Feature Relevancies\n",
            "              Attributes  Decision Tree\n",
            "0                    AÑO       0.000397\n",
            "1                 SEMANA       0.001430\n",
            "2                    MES       0.000340\n",
            "3     ASIENTOS_OFERTADOS       0.004854\n",
            "4   ASIENTOS_CONFIRMADOS       0.907464\n",
            "5       VIAJES_OFERTADOS       0.041503\n",
            "6             OFERTANTES       0.041155\n",
            "7                 ORIGEN       0.001156\n",
            "8                DESTINO       0.001308\n",
            "9        INTERPROVINCIAL       0.000251\n",
            "10               FESTIVO       0.000141\n"
          ]
        }
      ]
    },
    {
      "cell_type": "markdown",
      "source": [
        "Como resultado obtenemos unas métricas del modelo bajas, hay poco ruido en los datos y el modelo parece ser bastante bueno."
      ],
      "metadata": {
        "id": "omXGEqkyd5uo"
      }
    },
    {
      "cell_type": "markdown",
      "source": [
        "### Andalucía"
      ],
      "metadata": {
        "id": "TIx0l4fyoRWk"
      }
    },
    {
      "cell_type": "code",
      "source": [
        "# regressor_andalucia = modelo(andalucia_encoded, 'VIAJES_CONFIRMADOS',15)"
      ],
      "metadata": {
        "id": "ekKuPceQpJrc"
      },
      "execution_count": 36,
      "outputs": []
    },
    {
      "cell_type": "markdown",
      "source": [
        "# Predicciones"
      ],
      "metadata": {
        "id": "usidcfHBIsJE"
      }
    },
    {
      "cell_type": "markdown",
      "source": [
        "A continuación mostramos una interfaz bastante simple para realizar las predicciones."
      ],
      "metadata": {
        "id": "ftZNKDaheWq2"
      }
    },
    {
      "cell_type": "code",
      "source": [
        "def interprovincial(municipioA, municipioB):\n",
        "  filaA = ccaa[ccaa['Municipio'] == municipioA]\n",
        "  filaB = ccaa[ccaa['Municipio'] == municipioB]\n",
        "  provinciaA = filaA.iloc[0]['Provincia']\n",
        "  provinciaB = filaB.iloc[0]['Provincia']\n",
        "  if provinciaA == provinciaB:\n",
        "    return 1\n",
        "  else:\n",
        "    return 0"
      ],
      "metadata": {
        "id": "TO4bkz-wUGAh"
      },
      "execution_count": 32,
      "outputs": []
    },
    {
      "cell_type": "markdown",
      "source": [
        "## Predicción para la empresa en Castilla-la Mancha"
      ],
      "metadata": {
        "id": "H4hcoDqD2ECu"
      }
    },
    {
      "cell_type": "code",
      "source": [
        "orig = clm.ORIGEN.astype('category')\n",
        "origen_dic = dict(enumerate(orig.cat.categories))\n",
        "\n",
        "desti = clm.DESTINO.astype('category')\n",
        "destino_dic = dict(enumerate(desti.cat.categories))\n",
        "\n",
        "interprovincial_clm = clm.INTERPROVINCIAL.astype('category')\n",
        "interprovincial_dic_clm =dict(enumerate(interprovincial_clm.cat.categories))"
      ],
      "metadata": {
        "id": "_bbQOqHU3Lus"
      },
      "execution_count": 33,
      "outputs": []
    },
    {
      "cell_type": "code",
      "source": [
        "regressor_clm.feature_names_in_"
      ],
      "metadata": {
        "colab": {
          "base_uri": "https://localhost:8080/"
        },
        "id": "gqux1zfiSZ8i",
        "outputId": "0c563f38-43d0-47eb-b40e-f898a5801ab9"
      },
      "execution_count": 34,
      "outputs": [
        {
          "output_type": "execute_result",
          "data": {
            "text/plain": [
              "array(['AÑO', 'SEMANA', 'MES', 'ASIENTOS_OFERTADOS',\n",
              "       'ASIENTOS_CONFIRMADOS', 'VIAJES_OFERTADOS', 'OFERTANTES', 'ORIGEN',\n",
              "       'DESTINO', 'INTERPROVINCIAL', 'FESTIVO'], dtype=object)"
            ]
          },
          "metadata": {},
          "execution_count": 34
        }
      ]
    },
    {
      "cell_type": "code",
      "source": [
        "#@title Origen\n",
        "\n",
        "origen_clm_word = 'Albacete' #@param {type:\"string\"}\n",
        "\n",
        "origen_clm = list(origen_dic.keys())[list(origen_dic.values()).index(origen_clm_word)]\n",
        "origen_clm"
      ],
      "metadata": {
        "colab": {
          "base_uri": "https://localhost:8080/"
        },
        "id": "b4melVEv2by-",
        "outputId": "f452d135-0bfa-49b6-b38d-f843067be72f"
      },
      "execution_count": 49,
      "outputs": [
        {
          "output_type": "execute_result",
          "data": {
            "text/plain": [
              "1"
            ]
          },
          "metadata": {},
          "execution_count": 49
        }
      ]
    },
    {
      "cell_type": "code",
      "source": [
        "#@title Destino\n",
        "\n",
        "destino_clm_word = 'Guadalajara' #@param {type:\"string\"}\n",
        "destino_clm = list(destino_dic.keys())[list(destino_dic.values()).index(destino_clm_word)]\n",
        "destino_clm"
      ],
      "metadata": {
        "colab": {
          "base_uri": "https://localhost:8080/"
        },
        "id": "GMSSqRJX41v6",
        "outputId": "3a656f20-008f-4c65-d0ce-84dd9808940f"
      },
      "execution_count": 50,
      "outputs": [
        {
          "output_type": "execute_result",
          "data": {
            "text/plain": [
              "62"
            ]
          },
          "metadata": {},
          "execution_count": 50
        }
      ]
    },
    {
      "cell_type": "code",
      "source": [
        "interprovincial_clm = interprovincial(origen_clm_word, destino_clm_word)"
      ],
      "metadata": {
        "id": "29vp_dkUUADR"
      },
      "execution_count": 38,
      "outputs": []
    },
    {
      "cell_type": "code",
      "source": [
        "from datetime import datetime\n",
        "\n",
        "#@title Fecha de viajes\n",
        "dia_clm = '2018-02-13' #@param {type:\"date\"}\n",
        "\n",
        "\n",
        "date_clm = pd.Timestamp(dia_clm)\n",
        "mes_clm = date_clm.month\n",
        "\n",
        "semana_clm = date_clm.week\n",
        "año_clm = date_clm.year\n",
        "print(mes_clm,año_clm,semana_clm)"
      ],
      "metadata": {
        "colab": {
          "base_uri": "https://localhost:8080/"
        },
        "id": "jqXT0oWu5GXr",
        "outputId": "301ef6f5-dce2-4217-c2d9-09fbcf64a056"
      },
      "execution_count": 51,
      "outputs": [
        {
          "output_type": "stream",
          "name": "stdout",
          "text": [
            "2 2018 7\n"
          ]
        }
      ]
    },
    {
      "cell_type": "code",
      "source": [
        "#@title Número de asientos ofertados y confirmados hasta la fecha\n",
        "\n",
        "asientos_ofertados_clm = 11 #@param {type:\"slider\", min:1, max:80, step:1}\n",
        "\n",
        "asientos_confirmados_clm = 4 #@param {type:\"slider\", min:1, max:80, step:1}\n",
        "\n",
        "if asientos_confirmados_clm > asientos_ofertados_clm:\n",
        "  asiento_confirmado_clm = 0\n",
        "  print('Asientos confimados no válidos, se asumirá que ningún asiento fue confirmado')"
      ],
      "metadata": {
        "id": "ecP62-OoTj3J"
      },
      "execution_count": 52,
      "outputs": []
    },
    {
      "cell_type": "code",
      "source": [
        "#@title Viajes ofertados\n",
        "\n",
        "viajes_ofertados_clm = 4 #@param {type:\"slider\", min:1, max:30, step:1}"
      ],
      "metadata": {
        "id": "N8m_T8zyVxfK"
      },
      "execution_count": 53,
      "outputs": []
    },
    {
      "cell_type": "code",
      "source": [
        "#@title Número de rutas disponibles para este viaje\n",
        "\n",
        "ofertantes_clm = 4 #@param {type:\"slider\", min:1, max:70, step:1}"
      ],
      "metadata": {
        "id": "sm2hsyUNV3kn"
      },
      "execution_count": 54,
      "outputs": []
    },
    {
      "cell_type": "code",
      "source": [
        "#@title Festivo\n",
        "\n",
        "festivo_clm = False #@param [\"False\", \"True\"] {type:\"raw\"}\n",
        "festivo_clm = 0 if festivo_clm == False else 1"
      ],
      "metadata": {
        "id": "JGThSmkpWbfe"
      },
      "execution_count": 55,
      "outputs": []
    },
    {
      "cell_type": "code",
      "source": [
        "dic_caracteristicas_clm = {'DIA':date_clm, 'AÑO':año_clm, 'SEMANA':semana_clm, 'MES':mes_clm, 'ASIENTOS_OFERTADOS': asientos_ofertados_clm,\n",
        "       'ASIENTOS_CONFIRMADOS':asientos_confirmados_clm, 'VIAJES_OFERTADOS':viajes_ofertados_clm, 'OFERTANTES':ofertantes_clm, 'ORIGEN':origen_clm,\n",
        "       'DESTINO':destino_clm, 'INTERPROVINCIAL':interprovincial_clm, 'FESTIVO':festivo_clm}\n",
        "df_viaje_clm = pd.DataFrame(dic_caracteristicas_clm, index=[0])\n",
        "df_viaje_clm = df_viaje_clm.set_index('DIA')\n",
        "df_viaje_clm"
      ],
      "metadata": {
        "colab": {
          "base_uri": "https://localhost:8080/",
          "height": 112
        },
        "id": "v1EqGq8F5W5i",
        "outputId": "b1f56cb4-8415-4ffa-dd5e-3f24614d667e"
      },
      "execution_count": 56,
      "outputs": [
        {
          "output_type": "execute_result",
          "data": {
            "text/html": [
              "\n",
              "  <div id=\"df-c295d45a-c579-4b04-8158-a5fdabd1bcac\">\n",
              "    <div class=\"colab-df-container\">\n",
              "      <div>\n",
              "<style scoped>\n",
              "    .dataframe tbody tr th:only-of-type {\n",
              "        vertical-align: middle;\n",
              "    }\n",
              "\n",
              "    .dataframe tbody tr th {\n",
              "        vertical-align: top;\n",
              "    }\n",
              "\n",
              "    .dataframe thead th {\n",
              "        text-align: right;\n",
              "    }\n",
              "</style>\n",
              "<table border=\"1\" class=\"dataframe\">\n",
              "  <thead>\n",
              "    <tr style=\"text-align: right;\">\n",
              "      <th></th>\n",
              "      <th>AÑO</th>\n",
              "      <th>SEMANA</th>\n",
              "      <th>MES</th>\n",
              "      <th>ASIENTOS_OFERTADOS</th>\n",
              "      <th>ASIENTOS_CONFIRMADOS</th>\n",
              "      <th>VIAJES_OFERTADOS</th>\n",
              "      <th>OFERTANTES</th>\n",
              "      <th>ORIGEN</th>\n",
              "      <th>DESTINO</th>\n",
              "      <th>INTERPROVINCIAL</th>\n",
              "      <th>FESTIVO</th>\n",
              "    </tr>\n",
              "    <tr>\n",
              "      <th>DIA</th>\n",
              "      <th></th>\n",
              "      <th></th>\n",
              "      <th></th>\n",
              "      <th></th>\n",
              "      <th></th>\n",
              "      <th></th>\n",
              "      <th></th>\n",
              "      <th></th>\n",
              "      <th></th>\n",
              "      <th></th>\n",
              "      <th></th>\n",
              "    </tr>\n",
              "  </thead>\n",
              "  <tbody>\n",
              "    <tr>\n",
              "      <th>2018-02-13</th>\n",
              "      <td>2018</td>\n",
              "      <td>7</td>\n",
              "      <td>2</td>\n",
              "      <td>11</td>\n",
              "      <td>4</td>\n",
              "      <td>4</td>\n",
              "      <td>4</td>\n",
              "      <td>1</td>\n",
              "      <td>62</td>\n",
              "      <td>1</td>\n",
              "      <td>0</td>\n",
              "    </tr>\n",
              "  </tbody>\n",
              "</table>\n",
              "</div>\n",
              "      <button class=\"colab-df-convert\" onclick=\"convertToInteractive('df-c295d45a-c579-4b04-8158-a5fdabd1bcac')\"\n",
              "              title=\"Convert this dataframe to an interactive table.\"\n",
              "              style=\"display:none;\">\n",
              "        \n",
              "  <svg xmlns=\"http://www.w3.org/2000/svg\" height=\"24px\"viewBox=\"0 0 24 24\"\n",
              "       width=\"24px\">\n",
              "    <path d=\"M0 0h24v24H0V0z\" fill=\"none\"/>\n",
              "    <path d=\"M18.56 5.44l.94 2.06.94-2.06 2.06-.94-2.06-.94-.94-2.06-.94 2.06-2.06.94zm-11 1L8.5 8.5l.94-2.06 2.06-.94-2.06-.94L8.5 2.5l-.94 2.06-2.06.94zm10 10l.94 2.06.94-2.06 2.06-.94-2.06-.94-.94-2.06-.94 2.06-2.06.94z\"/><path d=\"M17.41 7.96l-1.37-1.37c-.4-.4-.92-.59-1.43-.59-.52 0-1.04.2-1.43.59L10.3 9.45l-7.72 7.72c-.78.78-.78 2.05 0 2.83L4 21.41c.39.39.9.59 1.41.59.51 0 1.02-.2 1.41-.59l7.78-7.78 2.81-2.81c.8-.78.8-2.07 0-2.86zM5.41 20L4 18.59l7.72-7.72 1.47 1.35L5.41 20z\"/>\n",
              "  </svg>\n",
              "      </button>\n",
              "      \n",
              "  <style>\n",
              "    .colab-df-container {\n",
              "      display:flex;\n",
              "      flex-wrap:wrap;\n",
              "      gap: 12px;\n",
              "    }\n",
              "\n",
              "    .colab-df-convert {\n",
              "      background-color: #E8F0FE;\n",
              "      border: none;\n",
              "      border-radius: 50%;\n",
              "      cursor: pointer;\n",
              "      display: none;\n",
              "      fill: #1967D2;\n",
              "      height: 32px;\n",
              "      padding: 0 0 0 0;\n",
              "      width: 32px;\n",
              "    }\n",
              "\n",
              "    .colab-df-convert:hover {\n",
              "      background-color: #E2EBFA;\n",
              "      box-shadow: 0px 1px 2px rgba(60, 64, 67, 0.3), 0px 1px 3px 1px rgba(60, 64, 67, 0.15);\n",
              "      fill: #174EA6;\n",
              "    }\n",
              "\n",
              "    [theme=dark] .colab-df-convert {\n",
              "      background-color: #3B4455;\n",
              "      fill: #D2E3FC;\n",
              "    }\n",
              "\n",
              "    [theme=dark] .colab-df-convert:hover {\n",
              "      background-color: #434B5C;\n",
              "      box-shadow: 0px 1px 3px 1px rgba(0, 0, 0, 0.15);\n",
              "      filter: drop-shadow(0px 1px 2px rgba(0, 0, 0, 0.3));\n",
              "      fill: #FFFFFF;\n",
              "    }\n",
              "  </style>\n",
              "\n",
              "      <script>\n",
              "        const buttonEl =\n",
              "          document.querySelector('#df-c295d45a-c579-4b04-8158-a5fdabd1bcac button.colab-df-convert');\n",
              "        buttonEl.style.display =\n",
              "          google.colab.kernel.accessAllowed ? 'block' : 'none';\n",
              "\n",
              "        async function convertToInteractive(key) {\n",
              "          const element = document.querySelector('#df-c295d45a-c579-4b04-8158-a5fdabd1bcac');\n",
              "          const dataTable =\n",
              "            await google.colab.kernel.invokeFunction('convertToInteractive',\n",
              "                                                     [key], {});\n",
              "          if (!dataTable) return;\n",
              "\n",
              "          const docLinkHtml = 'Like what you see? Visit the ' +\n",
              "            '<a target=\"_blank\" href=https://colab.research.google.com/notebooks/data_table.ipynb>data table notebook</a>'\n",
              "            + ' to learn more about interactive tables.';\n",
              "          element.innerHTML = '';\n",
              "          dataTable['output_type'] = 'display_data';\n",
              "          await google.colab.output.renderOutput(dataTable, element);\n",
              "          const docLink = document.createElement('div');\n",
              "          docLink.innerHTML = docLinkHtml;\n",
              "          element.appendChild(docLink);\n",
              "        }\n",
              "      </script>\n",
              "    </div>\n",
              "  </div>\n",
              "  "
            ],
            "text/plain": [
              "             AÑO  SEMANA  MES  ...  DESTINO  INTERPROVINCIAL  FESTIVO\n",
              "DIA                            ...                                   \n",
              "2018-02-13  2018       7    2  ...       62                1        0\n",
              "\n",
              "[1 rows x 11 columns]"
            ]
          },
          "metadata": {},
          "execution_count": 56
        }
      ]
    },
    {
      "cell_type": "code",
      "source": [
        "pred_clm =  regressor_clm.predict(df_viaje_clm)[0]\n",
        "print(\"Viajes que se van a confirmar: \", pred_clm)\n",
        "porcentaje = (round((pred_clm/viajes_ofertados_clm)*100))\n",
        "print(\"Corresponde a un {porcentaje}%, ¿se debe dar publicidad a estas rutas? {respuesta}\".format(porcentaje = porcentaje, respuesta = 'No' if porcentaje>65 else 'Si'))"
      ],
      "metadata": {
        "colab": {
          "base_uri": "https://localhost:8080/"
        },
        "id": "dPw2KHtX50_6",
        "outputId": "af721dbb-5b33-4856-ab34-8fbfaa439617"
      },
      "execution_count": 57,
      "outputs": [
        {
          "output_type": "stream",
          "name": "stdout",
          "text": [
            "Viajes que se van a confirmar:  2.05\n",
            "Corresponde a un 51%, ¿se debe dar publicidad a estas rutas? Si\n"
          ]
        }
      ]
    },
    {
      "cell_type": "markdown",
      "source": [
        "### Predicción VS Valores reales"
      ],
      "metadata": {
        "id": "dEyME4lDezAH"
      }
    },
    {
      "cell_type": "code",
      "source": [
        "to_predict = {'DIA':'2018-02-13', 'AÑO':2018, 'SEMANA':7, 'MES':2, 'ASIENTOS_OFERTADOS': 11,\n",
        "          'ASIENTOS_CONFIRMADOS':4, 'VIAJES_OFERTADOS':4, 'OFERTANTES':4, 'ORIGEN':1,\n",
        "          'DESTINO':62, 'INTERPROVINCIAL':0, 'FESTIVO':0}\n",
        "\n",
        "pred_clm =  regressor_clm.predict(df_viaje_clm)[0]\n",
        "data_value = clm[clm['DIA'] == '2018-02-13'] #and clm[clm['AÑO'] == 2018]# and clm['VIAJES_OFERTADOS'] == 4]\n",
        "data_value = data_value[data_value['ORIGEN']=='Albacete']\n",
        "data_value = data_value[data_value['DESTINO']=='Guadalajara']\n",
        "data_value = data_value[data_value['ASIENTOS_OFERTADOS']==11]\n",
        "print(\"Viajes reales realizados {}, viajes predichos {}\".format(data_value['VIAJES_CONFIRMADOS'].tolist()[0],pred_clm))"
      ],
      "metadata": {
        "colab": {
          "base_uri": "https://localhost:8080/"
        },
        "id": "TScUmhYNi0x6",
        "outputId": "a4127f04-d4a5-4b22-912d-554e095ba25d"
      },
      "execution_count": 59,
      "outputs": [
        {
          "output_type": "stream",
          "name": "stdout",
          "text": [
            "Viajes reales realizados 3, viajes predichos 2.05\n"
          ]
        }
      ]
    },
    {
      "cell_type": "markdown",
      "source": [
        "## Predicción para la empresa en Andalucia"
      ],
      "metadata": {
        "id": "MYDbbxbEYPed"
      }
    },
    {
      "cell_type": "code",
      "source": [
        "'''\n",
        "orig = andalucia.ORIGEN.astype('category')\n",
        "origen_dic = dict(enumerate(orig.cat.categories))\n",
        "\n",
        "desti = andalucia.DESTINO.astype('category')\n",
        "destino_dic = dict(enumerate(desti.cat.categories))\n",
        "\n",
        "interprovincial_andalucia = andalucia.INTERPROVINCIAL.astype('category')\n",
        "interprovincial_dic_andalucia =dict(enumerate(interprovincial_andalucia.cat.categories))\n",
        "\n",
        "#@title ORIGEN\n",
        "\n",
        "origen_andalucia_word = 'Lepe' #@param {type:\"string\"}\n",
        "\n",
        "origen_andalucia = list(origen_dic.keys())[list(origen_dic.values()).index(origen_andalucia_word)]\n",
        "\n",
        "#@title DESTINO\n",
        "\n",
        "destino_andalucia_word = 'Cordoba' #@param {type:\"string\"}\n",
        "destino_andalucia = list(destino_dic.keys())[list(destino_dic.values()).index(destino_andalucia_word)]\n",
        "\n",
        "interprovincial_andalucia = interprovincial(origen_andalucia_word, destino_andalucia_word)\n",
        "\n",
        "from datetime import datetime\n",
        "\n",
        "#@title FECHA DE VIAJES\n",
        "dia_andalucia = '2022-01-24' #@param {type:\"date\"}\n",
        "\n",
        "\n",
        "date_andalucia = pd.Timestamp(dia_andalucia)\n",
        "mes_andalucia = date_andalucia.month\n",
        "\n",
        "semana_andalucia = date_andalucia.week\n",
        "año_andalucia = date_andalucia.year\n",
        "print(mes_andalucia,año_andalucia,semana_andalucia)\n",
        "\n",
        "#@title Número de asientos ofertados y confirmados hasta la fecha\n",
        "\n",
        "asientos_ofertados_andalucia = 38 #@param {type:\"slider\", min:1, max:80, step:1}\n",
        "\n",
        "asientos_confirmados_andalucia = 23 #@param {type:\"slider\", min:1, max:80, step:1}\n",
        "\n",
        "if asientos_confirmados_andalucia > asientos_ofertados_andalucia:\n",
        "  asiento_confirmado_andalucia = 0\n",
        "  print('Asientos confimados no válidos, se asumirá que ningún asiento fue confirmado')\n",
        "\n",
        "#@title Viajes ofertados\n",
        "\n",
        "viajes_ofertados_andalucia = 16 #@param {type:\"slider\", min:1, max:30, step:1}\n",
        "\n",
        "#@title Número de rutas disponibles para este viaje\n",
        "\n",
        "ofertantes_andalucia = 21 #@param {type:\"slider\", min:1, max:70, step:1}\n",
        "\n",
        "#@title Festivo\n",
        "\n",
        "festivo_andalucia = True #@param [\"False\", \"True\"] {type:\"raw\"}\n",
        "festivo_andalucia = 0 if festivo_andalucia == False else 1\n",
        "\n",
        "dic_caracteristicas_andalucia = {'DIA':date_andalucia, 'AÑO':año_andalucia, 'SEMANA':semana_andalucia, 'MES':mes_andalucia, 'ASIENTOS_OFERTADOS': asientos_ofertados_andalucia,\n",
        "       'ASIENTOS_CONFIRMADOS':asientos_confirmados_andalucia, 'VIAJES_OFERTADOS':viajes_ofertados_andalucia, 'OFERTANTES':ofertantes_andalucia, 'ORIGEN':origen_andalucia,\n",
        "       'DESTINO':destino_andalucia, 'INTERPROVINCIAL':interprovincial_andalucia, 'FESTIVO':festivo_andalucia}\n",
        "df_viaje_andalucia = pd.DataFrame(dic_caracteristicas_andalucia, index=[0])\n",
        "df_viaje_andalucia = df_viaje_andalucia.set_index('DIA')\n",
        "\n",
        "pred_andalucia =  regressor_andalucia.predict(df_viaje_andalucia)[0]\n",
        "print(\"Viajes que se van a confirmar: \", pred_andalucia)\n",
        "porcentaje = (round((pred_andalucia/viajes_ofertados_andalucia)*100))\n",
        "print(\"Corresponde a un {porcentaje}%, ¿se debe dar publicidad a estas rutas? {respuesta}\".format(porcentaje = porcentaje, respuesta = 'No' if porcentaje>65 else 'Si'))\n",
        "\n",
        "'''"
      ],
      "metadata": {
        "colab": {
          "base_uri": "https://localhost:8080/",
          "height": 110
        },
        "id": "YDav0aaeYPed",
        "outputId": "bc6046d9-123a-4c4b-f8c9-e3ef9b8fed6e"
      },
      "execution_count": 46,
      "outputs": [
        {
          "output_type": "execute_result",
          "data": {
            "application/vnd.google.colaboratory.intrinsic+json": {
              "type": "string"
            },
            "text/plain": [
              "'\\norig = andalucia.ORIGEN.astype(\\'category\\')\\norigen_dic = dict(enumerate(orig.cat.categories))\\n\\ndesti = andalucia.DESTINO.astype(\\'category\\')\\ndestino_dic = dict(enumerate(desti.cat.categories))\\n\\ninterprovincial_andalucia = andalucia.INTERPROVINCIAL.astype(\\'category\\')\\ninterprovincial_dic_andalucia =dict(enumerate(interprovincial_andalucia.cat.categories))\\n\\n#@title ORIGEN\\n\\norigen_andalucia_word = \\'Lepe\\' #@param {type:\"string\"}\\n\\norigen_andalucia = list(origen_dic.keys())[list(origen_dic.values()).index(origen_andalucia_word)]\\n\\n#@title DESTINO\\n\\ndestino_andalucia_word = \\'Cordoba\\' #@param {type:\"string\"}\\ndestino_andalucia = list(destino_dic.keys())[list(destino_dic.values()).index(destino_andalucia_word)]\\n\\ninterprovincial_andalucia = interprovincial(origen_andalucia_word, destino_andalucia_word)\\n\\nfrom datetime import datetime\\n\\n#@title FECHA DE VIAJES\\ndia_andalucia = \\'2022-01-24\\' #@param {type:\"date\"}\\n\\n\\ndate_andalucia = pd.Timestamp(dia_andalucia)\\nmes_andalucia = date_andalucia.month\\n\\nsemana_andalucia = date_andalucia.week\\naño_andalucia = date_andalucia.year\\nprint(mes_andalucia,año_andalucia,semana_andalucia)\\n\\n#@title Número de asientos ofertados y confirmados hasta la fecha\\n\\nasientos_ofertados_andalucia = 38 #@param {type:\"slider\", min:1, max:80, step:1}\\n\\nasientos_confirmados_andalucia = 23 #@param {type:\"slider\", min:1, max:80, step:1}\\n\\nif asientos_confirmados_andalucia > asientos_ofertados_andalucia:\\n  asiento_confirmado_andalucia = 0\\n  print(\\'Asientos confimados no válidos, se asumirá que ningún asiento fue confirmado\\')\\n\\n#@title Viajes ofertados\\n\\nviajes_ofertados_andalucia = 16 #@param {type:\"slider\", min:1, max:30, step:1}\\n\\n#@title Número de rutas disponibles para este viaje\\n\\nofertantes_andalucia = 21 #@param {type:\"slider\", min:1, max:70, step:1}\\n\\n#@title Festivo\\n\\nfestivo_andalucia = True #@param [\"False\", \"True\"] {type:\"raw\"}\\nfestivo_andalucia = 0 if festivo_andalucia == False else 1\\n\\ndic_caracteristicas_andalucia = {\\'DIA\\':date_andalucia, \\'AÑO\\':año_andalucia, \\'SEMANA\\':semana_andalucia, \\'MES\\':mes_andalucia, \\'ASIENTOS_OFERTADOS\\': asientos_ofertados_andalucia,\\n       \\'ASIENTOS_CONFIRMADOS\\':asientos_confirmados_andalucia, \\'VIAJES_OFERTADOS\\':viajes_ofertados_andalucia, \\'OFERTANTES\\':ofertantes_andalucia, \\'ORIGEN\\':origen_andalucia,\\n       \\'DESTINO\\':destino_andalucia, \\'INTERPROVINCIAL\\':interprovincial_andalucia, \\'FESTIVO\\':festivo_andalucia}\\ndf_viaje_andalucia = pd.DataFrame(dic_caracteristicas_andalucia, index=[0])\\ndf_viaje_andalucia = df_viaje_andalucia.set_index(\\'DIA\\')\\n\\npred_andalucia =  regressor_andalucia.predict(df_viaje_andalucia)[0]\\nprint(\"Viajes que se van a confirmar: \", pred_andalucia)\\nporcentaje = (round((pred_andalucia/viajes_ofertados_andalucia)*100))\\nprint(\"Corresponde a un {porcentaje}%, ¿se debe dar publicidad a estas rutas? {respuesta}\".format(porcentaje = porcentaje, respuesta = \\'No\\' if porcentaje>65 else \\'Si\\'))\\n\\n'"
            ]
          },
          "metadata": {},
          "execution_count": 46
        }
      ]
    },
    {
      "cell_type": "markdown",
      "source": [
        "# Guardar modelos"
      ],
      "metadata": {
        "id": "DRqP84HWn6su"
      }
    },
    {
      "cell_type": "code",
      "source": [
        "import joblib\n",
        "\n",
        "joblib.dump(regressor_clm, \"regressor_clm.joblib\")"
      ],
      "metadata": {
        "id": "SvigBX4En8pe"
      },
      "execution_count": null,
      "outputs": []
    },
    {
      "cell_type": "code",
      "source": [
        "#joblib.dump(regressor_andalucia, \"regressor_andalucia.joblib\")"
      ],
      "metadata": {
        "id": "81xE1sFPhLJa"
      },
      "execution_count": null,
      "outputs": []
    }
  ]
}