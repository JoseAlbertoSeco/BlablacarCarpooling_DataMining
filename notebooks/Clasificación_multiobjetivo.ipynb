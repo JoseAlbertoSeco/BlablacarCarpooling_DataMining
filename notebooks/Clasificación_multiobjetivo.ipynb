{
  "nbformat": 4,
  "nbformat_minor": 0,
  "metadata": {
    "colab": {
      "name": "Clasificación multiobjetivo.ipynb",
      "provenance": [],
      "collapsed_sections": [
        "78vlFPRvWjo2",
        "yAM_1cczrEi_",
        "gydhU1e4Xose",
        "k7im3xN9-ZN2",
        "ZRY2FLVR-VXg",
        "takcTsdaF0Qz",
        "DRqP84HWn6su"
      ],
      "include_colab_link": true
    },
    "kernelspec": {
      "name": "python3",
      "display_name": "Python 3"
    },
    "language_info": {
      "name": "python"
    }
  },
  "cells": [
    {
      "cell_type": "markdown",
      "metadata": {
        "id": "view-in-github",
        "colab_type": "text"
      },
      "source": [
        "<a href=\"https://colab.research.google.com/github/JoseAlbertoSeco/BlablacarCarpooling_DataMining/blob/Patterns/notebooks/Clasificaci%C3%B3n_multiobjetivo.ipynb\" target=\"_parent\"><img src=\"https://colab.research.google.com/assets/colab-badge.svg\" alt=\"Open In Colab\"/></a>"
      ]
    },
    {
      "cell_type": "markdown",
      "source": [
        "# Línea de trabajo 3:\n",
        "\n",
        "En este notebook se realizará una clasificación multiobjetivo, con ello se pretende que la empresea prevea la ruta que se va a hacer.\n",
        "\n",
        "Con esta predicción se pretende ayudar a el usuario para ver qué rutas son probables que se realicen"
      ],
      "metadata": {
        "id": "78vlFPRvWjo2"
      }
    },
    {
      "cell_type": "code",
      "source": [
        "import pandas as pd\n",
        "from sklearn.model_selection import train_test_split\n",
        "\n",
        "from sklearn.model_selection import KFold\n",
        "from sklearn.metrics import mean_absolute_error\n",
        "from sklearn import metrics\n",
        "from sklearn import linear_model\n",
        "from sklearn import tree \n",
        "\n",
        "from sklearn.metrics import plot_confusion_matrix, ConfusionMatrixDisplay\n",
        "from sklearn.utils.multiclass import unique_labels"
      ],
      "metadata": {
        "id": "xG1dkn8rXC0V"
      },
      "execution_count": 1,
      "outputs": []
    },
    {
      "cell_type": "markdown",
      "source": [
        "# Carga de datos"
      ],
      "metadata": {
        "id": "yAM_1cczrEi_"
      }
    },
    {
      "cell_type": "code",
      "execution_count": 2,
      "metadata": {
        "colab": {
          "base_uri": "https://localhost:8080/"
        },
        "id": "l1TcNpzNWbg-",
        "outputId": "9679d852-70ca-4024-9378-4fc573f661c8"
      },
      "outputs": [
        {
          "output_type": "stream",
          "name": "stdout",
          "text": [
            "Mounted at /content/drive\n"
          ]
        }
      ],
      "source": [
        "from google.colab import drive\n",
        "drive.mount('/content/drive')"
      ]
    },
    {
      "cell_type": "code",
      "source": [
        "clm = pd.read_csv(\"/content/drive/MyDrive/Datos/df_castilla.csv\") \n",
        "clm.head(2)"
      ],
      "metadata": {
        "colab": {
          "base_uri": "https://localhost:8080/",
          "height": 0
        },
        "id": "TTvbvfcpW969",
        "outputId": "48ffea1a-6bfb-4809-f242-aefedd529a31"
      },
      "execution_count": 3,
      "outputs": [
        {
          "output_type": "execute_result",
          "data": {
            "text/html": [
              "\n",
              "  <div id=\"df-432a98f3-a374-4413-ade9-3b77d1a9b1fc\">\n",
              "    <div class=\"colab-df-container\">\n",
              "      <div>\n",
              "<style scoped>\n",
              "    .dataframe tbody tr th:only-of-type {\n",
              "        vertical-align: middle;\n",
              "    }\n",
              "\n",
              "    .dataframe tbody tr th {\n",
              "        vertical-align: top;\n",
              "    }\n",
              "\n",
              "    .dataframe thead th {\n",
              "        text-align: right;\n",
              "    }\n",
              "</style>\n",
              "<table border=\"1\" class=\"dataframe\">\n",
              "  <thead>\n",
              "    <tr style=\"text-align: right;\">\n",
              "      <th></th>\n",
              "      <th>Unnamed: 0</th>\n",
              "      <th>DIA</th>\n",
              "      <th>AÑO</th>\n",
              "      <th>SEMANA</th>\n",
              "      <th>MES</th>\n",
              "      <th>PAIS</th>\n",
              "      <th>ORIGEN</th>\n",
              "      <th>DESTINO</th>\n",
              "      <th>ASIENTOS_OFERTADOS</th>\n",
              "      <th>ASIENTOS_CONFIRMADOS</th>\n",
              "      <th>VIAJES_OFERTADOS</th>\n",
              "      <th>VIAJES_CONFIRMADOS</th>\n",
              "      <th>OFERTANTES</th>\n",
              "      <th>OFERTANTES_NUEVOS</th>\n",
              "      <th>CA_ORIGEN</th>\n",
              "      <th>CA_DESTINO</th>\n",
              "      <th>PROVINCIA_ORIGEN</th>\n",
              "      <th>PROVINCIA_DESTINO</th>\n",
              "      <th>INTERPROVINCIAL</th>\n",
              "      <th>Festivo</th>\n",
              "    </tr>\n",
              "  </thead>\n",
              "  <tbody>\n",
              "    <tr>\n",
              "      <th>0</th>\n",
              "      <td>453525</td>\n",
              "      <td>2017-11-05</td>\n",
              "      <td>2017</td>\n",
              "      <td>44</td>\n",
              "      <td>11</td>\n",
              "      <td>es</td>\n",
              "      <td>Albacete</td>\n",
              "      <td>Guadalajara</td>\n",
              "      <td>11.0</td>\n",
              "      <td>1</td>\n",
              "      <td>6</td>\n",
              "      <td>1</td>\n",
              "      <td>6</td>\n",
              "      <td>1</td>\n",
              "      <td>Castilla-La Mancha</td>\n",
              "      <td>Castilla-La Mancha</td>\n",
              "      <td>Albacete</td>\n",
              "      <td>Guadalajara</td>\n",
              "      <td>No</td>\n",
              "      <td>No</td>\n",
              "    </tr>\n",
              "    <tr>\n",
              "      <th>1</th>\n",
              "      <td>453526</td>\n",
              "      <td>2017-11-12</td>\n",
              "      <td>2017</td>\n",
              "      <td>45</td>\n",
              "      <td>11</td>\n",
              "      <td>es</td>\n",
              "      <td>Albacete</td>\n",
              "      <td>Guadalajara</td>\n",
              "      <td>11.0</td>\n",
              "      <td>1</td>\n",
              "      <td>6</td>\n",
              "      <td>1</td>\n",
              "      <td>6</td>\n",
              "      <td>1</td>\n",
              "      <td>Castilla-La Mancha</td>\n",
              "      <td>Castilla-La Mancha</td>\n",
              "      <td>Albacete</td>\n",
              "      <td>Guadalajara</td>\n",
              "      <td>No</td>\n",
              "      <td>No</td>\n",
              "    </tr>\n",
              "  </tbody>\n",
              "</table>\n",
              "</div>\n",
              "      <button class=\"colab-df-convert\" onclick=\"convertToInteractive('df-432a98f3-a374-4413-ade9-3b77d1a9b1fc')\"\n",
              "              title=\"Convert this dataframe to an interactive table.\"\n",
              "              style=\"display:none;\">\n",
              "        \n",
              "  <svg xmlns=\"http://www.w3.org/2000/svg\" height=\"24px\"viewBox=\"0 0 24 24\"\n",
              "       width=\"24px\">\n",
              "    <path d=\"M0 0h24v24H0V0z\" fill=\"none\"/>\n",
              "    <path d=\"M18.56 5.44l.94 2.06.94-2.06 2.06-.94-2.06-.94-.94-2.06-.94 2.06-2.06.94zm-11 1L8.5 8.5l.94-2.06 2.06-.94-2.06-.94L8.5 2.5l-.94 2.06-2.06.94zm10 10l.94 2.06.94-2.06 2.06-.94-2.06-.94-.94-2.06-.94 2.06-2.06.94z\"/><path d=\"M17.41 7.96l-1.37-1.37c-.4-.4-.92-.59-1.43-.59-.52 0-1.04.2-1.43.59L10.3 9.45l-7.72 7.72c-.78.78-.78 2.05 0 2.83L4 21.41c.39.39.9.59 1.41.59.51 0 1.02-.2 1.41-.59l7.78-7.78 2.81-2.81c.8-.78.8-2.07 0-2.86zM5.41 20L4 18.59l7.72-7.72 1.47 1.35L5.41 20z\"/>\n",
              "  </svg>\n",
              "      </button>\n",
              "      \n",
              "  <style>\n",
              "    .colab-df-container {\n",
              "      display:flex;\n",
              "      flex-wrap:wrap;\n",
              "      gap: 12px;\n",
              "    }\n",
              "\n",
              "    .colab-df-convert {\n",
              "      background-color: #E8F0FE;\n",
              "      border: none;\n",
              "      border-radius: 50%;\n",
              "      cursor: pointer;\n",
              "      display: none;\n",
              "      fill: #1967D2;\n",
              "      height: 32px;\n",
              "      padding: 0 0 0 0;\n",
              "      width: 32px;\n",
              "    }\n",
              "\n",
              "    .colab-df-convert:hover {\n",
              "      background-color: #E2EBFA;\n",
              "      box-shadow: 0px 1px 2px rgba(60, 64, 67, 0.3), 0px 1px 3px 1px rgba(60, 64, 67, 0.15);\n",
              "      fill: #174EA6;\n",
              "    }\n",
              "\n",
              "    [theme=dark] .colab-df-convert {\n",
              "      background-color: #3B4455;\n",
              "      fill: #D2E3FC;\n",
              "    }\n",
              "\n",
              "    [theme=dark] .colab-df-convert:hover {\n",
              "      background-color: #434B5C;\n",
              "      box-shadow: 0px 1px 3px 1px rgba(0, 0, 0, 0.15);\n",
              "      filter: drop-shadow(0px 1px 2px rgba(0, 0, 0, 0.3));\n",
              "      fill: #FFFFFF;\n",
              "    }\n",
              "  </style>\n",
              "\n",
              "      <script>\n",
              "        const buttonEl =\n",
              "          document.querySelector('#df-432a98f3-a374-4413-ade9-3b77d1a9b1fc button.colab-df-convert');\n",
              "        buttonEl.style.display =\n",
              "          google.colab.kernel.accessAllowed ? 'block' : 'none';\n",
              "\n",
              "        async function convertToInteractive(key) {\n",
              "          const element = document.querySelector('#df-432a98f3-a374-4413-ade9-3b77d1a9b1fc');\n",
              "          const dataTable =\n",
              "            await google.colab.kernel.invokeFunction('convertToInteractive',\n",
              "                                                     [key], {});\n",
              "          if (!dataTable) return;\n",
              "\n",
              "          const docLinkHtml = 'Like what you see? Visit the ' +\n",
              "            '<a target=\"_blank\" href=https://colab.research.google.com/notebooks/data_table.ipynb>data table notebook</a>'\n",
              "            + ' to learn more about interactive tables.';\n",
              "          element.innerHTML = '';\n",
              "          dataTable['output_type'] = 'display_data';\n",
              "          await google.colab.output.renderOutput(dataTable, element);\n",
              "          const docLink = document.createElement('div');\n",
              "          docLink.innerHTML = docLinkHtml;\n",
              "          element.appendChild(docLink);\n",
              "        }\n",
              "      </script>\n",
              "    </div>\n",
              "  </div>\n",
              "  "
            ],
            "text/plain": [
              "   Unnamed: 0         DIA   AÑO  ...  PROVINCIA_DESTINO  INTERPROVINCIAL Festivo\n",
              "0      453525  2017-11-05  2017  ...        Guadalajara               No      No\n",
              "1      453526  2017-11-12  2017  ...        Guadalajara               No      No\n",
              "\n",
              "[2 rows x 20 columns]"
            ]
          },
          "metadata": {},
          "execution_count": 3
        }
      ]
    },
    {
      "cell_type": "code",
      "source": [
        "andalucia = pd.read_csv(\"/content/drive/MyDrive/Datos/df_andalucia.csv\") \n",
        "andalucia.head(2)"
      ],
      "metadata": {
        "colab": {
          "base_uri": "https://localhost:8080/",
          "height": 0
        },
        "id": "WrmOn4v8XAMG",
        "outputId": "207fa073-47e3-4f32-cf92-52ee0d39ab16"
      },
      "execution_count": 4,
      "outputs": [
        {
          "output_type": "execute_result",
          "data": {
            "text/html": [
              "\n",
              "  <div id=\"df-3cd4146c-3930-4357-8ffe-e96326550faf\">\n",
              "    <div class=\"colab-df-container\">\n",
              "      <div>\n",
              "<style scoped>\n",
              "    .dataframe tbody tr th:only-of-type {\n",
              "        vertical-align: middle;\n",
              "    }\n",
              "\n",
              "    .dataframe tbody tr th {\n",
              "        vertical-align: top;\n",
              "    }\n",
              "\n",
              "    .dataframe thead th {\n",
              "        text-align: right;\n",
              "    }\n",
              "</style>\n",
              "<table border=\"1\" class=\"dataframe\">\n",
              "  <thead>\n",
              "    <tr style=\"text-align: right;\">\n",
              "      <th></th>\n",
              "      <th>Unnamed: 0</th>\n",
              "      <th>DIA</th>\n",
              "      <th>AÑO</th>\n",
              "      <th>SEMANA</th>\n",
              "      <th>MES</th>\n",
              "      <th>PAIS</th>\n",
              "      <th>ORIGEN</th>\n",
              "      <th>DESTINO</th>\n",
              "      <th>ASIENTOS_OFERTADOS</th>\n",
              "      <th>ASIENTOS_CONFIRMADOS</th>\n",
              "      <th>VIAJES_OFERTADOS</th>\n",
              "      <th>VIAJES_CONFIRMADOS</th>\n",
              "      <th>OFERTANTES</th>\n",
              "      <th>OFERTANTES_NUEVOS</th>\n",
              "      <th>CA_ORIGEN</th>\n",
              "      <th>CA_DESTINO</th>\n",
              "      <th>PROVINCIA_ORIGEN</th>\n",
              "      <th>PROVINCIA_DESTINO</th>\n",
              "      <th>INTERPROVINCIAL</th>\n",
              "      <th>Festivo</th>\n",
              "    </tr>\n",
              "  </thead>\n",
              "  <tbody>\n",
              "    <tr>\n",
              "      <th>0</th>\n",
              "      <td>285649</td>\n",
              "      <td>2017-11-01</td>\n",
              "      <td>2017</td>\n",
              "      <td>44</td>\n",
              "      <td>11</td>\n",
              "      <td>es</td>\n",
              "      <td>Albox</td>\n",
              "      <td>Granada</td>\n",
              "      <td>1.0</td>\n",
              "      <td>1</td>\n",
              "      <td>1</td>\n",
              "      <td>1</td>\n",
              "      <td>1</td>\n",
              "      <td>0</td>\n",
              "      <td>Andalucía</td>\n",
              "      <td>Andalucía</td>\n",
              "      <td>Almería</td>\n",
              "      <td>Granada</td>\n",
              "      <td>No</td>\n",
              "      <td>Si</td>\n",
              "    </tr>\n",
              "    <tr>\n",
              "      <th>1</th>\n",
              "      <td>285650</td>\n",
              "      <td>2017-11-03</td>\n",
              "      <td>2017</td>\n",
              "      <td>44</td>\n",
              "      <td>11</td>\n",
              "      <td>es</td>\n",
              "      <td>Albox</td>\n",
              "      <td>Granada</td>\n",
              "      <td>12.0</td>\n",
              "      <td>1</td>\n",
              "      <td>4</td>\n",
              "      <td>1</td>\n",
              "      <td>4</td>\n",
              "      <td>0</td>\n",
              "      <td>Andalucía</td>\n",
              "      <td>Andalucía</td>\n",
              "      <td>Almería</td>\n",
              "      <td>Granada</td>\n",
              "      <td>No</td>\n",
              "      <td>No</td>\n",
              "    </tr>\n",
              "  </tbody>\n",
              "</table>\n",
              "</div>\n",
              "      <button class=\"colab-df-convert\" onclick=\"convertToInteractive('df-3cd4146c-3930-4357-8ffe-e96326550faf')\"\n",
              "              title=\"Convert this dataframe to an interactive table.\"\n",
              "              style=\"display:none;\">\n",
              "        \n",
              "  <svg xmlns=\"http://www.w3.org/2000/svg\" height=\"24px\"viewBox=\"0 0 24 24\"\n",
              "       width=\"24px\">\n",
              "    <path d=\"M0 0h24v24H0V0z\" fill=\"none\"/>\n",
              "    <path d=\"M18.56 5.44l.94 2.06.94-2.06 2.06-.94-2.06-.94-.94-2.06-.94 2.06-2.06.94zm-11 1L8.5 8.5l.94-2.06 2.06-.94-2.06-.94L8.5 2.5l-.94 2.06-2.06.94zm10 10l.94 2.06.94-2.06 2.06-.94-2.06-.94-.94-2.06-.94 2.06-2.06.94z\"/><path d=\"M17.41 7.96l-1.37-1.37c-.4-.4-.92-.59-1.43-.59-.52 0-1.04.2-1.43.59L10.3 9.45l-7.72 7.72c-.78.78-.78 2.05 0 2.83L4 21.41c.39.39.9.59 1.41.59.51 0 1.02-.2 1.41-.59l7.78-7.78 2.81-2.81c.8-.78.8-2.07 0-2.86zM5.41 20L4 18.59l7.72-7.72 1.47 1.35L5.41 20z\"/>\n",
              "  </svg>\n",
              "      </button>\n",
              "      \n",
              "  <style>\n",
              "    .colab-df-container {\n",
              "      display:flex;\n",
              "      flex-wrap:wrap;\n",
              "      gap: 12px;\n",
              "    }\n",
              "\n",
              "    .colab-df-convert {\n",
              "      background-color: #E8F0FE;\n",
              "      border: none;\n",
              "      border-radius: 50%;\n",
              "      cursor: pointer;\n",
              "      display: none;\n",
              "      fill: #1967D2;\n",
              "      height: 32px;\n",
              "      padding: 0 0 0 0;\n",
              "      width: 32px;\n",
              "    }\n",
              "\n",
              "    .colab-df-convert:hover {\n",
              "      background-color: #E2EBFA;\n",
              "      box-shadow: 0px 1px 2px rgba(60, 64, 67, 0.3), 0px 1px 3px 1px rgba(60, 64, 67, 0.15);\n",
              "      fill: #174EA6;\n",
              "    }\n",
              "\n",
              "    [theme=dark] .colab-df-convert {\n",
              "      background-color: #3B4455;\n",
              "      fill: #D2E3FC;\n",
              "    }\n",
              "\n",
              "    [theme=dark] .colab-df-convert:hover {\n",
              "      background-color: #434B5C;\n",
              "      box-shadow: 0px 1px 3px 1px rgba(0, 0, 0, 0.15);\n",
              "      filter: drop-shadow(0px 1px 2px rgba(0, 0, 0, 0.3));\n",
              "      fill: #FFFFFF;\n",
              "    }\n",
              "  </style>\n",
              "\n",
              "      <script>\n",
              "        const buttonEl =\n",
              "          document.querySelector('#df-3cd4146c-3930-4357-8ffe-e96326550faf button.colab-df-convert');\n",
              "        buttonEl.style.display =\n",
              "          google.colab.kernel.accessAllowed ? 'block' : 'none';\n",
              "\n",
              "        async function convertToInteractive(key) {\n",
              "          const element = document.querySelector('#df-3cd4146c-3930-4357-8ffe-e96326550faf');\n",
              "          const dataTable =\n",
              "            await google.colab.kernel.invokeFunction('convertToInteractive',\n",
              "                                                     [key], {});\n",
              "          if (!dataTable) return;\n",
              "\n",
              "          const docLinkHtml = 'Like what you see? Visit the ' +\n",
              "            '<a target=\"_blank\" href=https://colab.research.google.com/notebooks/data_table.ipynb>data table notebook</a>'\n",
              "            + ' to learn more about interactive tables.';\n",
              "          element.innerHTML = '';\n",
              "          dataTable['output_type'] = 'display_data';\n",
              "          await google.colab.output.renderOutput(dataTable, element);\n",
              "          const docLink = document.createElement('div');\n",
              "          docLink.innerHTML = docLinkHtml;\n",
              "          element.appendChild(docLink);\n",
              "        }\n",
              "      </script>\n",
              "    </div>\n",
              "  </div>\n",
              "  "
            ],
            "text/plain": [
              "   Unnamed: 0         DIA   AÑO  ...  PROVINCIA_DESTINO  INTERPROVINCIAL Festivo\n",
              "0      285649  2017-11-01  2017  ...            Granada               No      Si\n",
              "1      285650  2017-11-03  2017  ...            Granada               No      No\n",
              "\n",
              "[2 rows x 20 columns]"
            ]
          },
          "metadata": {},
          "execution_count": 4
        }
      ]
    },
    {
      "cell_type": "code",
      "source": [
        "clm = clm.drop(clm.columns[[0]], axis=1)\n",
        "andalucia = andalucia.drop(andalucia.columns[[0]], axis=1)"
      ],
      "metadata": {
        "id": "QasO1Za1XHs1"
      },
      "execution_count": 5,
      "outputs": []
    },
    {
      "cell_type": "markdown",
      "source": [
        "# Label Encoding\n",
        "\n",
        "En este apartado transformaremos las variables categóricas (no numéricas) que nos sean necesarias en variables numéricas.\n",
        "\n",
        "Por ejemplo, en este caso la columna de origen, destino e interprovincial pasarán a ser numéricas {Origen: 'Almansa':41, Destino: 'Puertollano':87, Interprovincial: 'Si':1}."
      ],
      "metadata": {
        "id": "gydhU1e4Xose"
      }
    },
    {
      "cell_type": "markdown",
      "source": [
        "## Castilla-la Mancha"
      ],
      "metadata": {
        "id": "k7im3xN9-ZN2"
      }
    },
    {
      "cell_type": "code",
      "source": [
        "clm_encoded = clm.copy()"
      ],
      "metadata": {
        "id": "j1q5Fqxh-ndT"
      },
      "execution_count": 6,
      "outputs": []
    },
    {
      "cell_type": "code",
      "source": [
        "clm_encoded['PROVINCIA_ORIGEN_E'] = clm['PROVINCIA_ORIGEN'].astype('category').cat.codes\n",
        "clm_encoded['PROVINCIA_DESTINO_E'] = clm['PROVINCIA_DESTINO'].astype('category').cat.codes\n",
        "clm_encoded['INTERPROVINCIAL_E'] = clm['INTERPROVINCIAL'].astype('category').cat.codes"
      ],
      "metadata": {
        "id": "mFX7s5wT-ndT"
      },
      "execution_count": 7,
      "outputs": []
    },
    {
      "cell_type": "code",
      "source": [
        "clm_encoded.tail(2)"
      ],
      "metadata": {
        "colab": {
          "base_uri": "https://localhost:8080/",
          "height": 0
        },
        "outputId": "c0caf3da-c1f1-4f10-8b67-50a424acb74f",
        "id": "M0m0QIas-ndT"
      },
      "execution_count": 8,
      "outputs": [
        {
          "output_type": "execute_result",
          "data": {
            "text/html": [
              "\n",
              "  <div id=\"df-a2ea6912-1632-461e-9f26-7d128f784d99\">\n",
              "    <div class=\"colab-df-container\">\n",
              "      <div>\n",
              "<style scoped>\n",
              "    .dataframe tbody tr th:only-of-type {\n",
              "        vertical-align: middle;\n",
              "    }\n",
              "\n",
              "    .dataframe tbody tr th {\n",
              "        vertical-align: top;\n",
              "    }\n",
              "\n",
              "    .dataframe thead th {\n",
              "        text-align: right;\n",
              "    }\n",
              "</style>\n",
              "<table border=\"1\" class=\"dataframe\">\n",
              "  <thead>\n",
              "    <tr style=\"text-align: right;\">\n",
              "      <th></th>\n",
              "      <th>DIA</th>\n",
              "      <th>AÑO</th>\n",
              "      <th>SEMANA</th>\n",
              "      <th>MES</th>\n",
              "      <th>PAIS</th>\n",
              "      <th>ORIGEN</th>\n",
              "      <th>DESTINO</th>\n",
              "      <th>ASIENTOS_OFERTADOS</th>\n",
              "      <th>ASIENTOS_CONFIRMADOS</th>\n",
              "      <th>VIAJES_OFERTADOS</th>\n",
              "      <th>VIAJES_CONFIRMADOS</th>\n",
              "      <th>OFERTANTES</th>\n",
              "      <th>OFERTANTES_NUEVOS</th>\n",
              "      <th>CA_ORIGEN</th>\n",
              "      <th>CA_DESTINO</th>\n",
              "      <th>PROVINCIA_ORIGEN</th>\n",
              "      <th>PROVINCIA_DESTINO</th>\n",
              "      <th>INTERPROVINCIAL</th>\n",
              "      <th>Festivo</th>\n",
              "      <th>PROVINCIA_ORIGEN_E</th>\n",
              "      <th>PROVINCIA_DESTINO_E</th>\n",
              "      <th>INTERPROVINCIAL_E</th>\n",
              "    </tr>\n",
              "  </thead>\n",
              "  <tbody>\n",
              "    <tr>\n",
              "      <th>20860</th>\n",
              "      <td>2018-07-14</td>\n",
              "      <td>2018</td>\n",
              "      <td>28</td>\n",
              "      <td>7</td>\n",
              "      <td>es</td>\n",
              "      <td>Guadalajara</td>\n",
              "      <td>Valdelcubo</td>\n",
              "      <td>3.0</td>\n",
              "      <td>1</td>\n",
              "      <td>1</td>\n",
              "      <td>1</td>\n",
              "      <td>1</td>\n",
              "      <td>0</td>\n",
              "      <td>Castilla-La Mancha</td>\n",
              "      <td>Castilla-La Mancha</td>\n",
              "      <td>Guadalajara</td>\n",
              "      <td>Guadalajara</td>\n",
              "      <td>Si</td>\n",
              "      <td>No</td>\n",
              "      <td>4</td>\n",
              "      <td>4</td>\n",
              "      <td>1</td>\n",
              "    </tr>\n",
              "    <tr>\n",
              "      <th>20861</th>\n",
              "      <td>2018-08-10</td>\n",
              "      <td>2018</td>\n",
              "      <td>32</td>\n",
              "      <td>8</td>\n",
              "      <td>es</td>\n",
              "      <td>Guadalajara</td>\n",
              "      <td>Cobeta</td>\n",
              "      <td>5.0</td>\n",
              "      <td>1</td>\n",
              "      <td>2</td>\n",
              "      <td>1</td>\n",
              "      <td>1</td>\n",
              "      <td>0</td>\n",
              "      <td>Castilla-La Mancha</td>\n",
              "      <td>Castilla-La Mancha</td>\n",
              "      <td>Guadalajara</td>\n",
              "      <td>Guadalajara</td>\n",
              "      <td>Si</td>\n",
              "      <td>No</td>\n",
              "      <td>4</td>\n",
              "      <td>4</td>\n",
              "      <td>1</td>\n",
              "    </tr>\n",
              "  </tbody>\n",
              "</table>\n",
              "</div>\n",
              "      <button class=\"colab-df-convert\" onclick=\"convertToInteractive('df-a2ea6912-1632-461e-9f26-7d128f784d99')\"\n",
              "              title=\"Convert this dataframe to an interactive table.\"\n",
              "              style=\"display:none;\">\n",
              "        \n",
              "  <svg xmlns=\"http://www.w3.org/2000/svg\" height=\"24px\"viewBox=\"0 0 24 24\"\n",
              "       width=\"24px\">\n",
              "    <path d=\"M0 0h24v24H0V0z\" fill=\"none\"/>\n",
              "    <path d=\"M18.56 5.44l.94 2.06.94-2.06 2.06-.94-2.06-.94-.94-2.06-.94 2.06-2.06.94zm-11 1L8.5 8.5l.94-2.06 2.06-.94-2.06-.94L8.5 2.5l-.94 2.06-2.06.94zm10 10l.94 2.06.94-2.06 2.06-.94-2.06-.94-.94-2.06-.94 2.06-2.06.94z\"/><path d=\"M17.41 7.96l-1.37-1.37c-.4-.4-.92-.59-1.43-.59-.52 0-1.04.2-1.43.59L10.3 9.45l-7.72 7.72c-.78.78-.78 2.05 0 2.83L4 21.41c.39.39.9.59 1.41.59.51 0 1.02-.2 1.41-.59l7.78-7.78 2.81-2.81c.8-.78.8-2.07 0-2.86zM5.41 20L4 18.59l7.72-7.72 1.47 1.35L5.41 20z\"/>\n",
              "  </svg>\n",
              "      </button>\n",
              "      \n",
              "  <style>\n",
              "    .colab-df-container {\n",
              "      display:flex;\n",
              "      flex-wrap:wrap;\n",
              "      gap: 12px;\n",
              "    }\n",
              "\n",
              "    .colab-df-convert {\n",
              "      background-color: #E8F0FE;\n",
              "      border: none;\n",
              "      border-radius: 50%;\n",
              "      cursor: pointer;\n",
              "      display: none;\n",
              "      fill: #1967D2;\n",
              "      height: 32px;\n",
              "      padding: 0 0 0 0;\n",
              "      width: 32px;\n",
              "    }\n",
              "\n",
              "    .colab-df-convert:hover {\n",
              "      background-color: #E2EBFA;\n",
              "      box-shadow: 0px 1px 2px rgba(60, 64, 67, 0.3), 0px 1px 3px 1px rgba(60, 64, 67, 0.15);\n",
              "      fill: #174EA6;\n",
              "    }\n",
              "\n",
              "    [theme=dark] .colab-df-convert {\n",
              "      background-color: #3B4455;\n",
              "      fill: #D2E3FC;\n",
              "    }\n",
              "\n",
              "    [theme=dark] .colab-df-convert:hover {\n",
              "      background-color: #434B5C;\n",
              "      box-shadow: 0px 1px 3px 1px rgba(0, 0, 0, 0.15);\n",
              "      filter: drop-shadow(0px 1px 2px rgba(0, 0, 0, 0.3));\n",
              "      fill: #FFFFFF;\n",
              "    }\n",
              "  </style>\n",
              "\n",
              "      <script>\n",
              "        const buttonEl =\n",
              "          document.querySelector('#df-a2ea6912-1632-461e-9f26-7d128f784d99 button.colab-df-convert');\n",
              "        buttonEl.style.display =\n",
              "          google.colab.kernel.accessAllowed ? 'block' : 'none';\n",
              "\n",
              "        async function convertToInteractive(key) {\n",
              "          const element = document.querySelector('#df-a2ea6912-1632-461e-9f26-7d128f784d99');\n",
              "          const dataTable =\n",
              "            await google.colab.kernel.invokeFunction('convertToInteractive',\n",
              "                                                     [key], {});\n",
              "          if (!dataTable) return;\n",
              "\n",
              "          const docLinkHtml = 'Like what you see? Visit the ' +\n",
              "            '<a target=\"_blank\" href=https://colab.research.google.com/notebooks/data_table.ipynb>data table notebook</a>'\n",
              "            + ' to learn more about interactive tables.';\n",
              "          element.innerHTML = '';\n",
              "          dataTable['output_type'] = 'display_data';\n",
              "          await google.colab.output.renderOutput(dataTable, element);\n",
              "          const docLink = document.createElement('div');\n",
              "          docLink.innerHTML = docLinkHtml;\n",
              "          element.appendChild(docLink);\n",
              "        }\n",
              "      </script>\n",
              "    </div>\n",
              "  </div>\n",
              "  "
            ],
            "text/plain": [
              "              DIA   AÑO  ...  PROVINCIA_DESTINO_E  INTERPROVINCIAL_E\n",
              "20860  2018-07-14  2018  ...                    4                  1\n",
              "20861  2018-08-10  2018  ...                    4                  1\n",
              "\n",
              "[2 rows x 22 columns]"
            ]
          },
          "metadata": {},
          "execution_count": 8
        }
      ]
    },
    {
      "cell_type": "code",
      "source": [
        "clm_encoded = clm_encoded.drop(labels=['CA_ORIGEN', 'CA_DESTINO', 'PROVINCIA_ORIGEN', 'PROVINCIA_DESTINO', 'INTERPROVINCIAL', 'PAIS'], axis=1)\n",
        "clm_encoded.head(2)"
      ],
      "metadata": {
        "id": "YRJJqT4m-ndU",
        "colab": {
          "base_uri": "https://localhost:8080/",
          "height": 0
        },
        "outputId": "81f62b6a-cd7f-445a-d649-962dbc60da62"
      },
      "execution_count": 9,
      "outputs": [
        {
          "output_type": "execute_result",
          "data": {
            "text/html": [
              "\n",
              "  <div id=\"df-f5b1ba30-d33d-4bfc-8848-1cd341d13a41\">\n",
              "    <div class=\"colab-df-container\">\n",
              "      <div>\n",
              "<style scoped>\n",
              "    .dataframe tbody tr th:only-of-type {\n",
              "        vertical-align: middle;\n",
              "    }\n",
              "\n",
              "    .dataframe tbody tr th {\n",
              "        vertical-align: top;\n",
              "    }\n",
              "\n",
              "    .dataframe thead th {\n",
              "        text-align: right;\n",
              "    }\n",
              "</style>\n",
              "<table border=\"1\" class=\"dataframe\">\n",
              "  <thead>\n",
              "    <tr style=\"text-align: right;\">\n",
              "      <th></th>\n",
              "      <th>DIA</th>\n",
              "      <th>AÑO</th>\n",
              "      <th>SEMANA</th>\n",
              "      <th>MES</th>\n",
              "      <th>ORIGEN</th>\n",
              "      <th>DESTINO</th>\n",
              "      <th>ASIENTOS_OFERTADOS</th>\n",
              "      <th>ASIENTOS_CONFIRMADOS</th>\n",
              "      <th>VIAJES_OFERTADOS</th>\n",
              "      <th>VIAJES_CONFIRMADOS</th>\n",
              "      <th>OFERTANTES</th>\n",
              "      <th>OFERTANTES_NUEVOS</th>\n",
              "      <th>Festivo</th>\n",
              "      <th>PROVINCIA_ORIGEN_E</th>\n",
              "      <th>PROVINCIA_DESTINO_E</th>\n",
              "      <th>INTERPROVINCIAL_E</th>\n",
              "    </tr>\n",
              "  </thead>\n",
              "  <tbody>\n",
              "    <tr>\n",
              "      <th>0</th>\n",
              "      <td>2017-11-05</td>\n",
              "      <td>2017</td>\n",
              "      <td>44</td>\n",
              "      <td>11</td>\n",
              "      <td>Albacete</td>\n",
              "      <td>Guadalajara</td>\n",
              "      <td>11.0</td>\n",
              "      <td>1</td>\n",
              "      <td>6</td>\n",
              "      <td>1</td>\n",
              "      <td>6</td>\n",
              "      <td>1</td>\n",
              "      <td>No</td>\n",
              "      <td>0</td>\n",
              "      <td>4</td>\n",
              "      <td>0</td>\n",
              "    </tr>\n",
              "    <tr>\n",
              "      <th>1</th>\n",
              "      <td>2017-11-12</td>\n",
              "      <td>2017</td>\n",
              "      <td>45</td>\n",
              "      <td>11</td>\n",
              "      <td>Albacete</td>\n",
              "      <td>Guadalajara</td>\n",
              "      <td>11.0</td>\n",
              "      <td>1</td>\n",
              "      <td>6</td>\n",
              "      <td>1</td>\n",
              "      <td>6</td>\n",
              "      <td>1</td>\n",
              "      <td>No</td>\n",
              "      <td>0</td>\n",
              "      <td>4</td>\n",
              "      <td>0</td>\n",
              "    </tr>\n",
              "  </tbody>\n",
              "</table>\n",
              "</div>\n",
              "      <button class=\"colab-df-convert\" onclick=\"convertToInteractive('df-f5b1ba30-d33d-4bfc-8848-1cd341d13a41')\"\n",
              "              title=\"Convert this dataframe to an interactive table.\"\n",
              "              style=\"display:none;\">\n",
              "        \n",
              "  <svg xmlns=\"http://www.w3.org/2000/svg\" height=\"24px\"viewBox=\"0 0 24 24\"\n",
              "       width=\"24px\">\n",
              "    <path d=\"M0 0h24v24H0V0z\" fill=\"none\"/>\n",
              "    <path d=\"M18.56 5.44l.94 2.06.94-2.06 2.06-.94-2.06-.94-.94-2.06-.94 2.06-2.06.94zm-11 1L8.5 8.5l.94-2.06 2.06-.94-2.06-.94L8.5 2.5l-.94 2.06-2.06.94zm10 10l.94 2.06.94-2.06 2.06-.94-2.06-.94-.94-2.06-.94 2.06-2.06.94z\"/><path d=\"M17.41 7.96l-1.37-1.37c-.4-.4-.92-.59-1.43-.59-.52 0-1.04.2-1.43.59L10.3 9.45l-7.72 7.72c-.78.78-.78 2.05 0 2.83L4 21.41c.39.39.9.59 1.41.59.51 0 1.02-.2 1.41-.59l7.78-7.78 2.81-2.81c.8-.78.8-2.07 0-2.86zM5.41 20L4 18.59l7.72-7.72 1.47 1.35L5.41 20z\"/>\n",
              "  </svg>\n",
              "      </button>\n",
              "      \n",
              "  <style>\n",
              "    .colab-df-container {\n",
              "      display:flex;\n",
              "      flex-wrap:wrap;\n",
              "      gap: 12px;\n",
              "    }\n",
              "\n",
              "    .colab-df-convert {\n",
              "      background-color: #E8F0FE;\n",
              "      border: none;\n",
              "      border-radius: 50%;\n",
              "      cursor: pointer;\n",
              "      display: none;\n",
              "      fill: #1967D2;\n",
              "      height: 32px;\n",
              "      padding: 0 0 0 0;\n",
              "      width: 32px;\n",
              "    }\n",
              "\n",
              "    .colab-df-convert:hover {\n",
              "      background-color: #E2EBFA;\n",
              "      box-shadow: 0px 1px 2px rgba(60, 64, 67, 0.3), 0px 1px 3px 1px rgba(60, 64, 67, 0.15);\n",
              "      fill: #174EA6;\n",
              "    }\n",
              "\n",
              "    [theme=dark] .colab-df-convert {\n",
              "      background-color: #3B4455;\n",
              "      fill: #D2E3FC;\n",
              "    }\n",
              "\n",
              "    [theme=dark] .colab-df-convert:hover {\n",
              "      background-color: #434B5C;\n",
              "      box-shadow: 0px 1px 3px 1px rgba(0, 0, 0, 0.15);\n",
              "      filter: drop-shadow(0px 1px 2px rgba(0, 0, 0, 0.3));\n",
              "      fill: #FFFFFF;\n",
              "    }\n",
              "  </style>\n",
              "\n",
              "      <script>\n",
              "        const buttonEl =\n",
              "          document.querySelector('#df-f5b1ba30-d33d-4bfc-8848-1cd341d13a41 button.colab-df-convert');\n",
              "        buttonEl.style.display =\n",
              "          google.colab.kernel.accessAllowed ? 'block' : 'none';\n",
              "\n",
              "        async function convertToInteractive(key) {\n",
              "          const element = document.querySelector('#df-f5b1ba30-d33d-4bfc-8848-1cd341d13a41');\n",
              "          const dataTable =\n",
              "            await google.colab.kernel.invokeFunction('convertToInteractive',\n",
              "                                                     [key], {});\n",
              "          if (!dataTable) return;\n",
              "\n",
              "          const docLinkHtml = 'Like what you see? Visit the ' +\n",
              "            '<a target=\"_blank\" href=https://colab.research.google.com/notebooks/data_table.ipynb>data table notebook</a>'\n",
              "            + ' to learn more about interactive tables.';\n",
              "          element.innerHTML = '';\n",
              "          dataTable['output_type'] = 'display_data';\n",
              "          await google.colab.output.renderOutput(dataTable, element);\n",
              "          const docLink = document.createElement('div');\n",
              "          docLink.innerHTML = docLinkHtml;\n",
              "          element.appendChild(docLink);\n",
              "        }\n",
              "      </script>\n",
              "    </div>\n",
              "  </div>\n",
              "  "
            ],
            "text/plain": [
              "          DIA   AÑO  ...  PROVINCIA_DESTINO_E  INTERPROVINCIAL_E\n",
              "0  2017-11-05  2017  ...                    4                  0\n",
              "1  2017-11-12  2017  ...                    4                  0\n",
              "\n",
              "[2 rows x 16 columns]"
            ]
          },
          "metadata": {},
          "execution_count": 9
        }
      ]
    },
    {
      "cell_type": "code",
      "source": [
        "clm_encoded = clm_encoded.rename(columns={'CA_ORIGEN_E':'CA_ORIGEN', 'CA_DESTINO_E': 'CA_DESTINO','PROVINCIA_ORIGEN_E': 'PROVINCIA_ORIGEN','PROVINCIA_DESTINO_E': 'PROVINCIA_DESTINO','INTERPROVINCIAL_E': 'INTERPROVINCIAL'})"
      ],
      "metadata": {
        "id": "eZkKvYqf-ndU"
      },
      "execution_count": 10,
      "outputs": []
    },
    {
      "cell_type": "code",
      "source": [
        "clm_encoded.head(2)"
      ],
      "metadata": {
        "colab": {
          "base_uri": "https://localhost:8080/",
          "height": 0
        },
        "outputId": "3da408eb-5ea8-45f3-ad0e-e9a5b07d7f18",
        "id": "aZzh5XjP-ndU"
      },
      "execution_count": 11,
      "outputs": [
        {
          "output_type": "execute_result",
          "data": {
            "text/html": [
              "\n",
              "  <div id=\"df-6948d63c-6d84-44c8-8fac-6836f9e774d3\">\n",
              "    <div class=\"colab-df-container\">\n",
              "      <div>\n",
              "<style scoped>\n",
              "    .dataframe tbody tr th:only-of-type {\n",
              "        vertical-align: middle;\n",
              "    }\n",
              "\n",
              "    .dataframe tbody tr th {\n",
              "        vertical-align: top;\n",
              "    }\n",
              "\n",
              "    .dataframe thead th {\n",
              "        text-align: right;\n",
              "    }\n",
              "</style>\n",
              "<table border=\"1\" class=\"dataframe\">\n",
              "  <thead>\n",
              "    <tr style=\"text-align: right;\">\n",
              "      <th></th>\n",
              "      <th>DIA</th>\n",
              "      <th>AÑO</th>\n",
              "      <th>SEMANA</th>\n",
              "      <th>MES</th>\n",
              "      <th>ORIGEN</th>\n",
              "      <th>DESTINO</th>\n",
              "      <th>ASIENTOS_OFERTADOS</th>\n",
              "      <th>ASIENTOS_CONFIRMADOS</th>\n",
              "      <th>VIAJES_OFERTADOS</th>\n",
              "      <th>VIAJES_CONFIRMADOS</th>\n",
              "      <th>OFERTANTES</th>\n",
              "      <th>OFERTANTES_NUEVOS</th>\n",
              "      <th>Festivo</th>\n",
              "      <th>PROVINCIA_ORIGEN</th>\n",
              "      <th>PROVINCIA_DESTINO</th>\n",
              "      <th>INTERPROVINCIAL</th>\n",
              "    </tr>\n",
              "  </thead>\n",
              "  <tbody>\n",
              "    <tr>\n",
              "      <th>0</th>\n",
              "      <td>2017-11-05</td>\n",
              "      <td>2017</td>\n",
              "      <td>44</td>\n",
              "      <td>11</td>\n",
              "      <td>Albacete</td>\n",
              "      <td>Guadalajara</td>\n",
              "      <td>11.0</td>\n",
              "      <td>1</td>\n",
              "      <td>6</td>\n",
              "      <td>1</td>\n",
              "      <td>6</td>\n",
              "      <td>1</td>\n",
              "      <td>No</td>\n",
              "      <td>0</td>\n",
              "      <td>4</td>\n",
              "      <td>0</td>\n",
              "    </tr>\n",
              "    <tr>\n",
              "      <th>1</th>\n",
              "      <td>2017-11-12</td>\n",
              "      <td>2017</td>\n",
              "      <td>45</td>\n",
              "      <td>11</td>\n",
              "      <td>Albacete</td>\n",
              "      <td>Guadalajara</td>\n",
              "      <td>11.0</td>\n",
              "      <td>1</td>\n",
              "      <td>6</td>\n",
              "      <td>1</td>\n",
              "      <td>6</td>\n",
              "      <td>1</td>\n",
              "      <td>No</td>\n",
              "      <td>0</td>\n",
              "      <td>4</td>\n",
              "      <td>0</td>\n",
              "    </tr>\n",
              "  </tbody>\n",
              "</table>\n",
              "</div>\n",
              "      <button class=\"colab-df-convert\" onclick=\"convertToInteractive('df-6948d63c-6d84-44c8-8fac-6836f9e774d3')\"\n",
              "              title=\"Convert this dataframe to an interactive table.\"\n",
              "              style=\"display:none;\">\n",
              "        \n",
              "  <svg xmlns=\"http://www.w3.org/2000/svg\" height=\"24px\"viewBox=\"0 0 24 24\"\n",
              "       width=\"24px\">\n",
              "    <path d=\"M0 0h24v24H0V0z\" fill=\"none\"/>\n",
              "    <path d=\"M18.56 5.44l.94 2.06.94-2.06 2.06-.94-2.06-.94-.94-2.06-.94 2.06-2.06.94zm-11 1L8.5 8.5l.94-2.06 2.06-.94-2.06-.94L8.5 2.5l-.94 2.06-2.06.94zm10 10l.94 2.06.94-2.06 2.06-.94-2.06-.94-.94-2.06-.94 2.06-2.06.94z\"/><path d=\"M17.41 7.96l-1.37-1.37c-.4-.4-.92-.59-1.43-.59-.52 0-1.04.2-1.43.59L10.3 9.45l-7.72 7.72c-.78.78-.78 2.05 0 2.83L4 21.41c.39.39.9.59 1.41.59.51 0 1.02-.2 1.41-.59l7.78-7.78 2.81-2.81c.8-.78.8-2.07 0-2.86zM5.41 20L4 18.59l7.72-7.72 1.47 1.35L5.41 20z\"/>\n",
              "  </svg>\n",
              "      </button>\n",
              "      \n",
              "  <style>\n",
              "    .colab-df-container {\n",
              "      display:flex;\n",
              "      flex-wrap:wrap;\n",
              "      gap: 12px;\n",
              "    }\n",
              "\n",
              "    .colab-df-convert {\n",
              "      background-color: #E8F0FE;\n",
              "      border: none;\n",
              "      border-radius: 50%;\n",
              "      cursor: pointer;\n",
              "      display: none;\n",
              "      fill: #1967D2;\n",
              "      height: 32px;\n",
              "      padding: 0 0 0 0;\n",
              "      width: 32px;\n",
              "    }\n",
              "\n",
              "    .colab-df-convert:hover {\n",
              "      background-color: #E2EBFA;\n",
              "      box-shadow: 0px 1px 2px rgba(60, 64, 67, 0.3), 0px 1px 3px 1px rgba(60, 64, 67, 0.15);\n",
              "      fill: #174EA6;\n",
              "    }\n",
              "\n",
              "    [theme=dark] .colab-df-convert {\n",
              "      background-color: #3B4455;\n",
              "      fill: #D2E3FC;\n",
              "    }\n",
              "\n",
              "    [theme=dark] .colab-df-convert:hover {\n",
              "      background-color: #434B5C;\n",
              "      box-shadow: 0px 1px 3px 1px rgba(0, 0, 0, 0.15);\n",
              "      filter: drop-shadow(0px 1px 2px rgba(0, 0, 0, 0.3));\n",
              "      fill: #FFFFFF;\n",
              "    }\n",
              "  </style>\n",
              "\n",
              "      <script>\n",
              "        const buttonEl =\n",
              "          document.querySelector('#df-6948d63c-6d84-44c8-8fac-6836f9e774d3 button.colab-df-convert');\n",
              "        buttonEl.style.display =\n",
              "          google.colab.kernel.accessAllowed ? 'block' : 'none';\n",
              "\n",
              "        async function convertToInteractive(key) {\n",
              "          const element = document.querySelector('#df-6948d63c-6d84-44c8-8fac-6836f9e774d3');\n",
              "          const dataTable =\n",
              "            await google.colab.kernel.invokeFunction('convertToInteractive',\n",
              "                                                     [key], {});\n",
              "          if (!dataTable) return;\n",
              "\n",
              "          const docLinkHtml = 'Like what you see? Visit the ' +\n",
              "            '<a target=\"_blank\" href=https://colab.research.google.com/notebooks/data_table.ipynb>data table notebook</a>'\n",
              "            + ' to learn more about interactive tables.';\n",
              "          element.innerHTML = '';\n",
              "          dataTable['output_type'] = 'display_data';\n",
              "          await google.colab.output.renderOutput(dataTable, element);\n",
              "          const docLink = document.createElement('div');\n",
              "          docLink.innerHTML = docLinkHtml;\n",
              "          element.appendChild(docLink);\n",
              "        }\n",
              "      </script>\n",
              "    </div>\n",
              "  </div>\n",
              "  "
            ],
            "text/plain": [
              "          DIA   AÑO  ...  PROVINCIA_DESTINO  INTERPROVINCIAL\n",
              "0  2017-11-05  2017  ...                  4                0\n",
              "1  2017-11-12  2017  ...                  4                0\n",
              "\n",
              "[2 rows x 16 columns]"
            ]
          },
          "metadata": {},
          "execution_count": 11
        }
      ]
    },
    {
      "cell_type": "markdown",
      "source": [
        "## Andalucía"
      ],
      "metadata": {
        "id": "ZRY2FLVR-VXg"
      }
    },
    {
      "cell_type": "code",
      "source": [
        "andalucia_encoded = andalucia.copy()"
      ],
      "metadata": {
        "id": "akQ7vtdmXrUd"
      },
      "execution_count": 12,
      "outputs": []
    },
    {
      "cell_type": "code",
      "source": [
        "andalucia_encoded['PROVINCIA_ORIGEN_E'] = andalucia['PROVINCIA_ORIGEN'].astype('category').cat.codes\n",
        "andalucia_encoded['PROVINCIA_DESTINO_E'] = andalucia['PROVINCIA_DESTINO'].astype('category').cat.codes\n",
        "andalucia_encoded['INTERPROVINCIAL_E'] = andalucia['INTERPROVINCIAL'].astype('category').cat.codes"
      ],
      "metadata": {
        "id": "nwefUwq8X0X8"
      },
      "execution_count": 13,
      "outputs": []
    },
    {
      "cell_type": "code",
      "source": [
        "andalucia_encoded.tail(2)"
      ],
      "metadata": {
        "colab": {
          "base_uri": "https://localhost:8080/",
          "height": 0
        },
        "id": "1voYzUqwX12U",
        "outputId": "3a149ea6-1f81-415a-b6db-51e9bda5ab44"
      },
      "execution_count": 14,
      "outputs": [
        {
          "output_type": "execute_result",
          "data": {
            "text/html": [
              "\n",
              "  <div id=\"df-05a367df-f28b-4dd8-953f-df5c8cf6e81b\">\n",
              "    <div class=\"colab-df-container\">\n",
              "      <div>\n",
              "<style scoped>\n",
              "    .dataframe tbody tr th:only-of-type {\n",
              "        vertical-align: middle;\n",
              "    }\n",
              "\n",
              "    .dataframe tbody tr th {\n",
              "        vertical-align: top;\n",
              "    }\n",
              "\n",
              "    .dataframe thead th {\n",
              "        text-align: right;\n",
              "    }\n",
              "</style>\n",
              "<table border=\"1\" class=\"dataframe\">\n",
              "  <thead>\n",
              "    <tr style=\"text-align: right;\">\n",
              "      <th></th>\n",
              "      <th>DIA</th>\n",
              "      <th>AÑO</th>\n",
              "      <th>SEMANA</th>\n",
              "      <th>MES</th>\n",
              "      <th>PAIS</th>\n",
              "      <th>ORIGEN</th>\n",
              "      <th>DESTINO</th>\n",
              "      <th>ASIENTOS_OFERTADOS</th>\n",
              "      <th>ASIENTOS_CONFIRMADOS</th>\n",
              "      <th>VIAJES_OFERTADOS</th>\n",
              "      <th>VIAJES_CONFIRMADOS</th>\n",
              "      <th>OFERTANTES</th>\n",
              "      <th>OFERTANTES_NUEVOS</th>\n",
              "      <th>CA_ORIGEN</th>\n",
              "      <th>CA_DESTINO</th>\n",
              "      <th>PROVINCIA_ORIGEN</th>\n",
              "      <th>PROVINCIA_DESTINO</th>\n",
              "      <th>INTERPROVINCIAL</th>\n",
              "      <th>Festivo</th>\n",
              "      <th>PROVINCIA_ORIGEN_E</th>\n",
              "      <th>PROVINCIA_DESTINO_E</th>\n",
              "      <th>INTERPROVINCIAL_E</th>\n",
              "    </tr>\n",
              "  </thead>\n",
              "  <tbody>\n",
              "    <tr>\n",
              "      <th>246053</th>\n",
              "      <td>2018-06-08</td>\n",
              "      <td>2018</td>\n",
              "      <td>23</td>\n",
              "      <td>6</td>\n",
              "      <td>es</td>\n",
              "      <td>Mairena del Aljarafe</td>\n",
              "      <td>Corteconcepción</td>\n",
              "      <td>3.0</td>\n",
              "      <td>2</td>\n",
              "      <td>1</td>\n",
              "      <td>1</td>\n",
              "      <td>1</td>\n",
              "      <td>1</td>\n",
              "      <td>Andalucía</td>\n",
              "      <td>Andalucía</td>\n",
              "      <td>Sevilla</td>\n",
              "      <td>Huelva</td>\n",
              "      <td>No</td>\n",
              "      <td>No</td>\n",
              "      <td>8</td>\n",
              "      <td>4</td>\n",
              "      <td>0</td>\n",
              "    </tr>\n",
              "    <tr>\n",
              "      <th>246054</th>\n",
              "      <td>2018-07-06</td>\n",
              "      <td>2018</td>\n",
              "      <td>27</td>\n",
              "      <td>7</td>\n",
              "      <td>es</td>\n",
              "      <td>Tomares</td>\n",
              "      <td>Algámitas</td>\n",
              "      <td>4.0</td>\n",
              "      <td>1</td>\n",
              "      <td>1</td>\n",
              "      <td>1</td>\n",
              "      <td>1</td>\n",
              "      <td>0</td>\n",
              "      <td>Andalucía</td>\n",
              "      <td>Andalucía</td>\n",
              "      <td>Sevilla</td>\n",
              "      <td>Sevilla</td>\n",
              "      <td>Si</td>\n",
              "      <td>No</td>\n",
              "      <td>8</td>\n",
              "      <td>8</td>\n",
              "      <td>1</td>\n",
              "    </tr>\n",
              "  </tbody>\n",
              "</table>\n",
              "</div>\n",
              "      <button class=\"colab-df-convert\" onclick=\"convertToInteractive('df-05a367df-f28b-4dd8-953f-df5c8cf6e81b')\"\n",
              "              title=\"Convert this dataframe to an interactive table.\"\n",
              "              style=\"display:none;\">\n",
              "        \n",
              "  <svg xmlns=\"http://www.w3.org/2000/svg\" height=\"24px\"viewBox=\"0 0 24 24\"\n",
              "       width=\"24px\">\n",
              "    <path d=\"M0 0h24v24H0V0z\" fill=\"none\"/>\n",
              "    <path d=\"M18.56 5.44l.94 2.06.94-2.06 2.06-.94-2.06-.94-.94-2.06-.94 2.06-2.06.94zm-11 1L8.5 8.5l.94-2.06 2.06-.94-2.06-.94L8.5 2.5l-.94 2.06-2.06.94zm10 10l.94 2.06.94-2.06 2.06-.94-2.06-.94-.94-2.06-.94 2.06-2.06.94z\"/><path d=\"M17.41 7.96l-1.37-1.37c-.4-.4-.92-.59-1.43-.59-.52 0-1.04.2-1.43.59L10.3 9.45l-7.72 7.72c-.78.78-.78 2.05 0 2.83L4 21.41c.39.39.9.59 1.41.59.51 0 1.02-.2 1.41-.59l7.78-7.78 2.81-2.81c.8-.78.8-2.07 0-2.86zM5.41 20L4 18.59l7.72-7.72 1.47 1.35L5.41 20z\"/>\n",
              "  </svg>\n",
              "      </button>\n",
              "      \n",
              "  <style>\n",
              "    .colab-df-container {\n",
              "      display:flex;\n",
              "      flex-wrap:wrap;\n",
              "      gap: 12px;\n",
              "    }\n",
              "\n",
              "    .colab-df-convert {\n",
              "      background-color: #E8F0FE;\n",
              "      border: none;\n",
              "      border-radius: 50%;\n",
              "      cursor: pointer;\n",
              "      display: none;\n",
              "      fill: #1967D2;\n",
              "      height: 32px;\n",
              "      padding: 0 0 0 0;\n",
              "      width: 32px;\n",
              "    }\n",
              "\n",
              "    .colab-df-convert:hover {\n",
              "      background-color: #E2EBFA;\n",
              "      box-shadow: 0px 1px 2px rgba(60, 64, 67, 0.3), 0px 1px 3px 1px rgba(60, 64, 67, 0.15);\n",
              "      fill: #174EA6;\n",
              "    }\n",
              "\n",
              "    [theme=dark] .colab-df-convert {\n",
              "      background-color: #3B4455;\n",
              "      fill: #D2E3FC;\n",
              "    }\n",
              "\n",
              "    [theme=dark] .colab-df-convert:hover {\n",
              "      background-color: #434B5C;\n",
              "      box-shadow: 0px 1px 3px 1px rgba(0, 0, 0, 0.15);\n",
              "      filter: drop-shadow(0px 1px 2px rgba(0, 0, 0, 0.3));\n",
              "      fill: #FFFFFF;\n",
              "    }\n",
              "  </style>\n",
              "\n",
              "      <script>\n",
              "        const buttonEl =\n",
              "          document.querySelector('#df-05a367df-f28b-4dd8-953f-df5c8cf6e81b button.colab-df-convert');\n",
              "        buttonEl.style.display =\n",
              "          google.colab.kernel.accessAllowed ? 'block' : 'none';\n",
              "\n",
              "        async function convertToInteractive(key) {\n",
              "          const element = document.querySelector('#df-05a367df-f28b-4dd8-953f-df5c8cf6e81b');\n",
              "          const dataTable =\n",
              "            await google.colab.kernel.invokeFunction('convertToInteractive',\n",
              "                                                     [key], {});\n",
              "          if (!dataTable) return;\n",
              "\n",
              "          const docLinkHtml = 'Like what you see? Visit the ' +\n",
              "            '<a target=\"_blank\" href=https://colab.research.google.com/notebooks/data_table.ipynb>data table notebook</a>'\n",
              "            + ' to learn more about interactive tables.';\n",
              "          element.innerHTML = '';\n",
              "          dataTable['output_type'] = 'display_data';\n",
              "          await google.colab.output.renderOutput(dataTable, element);\n",
              "          const docLink = document.createElement('div');\n",
              "          docLink.innerHTML = docLinkHtml;\n",
              "          element.appendChild(docLink);\n",
              "        }\n",
              "      </script>\n",
              "    </div>\n",
              "  </div>\n",
              "  "
            ],
            "text/plain": [
              "               DIA   AÑO  ...  PROVINCIA_DESTINO_E  INTERPROVINCIAL_E\n",
              "246053  2018-06-08  2018  ...                    4                  0\n",
              "246054  2018-07-06  2018  ...                    8                  1\n",
              "\n",
              "[2 rows x 22 columns]"
            ]
          },
          "metadata": {},
          "execution_count": 14
        }
      ]
    },
    {
      "cell_type": "code",
      "source": [
        "andalucia_encoded = andalucia_encoded.drop(labels=['CA_ORIGEN', 'CA_DESTINO', 'PROVINCIA_ORIGEN', 'PROVINCIA_DESTINO', 'INTERPROVINCIAL', 'PAIS'], axis=1)"
      ],
      "metadata": {
        "id": "qyoJ_p35X6Gc"
      },
      "execution_count": 15,
      "outputs": []
    },
    {
      "cell_type": "code",
      "source": [
        "andalucia_encoded = andalucia_encoded.rename(columns={'PROVINCIA_ORIGEN_E': 'PROVINCIA_ORIGEN','PROVINCIA_DESTINO_E': 'PROVINCIA_DESTINO','INTERPROVINCIAL_E': 'INTERPROVINCIAL'})"
      ],
      "metadata": {
        "id": "tpHUP99VYE_D"
      },
      "execution_count": 16,
      "outputs": []
    },
    {
      "cell_type": "code",
      "source": [
        "andalucia_encoded.head(2)"
      ],
      "metadata": {
        "colab": {
          "base_uri": "https://localhost:8080/",
          "height": 0
        },
        "id": "hOCVAbD3YGXj",
        "outputId": "b807bece-8d7e-4638-c0d2-482662b85a52"
      },
      "execution_count": 17,
      "outputs": [
        {
          "output_type": "execute_result",
          "data": {
            "text/html": [
              "\n",
              "  <div id=\"df-475afb1b-71e5-43f7-ac4f-379329c45a38\">\n",
              "    <div class=\"colab-df-container\">\n",
              "      <div>\n",
              "<style scoped>\n",
              "    .dataframe tbody tr th:only-of-type {\n",
              "        vertical-align: middle;\n",
              "    }\n",
              "\n",
              "    .dataframe tbody tr th {\n",
              "        vertical-align: top;\n",
              "    }\n",
              "\n",
              "    .dataframe thead th {\n",
              "        text-align: right;\n",
              "    }\n",
              "</style>\n",
              "<table border=\"1\" class=\"dataframe\">\n",
              "  <thead>\n",
              "    <tr style=\"text-align: right;\">\n",
              "      <th></th>\n",
              "      <th>DIA</th>\n",
              "      <th>AÑO</th>\n",
              "      <th>SEMANA</th>\n",
              "      <th>MES</th>\n",
              "      <th>ORIGEN</th>\n",
              "      <th>DESTINO</th>\n",
              "      <th>ASIENTOS_OFERTADOS</th>\n",
              "      <th>ASIENTOS_CONFIRMADOS</th>\n",
              "      <th>VIAJES_OFERTADOS</th>\n",
              "      <th>VIAJES_CONFIRMADOS</th>\n",
              "      <th>OFERTANTES</th>\n",
              "      <th>OFERTANTES_NUEVOS</th>\n",
              "      <th>Festivo</th>\n",
              "      <th>PROVINCIA_ORIGEN</th>\n",
              "      <th>PROVINCIA_DESTINO</th>\n",
              "      <th>INTERPROVINCIAL</th>\n",
              "    </tr>\n",
              "  </thead>\n",
              "  <tbody>\n",
              "    <tr>\n",
              "      <th>0</th>\n",
              "      <td>2017-11-01</td>\n",
              "      <td>2017</td>\n",
              "      <td>44</td>\n",
              "      <td>11</td>\n",
              "      <td>Albox</td>\n",
              "      <td>Granada</td>\n",
              "      <td>1.0</td>\n",
              "      <td>1</td>\n",
              "      <td>1</td>\n",
              "      <td>1</td>\n",
              "      <td>1</td>\n",
              "      <td>0</td>\n",
              "      <td>Si</td>\n",
              "      <td>0</td>\n",
              "      <td>3</td>\n",
              "      <td>0</td>\n",
              "    </tr>\n",
              "    <tr>\n",
              "      <th>1</th>\n",
              "      <td>2017-11-03</td>\n",
              "      <td>2017</td>\n",
              "      <td>44</td>\n",
              "      <td>11</td>\n",
              "      <td>Albox</td>\n",
              "      <td>Granada</td>\n",
              "      <td>12.0</td>\n",
              "      <td>1</td>\n",
              "      <td>4</td>\n",
              "      <td>1</td>\n",
              "      <td>4</td>\n",
              "      <td>0</td>\n",
              "      <td>No</td>\n",
              "      <td>0</td>\n",
              "      <td>3</td>\n",
              "      <td>0</td>\n",
              "    </tr>\n",
              "  </tbody>\n",
              "</table>\n",
              "</div>\n",
              "      <button class=\"colab-df-convert\" onclick=\"convertToInteractive('df-475afb1b-71e5-43f7-ac4f-379329c45a38')\"\n",
              "              title=\"Convert this dataframe to an interactive table.\"\n",
              "              style=\"display:none;\">\n",
              "        \n",
              "  <svg xmlns=\"http://www.w3.org/2000/svg\" height=\"24px\"viewBox=\"0 0 24 24\"\n",
              "       width=\"24px\">\n",
              "    <path d=\"M0 0h24v24H0V0z\" fill=\"none\"/>\n",
              "    <path d=\"M18.56 5.44l.94 2.06.94-2.06 2.06-.94-2.06-.94-.94-2.06-.94 2.06-2.06.94zm-11 1L8.5 8.5l.94-2.06 2.06-.94-2.06-.94L8.5 2.5l-.94 2.06-2.06.94zm10 10l.94 2.06.94-2.06 2.06-.94-2.06-.94-.94-2.06-.94 2.06-2.06.94z\"/><path d=\"M17.41 7.96l-1.37-1.37c-.4-.4-.92-.59-1.43-.59-.52 0-1.04.2-1.43.59L10.3 9.45l-7.72 7.72c-.78.78-.78 2.05 0 2.83L4 21.41c.39.39.9.59 1.41.59.51 0 1.02-.2 1.41-.59l7.78-7.78 2.81-2.81c.8-.78.8-2.07 0-2.86zM5.41 20L4 18.59l7.72-7.72 1.47 1.35L5.41 20z\"/>\n",
              "  </svg>\n",
              "      </button>\n",
              "      \n",
              "  <style>\n",
              "    .colab-df-container {\n",
              "      display:flex;\n",
              "      flex-wrap:wrap;\n",
              "      gap: 12px;\n",
              "    }\n",
              "\n",
              "    .colab-df-convert {\n",
              "      background-color: #E8F0FE;\n",
              "      border: none;\n",
              "      border-radius: 50%;\n",
              "      cursor: pointer;\n",
              "      display: none;\n",
              "      fill: #1967D2;\n",
              "      height: 32px;\n",
              "      padding: 0 0 0 0;\n",
              "      width: 32px;\n",
              "    }\n",
              "\n",
              "    .colab-df-convert:hover {\n",
              "      background-color: #E2EBFA;\n",
              "      box-shadow: 0px 1px 2px rgba(60, 64, 67, 0.3), 0px 1px 3px 1px rgba(60, 64, 67, 0.15);\n",
              "      fill: #174EA6;\n",
              "    }\n",
              "\n",
              "    [theme=dark] .colab-df-convert {\n",
              "      background-color: #3B4455;\n",
              "      fill: #D2E3FC;\n",
              "    }\n",
              "\n",
              "    [theme=dark] .colab-df-convert:hover {\n",
              "      background-color: #434B5C;\n",
              "      box-shadow: 0px 1px 3px 1px rgba(0, 0, 0, 0.15);\n",
              "      filter: drop-shadow(0px 1px 2px rgba(0, 0, 0, 0.3));\n",
              "      fill: #FFFFFF;\n",
              "    }\n",
              "  </style>\n",
              "\n",
              "      <script>\n",
              "        const buttonEl =\n",
              "          document.querySelector('#df-475afb1b-71e5-43f7-ac4f-379329c45a38 button.colab-df-convert');\n",
              "        buttonEl.style.display =\n",
              "          google.colab.kernel.accessAllowed ? 'block' : 'none';\n",
              "\n",
              "        async function convertToInteractive(key) {\n",
              "          const element = document.querySelector('#df-475afb1b-71e5-43f7-ac4f-379329c45a38');\n",
              "          const dataTable =\n",
              "            await google.colab.kernel.invokeFunction('convertToInteractive',\n",
              "                                                     [key], {});\n",
              "          if (!dataTable) return;\n",
              "\n",
              "          const docLinkHtml = 'Like what you see? Visit the ' +\n",
              "            '<a target=\"_blank\" href=https://colab.research.google.com/notebooks/data_table.ipynb>data table notebook</a>'\n",
              "            + ' to learn more about interactive tables.';\n",
              "          element.innerHTML = '';\n",
              "          dataTable['output_type'] = 'display_data';\n",
              "          await google.colab.output.renderOutput(dataTable, element);\n",
              "          const docLink = document.createElement('div');\n",
              "          docLink.innerHTML = docLinkHtml;\n",
              "          element.appendChild(docLink);\n",
              "        }\n",
              "      </script>\n",
              "    </div>\n",
              "  </div>\n",
              "  "
            ],
            "text/plain": [
              "          DIA   AÑO  ...  PROVINCIA_DESTINO  INTERPROVINCIAL\n",
              "0  2017-11-01  2017  ...                  3                0\n",
              "1  2017-11-03  2017  ...                  3                0\n",
              "\n",
              "[2 rows x 16 columns]"
            ]
          },
          "metadata": {},
          "execution_count": 17
        }
      ]
    },
    {
      "cell_type": "markdown",
      "source": [
        "# Clasificacion multioutput\n",
        "\n",
        "Esta estrategia consiste en ajustar un clasificador por cada objetivo. Esto permite clasificar múltiples variables objetivo. \n",
        "\n",
        "Para ello utilizaremos la clase Multioutput de sklearn. El propósito de esta clase es ampliar los estimadores para poder estimar una serie de funciones objetivo (f1,f2,f3...,fn) que se entrenan en una única matriz de predicción X para predecir una serie de respuestas (y1,y2,y3...,yn). Se trata de una estrategia sencilla para ampliar los clasificadores que no admiten de forma nativa la clasificación multiobjetivo.\n"
      ],
      "metadata": {
        "id": "c0DzK72RI5BR"
      }
    },
    {
      "cell_type": "code",
      "source": [
        "features_selected = ['MES','AÑO','INTERPROVINCIAL','ASIENTOS_OFERTADOS','VIAJES_OFERTADOS']"
      ],
      "metadata": {
        "id": "AmSK4ZvVJBx_"
      },
      "execution_count": 18,
      "outputs": []
    },
    {
      "cell_type": "code",
      "source": [
        "from sklearn.neighbors import KNeighborsClassifier\n",
        "from sklearn.model_selection import cross_val_predict\n",
        "from sklearn.multioutput import MultiOutputClassifier\n",
        "from sklearn.model_selection import train_test_split\n",
        "import numpy as np\n",
        "\n",
        "\n",
        "X = clm_encoded[features_selected]\n",
        "y = clm_encoded[['DESTINO','ORIGEN','Festivo']]\n",
        "\n",
        "X_train, X_test, y_train, y_test = train_test_split( X, y, test_size=0.3, random_state=42)\n",
        "\n",
        "y_train_origen = (list((y_train['ORIGEN'].tolist())))\n",
        "y_train_destino = (list((y_train['DESTINO'].tolist())))\n",
        "y_train_festivo = (list((y_train['Festivo'].tolist())))\n",
        "\n",
        "y_multilabel = np.c_[y_train_origen, y_train_destino,y_train_festivo]\n",
        "\n",
        "classifier_clm = MultiOutputClassifier(KNeighborsClassifier(n_neighbors=2, n_jobs=-1))\n",
        "classifier_clm.fit(X_train, y_multilabel)\n",
        "\n",
        "predictions = classifier_clm.predict(X_test)\n",
        "\n",
        "cross_val_predict(classifier_clm, X_train, y_train, cv=3)"
      ],
      "metadata": {
        "colab": {
          "base_uri": "https://localhost:8080/"
        },
        "id": "64lR4V1a5LXO",
        "outputId": "b4810dae-98ca-4e06-8116-15e3434111ce"
      },
      "execution_count": 19,
      "outputs": [
        {
          "output_type": "execute_result",
          "data": {
            "text/plain": [
              "array([['Albacete', 'Ciudad Real', 'No'],\n",
              "       ['Camuñas', 'Molina de Aragón', 'No'],\n",
              "       ['Albacete', 'Guadalajara', 'No'],\n",
              "       ...,\n",
              "       ['Cuenca', 'Albacete', 'No'],\n",
              "       ['Albacete', 'Albacete', 'No'],\n",
              "       ['Ciudad Real', 'Albacete', 'No']], dtype=object)"
            ]
          },
          "metadata": {},
          "execution_count": 19
        }
      ]
    },
    {
      "cell_type": "code",
      "source": [
        "classifier_clm.score(X_train, y_train)"
      ],
      "metadata": {
        "colab": {
          "base_uri": "https://localhost:8080/"
        },
        "id": "HQOUq5KmA5wI",
        "outputId": "95795111-9ac7-4c3c-9a43-97d27edad29c"
      },
      "execution_count": 20,
      "outputs": [
        {
          "output_type": "execute_result",
          "data": {
            "text/plain": [
              "0.006368554406628775"
            ]
          },
          "metadata": {},
          "execution_count": 20
        }
      ]
    },
    {
      "cell_type": "code",
      "source": [
        "X = andalucia_encoded[features_selected]\n",
        "y = andalucia_encoded[['DESTINO','ORIGEN','Festivo']]\n",
        "\n",
        "X_train, X_test, y_train, y_test = train_test_split( X, y, test_size=0.3, random_state=42)\n",
        "\n",
        "y_train_origen = (list((y_train['ORIGEN'].tolist())))\n",
        "y_train_destino = (list((y_train['DESTINO'].tolist())))\n",
        "y_train_festivo = (list((y_train['Festivo'].tolist())))\n",
        "\n",
        "y_multilabel = np.c_[y_train_origen, y_train_destino,y_train_festivo]\n",
        "\n",
        "classifier_andalucia = MultiOutputClassifier(KNeighborsClassifier(n_jobs=-1))\n",
        "classifier_andalucia.fit(X_train, y_multilabel)\n",
        "\n",
        "predictions = classifier_andalucia.predict(X_test)\n",
        "\n",
        "cross_val_predict(classifier_andalucia, X_train, y_train, cv=3)"
      ],
      "metadata": {
        "colab": {
          "base_uri": "https://localhost:8080/"
        },
        "id": "XZyQ0k0nGDrL",
        "outputId": "0d9e8019-2890-4b18-9361-df243c4d5e11"
      },
      "execution_count": 21,
      "outputs": [
        {
          "output_type": "execute_result",
          "data": {
            "text/plain": [
              "array([['Granada', 'Almería', 'No'],\n",
              "       ['Almería', 'Almería', 'No'],\n",
              "       ['Almería', 'Algeciras', 'No'],\n",
              "       ...,\n",
              "       ['Sevilla', 'Armilla', 'No'],\n",
              "       ['Córdoba', 'Albuñol', 'No'],\n",
              "       ['Almería', 'Marbella', 'Si']], dtype=object)"
            ]
          },
          "metadata": {},
          "execution_count": 21
        }
      ]
    },
    {
      "cell_type": "code",
      "source": [
        "classifier_andalucia.score(X_test, y_test)"
      ],
      "metadata": {
        "colab": {
          "base_uri": "https://localhost:8080/"
        },
        "id": "kHBZiBFHGODT",
        "outputId": "9ce6dd44-ec03-4942-9260-09bfb5eedd8c"
      },
      "execution_count": 22,
      "outputs": [
        {
          "output_type": "execute_result",
          "data": {
            "text/plain": [
              "0.008697183575599116"
            ]
          },
          "metadata": {},
          "execution_count": 22
        }
      ]
    },
    {
      "cell_type": "markdown",
      "source": [
        "Modelo bastante bueno."
      ],
      "metadata": {
        "id": "MUhnSKLYKYZz"
      }
    },
    {
      "cell_type": "markdown",
      "source": [
        "# Predicciones\n",
        "\n",
        "Ahora es el turno de predecir. Primero, el usuario deberá facilitar al sistema ciertos valores como: mes, año, si es interprovincial o no, el número de asientos y el número de viajes."
      ],
      "metadata": {
        "id": "IHLWBu8ePdwE"
      }
    },
    {
      "cell_type": "markdown",
      "source": [
        "## Predicción para el usuario en Castilla-la Mancha"
      ],
      "metadata": {
        "id": "5KPwEgDZKa4S"
      }
    },
    {
      "cell_type": "code",
      "source": [
        "from collections import Counter"
      ],
      "metadata": {
        "id": "HYm4k1-1Ka4X"
      },
      "execution_count": 23,
      "outputs": []
    },
    {
      "cell_type": "code",
      "source": [
        "interprovincial_clm = clm.INTERPROVINCIAL.astype('category')\n",
        "interprovincial_dic_clm =dict(enumerate(interprovincial_clm.cat.categories))"
      ],
      "metadata": {
        "id": "cGuqh2_iKa4X"
      },
      "execution_count": 24,
      "outputs": []
    },
    {
      "cell_type": "code",
      "source": [
        "#@title Mes del viaje\n",
        "\n",
        "mes_clm = 3 #@param {type:\"slider\", min:1, max:12, step:1}"
      ],
      "metadata": {
        "id": "SXfmN0X8Ka4X",
        "cellView": "form"
      },
      "execution_count": 25,
      "outputs": []
    },
    {
      "cell_type": "code",
      "source": [
        "#@title Año del viaje\n",
        "\n",
        "año_clm = 2022 #@param [2021, 2022, 2023, 2024] {type:\"raw\"}"
      ],
      "metadata": {
        "id": "lMk5RUTiCnbe",
        "cellView": "form"
      },
      "execution_count": 26,
      "outputs": []
    },
    {
      "cell_type": "code",
      "source": [
        "#@title Interprovincial\n",
        "\n",
        "interprovincial_clm = True #@param [True, False] {type:\"raw\"}\n",
        "interprovincial_clm = 0 if interprovincial_clm == False else 1\n",
        "interprovincial_clm"
      ],
      "metadata": {
        "colab": {
          "base_uri": "https://localhost:8080/"
        },
        "outputId": "0d2e899c-4fa7-453c-dac2-0527db67c840",
        "id": "PkPe8Fj5Ka4Y",
        "cellView": "form"
      },
      "execution_count": 27,
      "outputs": [
        {
          "output_type": "execute_result",
          "data": {
            "text/plain": [
              "1"
            ]
          },
          "metadata": {},
          "execution_count": 27
        }
      ]
    },
    {
      "cell_type": "code",
      "source": [
        "#@title Número de asientos\n",
        "\n",
        "asientos_clm = 4 #@param {type:\"slider\", min:1, max:8, step:1}"
      ],
      "metadata": {
        "id": "cqWp8LvmKa4Y",
        "cellView": "form"
      },
      "execution_count": 28,
      "outputs": []
    },
    {
      "cell_type": "code",
      "source": [
        "#@title Número de viajes que harías\n",
        "\n",
        "viajes_clm = 5 #@param {type:\"slider\", min:1, max:10, step:1}"
      ],
      "metadata": {
        "id": "UoRJe1vAKa4Y",
        "cellView": "form"
      },
      "execution_count": 29,
      "outputs": []
    },
    {
      "cell_type": "code",
      "source": [
        "dic_caracteristicas_clm = {'MES':mes_clm,'AÑO':año_clm,'INTERPROVINCIAL':interprovincial_clm,'ASIENTOS_OFERTADOS':asientos_clm,  'VIAJES_OFERTADOS':viajes_clm}\n",
        "df_viaje_clm = pd.DataFrame(dic_caracteristicas_clm, index=[0])\n",
        "df_viaje_clm"
      ],
      "metadata": {
        "colab": {
          "base_uri": "https://localhost:8080/",
          "height": 81
        },
        "outputId": "d34ee87f-b7b7-47f5-ffa4-6e0c57a7ab5d",
        "id": "o0JHqZdHKa4Y"
      },
      "execution_count": 30,
      "outputs": [
        {
          "output_type": "execute_result",
          "data": {
            "text/html": [
              "\n",
              "  <div id=\"df-e95cdab4-90a8-4694-86ec-57d4a99d41c8\">\n",
              "    <div class=\"colab-df-container\">\n",
              "      <div>\n",
              "<style scoped>\n",
              "    .dataframe tbody tr th:only-of-type {\n",
              "        vertical-align: middle;\n",
              "    }\n",
              "\n",
              "    .dataframe tbody tr th {\n",
              "        vertical-align: top;\n",
              "    }\n",
              "\n",
              "    .dataframe thead th {\n",
              "        text-align: right;\n",
              "    }\n",
              "</style>\n",
              "<table border=\"1\" class=\"dataframe\">\n",
              "  <thead>\n",
              "    <tr style=\"text-align: right;\">\n",
              "      <th></th>\n",
              "      <th>MES</th>\n",
              "      <th>AÑO</th>\n",
              "      <th>INTERPROVINCIAL</th>\n",
              "      <th>ASIENTOS_OFERTADOS</th>\n",
              "      <th>VIAJES_OFERTADOS</th>\n",
              "    </tr>\n",
              "  </thead>\n",
              "  <tbody>\n",
              "    <tr>\n",
              "      <th>0</th>\n",
              "      <td>3</td>\n",
              "      <td>2022</td>\n",
              "      <td>1</td>\n",
              "      <td>4</td>\n",
              "      <td>5</td>\n",
              "    </tr>\n",
              "  </tbody>\n",
              "</table>\n",
              "</div>\n",
              "      <button class=\"colab-df-convert\" onclick=\"convertToInteractive('df-e95cdab4-90a8-4694-86ec-57d4a99d41c8')\"\n",
              "              title=\"Convert this dataframe to an interactive table.\"\n",
              "              style=\"display:none;\">\n",
              "        \n",
              "  <svg xmlns=\"http://www.w3.org/2000/svg\" height=\"24px\"viewBox=\"0 0 24 24\"\n",
              "       width=\"24px\">\n",
              "    <path d=\"M0 0h24v24H0V0z\" fill=\"none\"/>\n",
              "    <path d=\"M18.56 5.44l.94 2.06.94-2.06 2.06-.94-2.06-.94-.94-2.06-.94 2.06-2.06.94zm-11 1L8.5 8.5l.94-2.06 2.06-.94-2.06-.94L8.5 2.5l-.94 2.06-2.06.94zm10 10l.94 2.06.94-2.06 2.06-.94-2.06-.94-.94-2.06-.94 2.06-2.06.94z\"/><path d=\"M17.41 7.96l-1.37-1.37c-.4-.4-.92-.59-1.43-.59-.52 0-1.04.2-1.43.59L10.3 9.45l-7.72 7.72c-.78.78-.78 2.05 0 2.83L4 21.41c.39.39.9.59 1.41.59.51 0 1.02-.2 1.41-.59l7.78-7.78 2.81-2.81c.8-.78.8-2.07 0-2.86zM5.41 20L4 18.59l7.72-7.72 1.47 1.35L5.41 20z\"/>\n",
              "  </svg>\n",
              "      </button>\n",
              "      \n",
              "  <style>\n",
              "    .colab-df-container {\n",
              "      display:flex;\n",
              "      flex-wrap:wrap;\n",
              "      gap: 12px;\n",
              "    }\n",
              "\n",
              "    .colab-df-convert {\n",
              "      background-color: #E8F0FE;\n",
              "      border: none;\n",
              "      border-radius: 50%;\n",
              "      cursor: pointer;\n",
              "      display: none;\n",
              "      fill: #1967D2;\n",
              "      height: 32px;\n",
              "      padding: 0 0 0 0;\n",
              "      width: 32px;\n",
              "    }\n",
              "\n",
              "    .colab-df-convert:hover {\n",
              "      background-color: #E2EBFA;\n",
              "      box-shadow: 0px 1px 2px rgba(60, 64, 67, 0.3), 0px 1px 3px 1px rgba(60, 64, 67, 0.15);\n",
              "      fill: #174EA6;\n",
              "    }\n",
              "\n",
              "    [theme=dark] .colab-df-convert {\n",
              "      background-color: #3B4455;\n",
              "      fill: #D2E3FC;\n",
              "    }\n",
              "\n",
              "    [theme=dark] .colab-df-convert:hover {\n",
              "      background-color: #434B5C;\n",
              "      box-shadow: 0px 1px 3px 1px rgba(0, 0, 0, 0.15);\n",
              "      filter: drop-shadow(0px 1px 2px rgba(0, 0, 0, 0.3));\n",
              "      fill: #FFFFFF;\n",
              "    }\n",
              "  </style>\n",
              "\n",
              "      <script>\n",
              "        const buttonEl =\n",
              "          document.querySelector('#df-e95cdab4-90a8-4694-86ec-57d4a99d41c8 button.colab-df-convert');\n",
              "        buttonEl.style.display =\n",
              "          google.colab.kernel.accessAllowed ? 'block' : 'none';\n",
              "\n",
              "        async function convertToInteractive(key) {\n",
              "          const element = document.querySelector('#df-e95cdab4-90a8-4694-86ec-57d4a99d41c8');\n",
              "          const dataTable =\n",
              "            await google.colab.kernel.invokeFunction('convertToInteractive',\n",
              "                                                     [key], {});\n",
              "          if (!dataTable) return;\n",
              "\n",
              "          const docLinkHtml = 'Like what you see? Visit the ' +\n",
              "            '<a target=\"_blank\" href=https://colab.research.google.com/notebooks/data_table.ipynb>data table notebook</a>'\n",
              "            + ' to learn more about interactive tables.';\n",
              "          element.innerHTML = '';\n",
              "          dataTable['output_type'] = 'display_data';\n",
              "          await google.colab.output.renderOutput(dataTable, element);\n",
              "          const docLink = document.createElement('div');\n",
              "          docLink.innerHTML = docLinkHtml;\n",
              "          element.appendChild(docLink);\n",
              "        }\n",
              "      </script>\n",
              "    </div>\n",
              "  </div>\n",
              "  "
            ],
            "text/plain": [
              "   MES   AÑO  INTERPROVINCIAL  ASIENTOS_OFERTADOS  VIAJES_OFERTADOS\n",
              "0    3  2022                1                   4                 5"
            ]
          },
          "metadata": {},
          "execution_count": 30
        }
      ]
    },
    {
      "cell_type": "markdown",
      "source": [
        "### Resultado"
      ],
      "metadata": {
        "id": "2jbR7JjZu3e8"
      }
    },
    {
      "cell_type": "code",
      "source": [
        "pred_clm =  classifier_clm.predict(df_viaje_clm)\n",
        "\n",
        "print(\"Ruta que se realizará\\n Origen: {origen}\\n Destino: {destino}\\n Festivo: {festivo}\".format(origen = pred_clm[0][0],destino=  pred_clm[0][1], festivo = pred_clm[0][2]))"
      ],
      "metadata": {
        "colab": {
          "base_uri": "https://localhost:8080/"
        },
        "outputId": "3933f5a0-08cf-4140-9697-c57d9543e3d2",
        "id": "RgdL61d9Ka4Y"
      },
      "execution_count": 31,
      "outputs": [
        {
          "output_type": "stream",
          "name": "stdout",
          "text": [
            "Ruta que se realizará\n",
            " Origen: Albacete\n",
            " Destino: Alcázar de San Juan\n",
            " Festivo: No\n"
          ]
        }
      ]
    },
    {
      "cell_type": "markdown",
      "source": [
        "## Predicción para el usuario en Andalucía"
      ],
      "metadata": {
        "id": "takcTsdaF0Qz"
      }
    },
    {
      "cell_type": "code",
      "source": [
        "interprovincial_andalucia = andalucia.INTERPROVINCIAL.astype('category')\n",
        "interprovincial_dic_andalucia =dict(enumerate(interprovincial_andalucia.cat.categories))"
      ],
      "metadata": {
        "id": "HHMnz3lsF0Qz"
      },
      "execution_count": 32,
      "outputs": []
    },
    {
      "cell_type": "code",
      "source": [
        "#@title Mes del viaje\n",
        "\n",
        "mes_andalucia = 3 #@param {type:\"slider\", min:1, max:12, step:1}"
      ],
      "metadata": {
        "id": "ZpF13da5F0Qz",
        "cellView": "form"
      },
      "execution_count": 33,
      "outputs": []
    },
    {
      "cell_type": "code",
      "source": [
        "#@title Año del viaje\n",
        "\n",
        "año_andalucia = 2022 #@param [2021, 2022, 2023, 2024] {type:\"raw\"}"
      ],
      "metadata": {
        "id": "QUZLl6ieF0Qz",
        "cellView": "form"
      },
      "execution_count": 34,
      "outputs": []
    },
    {
      "cell_type": "code",
      "source": [
        "#@title Interprovincial\n",
        "\n",
        "interprovincial_andalucia = False #@param [\"False\", \"True\"] {type:\"raw\"}\n",
        "interprovincial_andalucia = 0 if interprovincial_andalucia == False else 1\n",
        "interprovincial_andalucia"
      ],
      "metadata": {
        "colab": {
          "base_uri": "https://localhost:8080/"
        },
        "id": "8RwyAIf3Dnhj",
        "outputId": "3bce87dc-956e-4486-aecd-74f443b815d0",
        "cellView": "form"
      },
      "execution_count": 35,
      "outputs": [
        {
          "output_type": "execute_result",
          "data": {
            "text/plain": [
              "0"
            ]
          },
          "metadata": {},
          "execution_count": 35
        }
      ]
    },
    {
      "cell_type": "code",
      "source": [
        "#@title Número de asientos\n",
        "\n",
        "asientos_andalucia = 4 #@param {type:\"slider\", min:1, max:8, step:1}"
      ],
      "metadata": {
        "id": "rt9LoZcqE4jh",
        "cellView": "form"
      },
      "execution_count": 36,
      "outputs": []
    },
    {
      "cell_type": "code",
      "source": [
        "#@title Número de viajes que harías\n",
        "\n",
        "viajes_andalucia = 5 #@param {type:\"slider\", min:1, max:10, step:1}"
      ],
      "metadata": {
        "id": "hj0MqCiwFbAZ",
        "cellView": "form"
      },
      "execution_count": 37,
      "outputs": []
    },
    {
      "cell_type": "code",
      "source": [
        "dic_caracteristicas_andalucia = {'MES':mes_andalucia,'AÑO':año_andalucia,'INTERPROVINCIAL':interprovincial_andalucia,'ASIENTOS_OFERTADOS':asientos_andalucia,  'VIAJES_OFERTADOS':viajes_andalucia}\n",
        "df_viaje_andalucia = pd.DataFrame(dic_caracteristicas_andalucia, index=[0])\n",
        "df_viaje_andalucia"
      ],
      "metadata": {
        "colab": {
          "base_uri": "https://localhost:8080/",
          "height": 81
        },
        "id": "NkLpQRJOEWih",
        "outputId": "0d3b04f3-e2d2-43d2-d63e-3941fff6b77a"
      },
      "execution_count": 38,
      "outputs": [
        {
          "output_type": "execute_result",
          "data": {
            "text/html": [
              "\n",
              "  <div id=\"df-91539e93-1fe0-4262-9aec-f81497e4d0ad\">\n",
              "    <div class=\"colab-df-container\">\n",
              "      <div>\n",
              "<style scoped>\n",
              "    .dataframe tbody tr th:only-of-type {\n",
              "        vertical-align: middle;\n",
              "    }\n",
              "\n",
              "    .dataframe tbody tr th {\n",
              "        vertical-align: top;\n",
              "    }\n",
              "\n",
              "    .dataframe thead th {\n",
              "        text-align: right;\n",
              "    }\n",
              "</style>\n",
              "<table border=\"1\" class=\"dataframe\">\n",
              "  <thead>\n",
              "    <tr style=\"text-align: right;\">\n",
              "      <th></th>\n",
              "      <th>MES</th>\n",
              "      <th>AÑO</th>\n",
              "      <th>INTERPROVINCIAL</th>\n",
              "      <th>ASIENTOS_OFERTADOS</th>\n",
              "      <th>VIAJES_OFERTADOS</th>\n",
              "    </tr>\n",
              "  </thead>\n",
              "  <tbody>\n",
              "    <tr>\n",
              "      <th>0</th>\n",
              "      <td>3</td>\n",
              "      <td>2022</td>\n",
              "      <td>0</td>\n",
              "      <td>4</td>\n",
              "      <td>5</td>\n",
              "    </tr>\n",
              "  </tbody>\n",
              "</table>\n",
              "</div>\n",
              "      <button class=\"colab-df-convert\" onclick=\"convertToInteractive('df-91539e93-1fe0-4262-9aec-f81497e4d0ad')\"\n",
              "              title=\"Convert this dataframe to an interactive table.\"\n",
              "              style=\"display:none;\">\n",
              "        \n",
              "  <svg xmlns=\"http://www.w3.org/2000/svg\" height=\"24px\"viewBox=\"0 0 24 24\"\n",
              "       width=\"24px\">\n",
              "    <path d=\"M0 0h24v24H0V0z\" fill=\"none\"/>\n",
              "    <path d=\"M18.56 5.44l.94 2.06.94-2.06 2.06-.94-2.06-.94-.94-2.06-.94 2.06-2.06.94zm-11 1L8.5 8.5l.94-2.06 2.06-.94-2.06-.94L8.5 2.5l-.94 2.06-2.06.94zm10 10l.94 2.06.94-2.06 2.06-.94-2.06-.94-.94-2.06-.94 2.06-2.06.94z\"/><path d=\"M17.41 7.96l-1.37-1.37c-.4-.4-.92-.59-1.43-.59-.52 0-1.04.2-1.43.59L10.3 9.45l-7.72 7.72c-.78.78-.78 2.05 0 2.83L4 21.41c.39.39.9.59 1.41.59.51 0 1.02-.2 1.41-.59l7.78-7.78 2.81-2.81c.8-.78.8-2.07 0-2.86zM5.41 20L4 18.59l7.72-7.72 1.47 1.35L5.41 20z\"/>\n",
              "  </svg>\n",
              "      </button>\n",
              "      \n",
              "  <style>\n",
              "    .colab-df-container {\n",
              "      display:flex;\n",
              "      flex-wrap:wrap;\n",
              "      gap: 12px;\n",
              "    }\n",
              "\n",
              "    .colab-df-convert {\n",
              "      background-color: #E8F0FE;\n",
              "      border: none;\n",
              "      border-radius: 50%;\n",
              "      cursor: pointer;\n",
              "      display: none;\n",
              "      fill: #1967D2;\n",
              "      height: 32px;\n",
              "      padding: 0 0 0 0;\n",
              "      width: 32px;\n",
              "    }\n",
              "\n",
              "    .colab-df-convert:hover {\n",
              "      background-color: #E2EBFA;\n",
              "      box-shadow: 0px 1px 2px rgba(60, 64, 67, 0.3), 0px 1px 3px 1px rgba(60, 64, 67, 0.15);\n",
              "      fill: #174EA6;\n",
              "    }\n",
              "\n",
              "    [theme=dark] .colab-df-convert {\n",
              "      background-color: #3B4455;\n",
              "      fill: #D2E3FC;\n",
              "    }\n",
              "\n",
              "    [theme=dark] .colab-df-convert:hover {\n",
              "      background-color: #434B5C;\n",
              "      box-shadow: 0px 1px 3px 1px rgba(0, 0, 0, 0.15);\n",
              "      filter: drop-shadow(0px 1px 2px rgba(0, 0, 0, 0.3));\n",
              "      fill: #FFFFFF;\n",
              "    }\n",
              "  </style>\n",
              "\n",
              "      <script>\n",
              "        const buttonEl =\n",
              "          document.querySelector('#df-91539e93-1fe0-4262-9aec-f81497e4d0ad button.colab-df-convert');\n",
              "        buttonEl.style.display =\n",
              "          google.colab.kernel.accessAllowed ? 'block' : 'none';\n",
              "\n",
              "        async function convertToInteractive(key) {\n",
              "          const element = document.querySelector('#df-91539e93-1fe0-4262-9aec-f81497e4d0ad');\n",
              "          const dataTable =\n",
              "            await google.colab.kernel.invokeFunction('convertToInteractive',\n",
              "                                                     [key], {});\n",
              "          if (!dataTable) return;\n",
              "\n",
              "          const docLinkHtml = 'Like what you see? Visit the ' +\n",
              "            '<a target=\"_blank\" href=https://colab.research.google.com/notebooks/data_table.ipynb>data table notebook</a>'\n",
              "            + ' to learn more about interactive tables.';\n",
              "          element.innerHTML = '';\n",
              "          dataTable['output_type'] = 'display_data';\n",
              "          await google.colab.output.renderOutput(dataTable, element);\n",
              "          const docLink = document.createElement('div');\n",
              "          docLink.innerHTML = docLinkHtml;\n",
              "          element.appendChild(docLink);\n",
              "        }\n",
              "      </script>\n",
              "    </div>\n",
              "  </div>\n",
              "  "
            ],
            "text/plain": [
              "   MES   AÑO  INTERPROVINCIAL  ASIENTOS_OFERTADOS  VIAJES_OFERTADOS\n",
              "0    3  2022                0                   4                 5"
            ]
          },
          "metadata": {},
          "execution_count": 38
        }
      ]
    },
    {
      "cell_type": "markdown",
      "source": [
        "### Resultado"
      ],
      "metadata": {
        "id": "mD7Cna3YvMXI"
      }
    },
    {
      "cell_type": "code",
      "source": [
        "pred_andalucia =  classifier_andalucia.predict(df_viaje_clm)\n",
        "\n",
        "print(\"Ruta que se realizará\\n Origen: {origen}\\n Destino: {destino}\\n Festivo: {festivo}\".format(origen = pred_andalucia[0][0],destino= pred_andalucia[0][1], festivo = pred_andalucia[0][2]))"
      ],
      "metadata": {
        "colab": {
          "base_uri": "https://localhost:8080/"
        },
        "id": "XDw3I0HpNhmX",
        "outputId": "3797bdf3-53fd-4861-ec0b-5e5b7ee95779"
      },
      "execution_count": 39,
      "outputs": [
        {
          "output_type": "stream",
          "name": "stdout",
          "text": [
            "Ruta que se realizará\n",
            " Origen: Estepona\n",
            " Destino: Granada\n",
            " Festivo: No\n"
          ]
        }
      ]
    },
    {
      "cell_type": "markdown",
      "source": [
        "# Guardar modelos\n",
        "\n",
        "Nos descargamos los modelos obtenidos."
      ],
      "metadata": {
        "id": "DRqP84HWn6su"
      }
    },
    {
      "cell_type": "code",
      "source": [
        "from joblib import dump, load\n",
        "dump(classifier_clm, 'clasificador_multiobjetivo_clm.joblib') "
      ],
      "metadata": {
        "colab": {
          "base_uri": "https://localhost:8080/"
        },
        "id": "veiI0nquOiFF",
        "outputId": "67474337-a198-4855-9732-bd1045d9bf97"
      },
      "execution_count": 42,
      "outputs": [
        {
          "output_type": "execute_result",
          "data": {
            "text/plain": [
              "['clasificador_multiobjetivo_clm.joblib']"
            ]
          },
          "metadata": {},
          "execution_count": 42
        }
      ]
    },
    {
      "cell_type": "code",
      "source": [
        "dump(classifier_andalucia, 'classifier__multiobjetivo_andalucia.joblib') "
      ],
      "metadata": {
        "colab": {
          "base_uri": "https://localhost:8080/"
        },
        "id": "2vEg28rujvC_",
        "outputId": "24911057-53a7-4841-c124-c208ca758f75"
      },
      "execution_count": 43,
      "outputs": [
        {
          "output_type": "execute_result",
          "data": {
            "text/plain": [
              "['classifier__multiobjetivo_andalucia.joblib']"
            ]
          },
          "metadata": {},
          "execution_count": 43
        }
      ]
    }
  ]
}